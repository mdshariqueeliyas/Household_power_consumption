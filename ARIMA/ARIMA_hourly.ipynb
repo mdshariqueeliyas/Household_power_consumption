{
  "nbformat": 4,
  "nbformat_minor": 0,
  "metadata": {
    "colab": {
      "name": "ARIMA_hourly.ipynb",
      "version": "0.3.2",
      "views": {},
      "default_view": {},
      "provenance": []
    },
    "kernelspec": {
      "name": "python2",
      "display_name": "Python 2"
    },
    "accelerator": "GPU"
  },
  "cells": [
    {
      "metadata": {
        "id": "nTFSYkLkBVPa",
        "colab_type": "code",
        "colab": {
          "autoexec": {
            "startup": false,
            "wait_interval": 0
          }
        }
      },
      "cell_type": "code",
      "source": [
        "!wget -q https://archive.ics.uci.edu/ml/machine-learning-databases/00235/household_power_consumption.zip\n",
        "!unzip -q household_power_consumption.zip"
      ],
      "execution_count": 0,
      "outputs": []
    },
    {
      "metadata": {
        "id": "rii9ix8SFqw8",
        "colab_type": "code",
        "colab": {
          "autoexec": {
            "startup": false,
            "wait_interval": 0
          },
          "output_extras": [
            {
              "item_id": 1
            },
            {
              "item_id": 2
            }
          ],
          "base_uri": "https://localhost:8080/",
          "height": 258
        },
        "outputId": "1e192750-e0ba-44e7-b184-fdc0514557f3",
        "executionInfo": {
          "status": "ok",
          "timestamp": 1523010293610,
          "user_tz": -330,
          "elapsed": 14912,
          "user": {
            "displayName": "Sharique Eliyas",
            "photoUrl": "//lh5.googleusercontent.com/-1NjURNXzbSA/AAAAAAAAAAI/AAAAAAAAABw/RxYorZL6W6c/s50-c-k-no/photo.jpg",
            "userId": "118408623472071970071"
          }
        }
      },
      "cell_type": "code",
      "source": [
        "import numpy as np\n",
        "import pandas as pd\n",
        "import matplotlib.pyplot as plt\n",
        "from pandas.tools.plotting import autocorrelation_plot\n",
        "%matplotlib inline\n",
        "#\n",
        "df = pd.read_csv('household_power_consumption.txt',sep=';')\n",
        "#\n",
        "df['TimeStamp'] = df['Date']+' '+df['Time']\n",
        "df['TimeStamp'] = pd.to_datetime(df['TimeStamp'],format = \"%d/%m/%Y %H:%M:%S\")\n",
        "df.index = df['TimeStamp']\n",
        "df.index.name = None\n",
        "df = df.drop(['Date','Time'],axis = 1)\n",
        "df.head()"
      ],
      "execution_count": 2,
      "outputs": [
        {
          "output_type": "stream",
          "text": [
            "/usr/local/lib/python2.7/dist-packages/IPython/core/interactiveshell.py:2718: DtypeWarning: Columns (2,3,4,5,6,7) have mixed types. Specify dtype option on import or set low_memory=False.\n",
            "  interactivity=interactivity, compiler=compiler, result=result)\n"
          ],
          "name": "stderr"
        },
        {
          "output_type": "execute_result",
          "data": {
            "text/html": [
              "<div>\n",
              "<style scoped>\n",
              "    .dataframe tbody tr th:only-of-type {\n",
              "        vertical-align: middle;\n",
              "    }\n",
              "\n",
              "    .dataframe tbody tr th {\n",
              "        vertical-align: top;\n",
              "    }\n",
              "\n",
              "    .dataframe thead th {\n",
              "        text-align: right;\n",
              "    }\n",
              "</style>\n",
              "<table border=\"1\" class=\"dataframe\">\n",
              "  <thead>\n",
              "    <tr style=\"text-align: right;\">\n",
              "      <th></th>\n",
              "      <th>Global_active_power</th>\n",
              "      <th>Global_reactive_power</th>\n",
              "      <th>Voltage</th>\n",
              "      <th>Global_intensity</th>\n",
              "      <th>Sub_metering_1</th>\n",
              "      <th>Sub_metering_2</th>\n",
              "      <th>Sub_metering_3</th>\n",
              "      <th>TimeStamp</th>\n",
              "    </tr>\n",
              "  </thead>\n",
              "  <tbody>\n",
              "    <tr>\n",
              "      <th>2006-12-16 17:24:00</th>\n",
              "      <td>4.216</td>\n",
              "      <td>0.418</td>\n",
              "      <td>234.840</td>\n",
              "      <td>18.400</td>\n",
              "      <td>0.000</td>\n",
              "      <td>1.000</td>\n",
              "      <td>17.0</td>\n",
              "      <td>2006-12-16 17:24:00</td>\n",
              "    </tr>\n",
              "    <tr>\n",
              "      <th>2006-12-16 17:25:00</th>\n",
              "      <td>5.360</td>\n",
              "      <td>0.436</td>\n",
              "      <td>233.630</td>\n",
              "      <td>23.000</td>\n",
              "      <td>0.000</td>\n",
              "      <td>1.000</td>\n",
              "      <td>16.0</td>\n",
              "      <td>2006-12-16 17:25:00</td>\n",
              "    </tr>\n",
              "    <tr>\n",
              "      <th>2006-12-16 17:26:00</th>\n",
              "      <td>5.374</td>\n",
              "      <td>0.498</td>\n",
              "      <td>233.290</td>\n",
              "      <td>23.000</td>\n",
              "      <td>0.000</td>\n",
              "      <td>2.000</td>\n",
              "      <td>17.0</td>\n",
              "      <td>2006-12-16 17:26:00</td>\n",
              "    </tr>\n",
              "    <tr>\n",
              "      <th>2006-12-16 17:27:00</th>\n",
              "      <td>5.388</td>\n",
              "      <td>0.502</td>\n",
              "      <td>233.740</td>\n",
              "      <td>23.000</td>\n",
              "      <td>0.000</td>\n",
              "      <td>1.000</td>\n",
              "      <td>17.0</td>\n",
              "      <td>2006-12-16 17:27:00</td>\n",
              "    </tr>\n",
              "    <tr>\n",
              "      <th>2006-12-16 17:28:00</th>\n",
              "      <td>3.666</td>\n",
              "      <td>0.528</td>\n",
              "      <td>235.680</td>\n",
              "      <td>15.800</td>\n",
              "      <td>0.000</td>\n",
              "      <td>1.000</td>\n",
              "      <td>17.0</td>\n",
              "      <td>2006-12-16 17:28:00</td>\n",
              "    </tr>\n",
              "  </tbody>\n",
              "</table>\n",
              "</div>"
            ],
            "text/plain": [
              "                    Global_active_power Global_reactive_power  Voltage  \\\n",
              "2006-12-16 17:24:00               4.216                 0.418  234.840   \n",
              "2006-12-16 17:25:00               5.360                 0.436  233.630   \n",
              "2006-12-16 17:26:00               5.374                 0.498  233.290   \n",
              "2006-12-16 17:27:00               5.388                 0.502  233.740   \n",
              "2006-12-16 17:28:00               3.666                 0.528  235.680   \n",
              "\n",
              "                    Global_intensity Sub_metering_1 Sub_metering_2  \\\n",
              "2006-12-16 17:24:00           18.400          0.000          1.000   \n",
              "2006-12-16 17:25:00           23.000          0.000          1.000   \n",
              "2006-12-16 17:26:00           23.000          0.000          2.000   \n",
              "2006-12-16 17:27:00           23.000          0.000          1.000   \n",
              "2006-12-16 17:28:00           15.800          0.000          1.000   \n",
              "\n",
              "                     Sub_metering_3           TimeStamp  \n",
              "2006-12-16 17:24:00            17.0 2006-12-16 17:24:00  \n",
              "2006-12-16 17:25:00            16.0 2006-12-16 17:25:00  \n",
              "2006-12-16 17:26:00            17.0 2006-12-16 17:26:00  \n",
              "2006-12-16 17:27:00            17.0 2006-12-16 17:27:00  \n",
              "2006-12-16 17:28:00            17.0 2006-12-16 17:28:00  "
            ]
          },
          "metadata": {
            "tags": []
          },
          "execution_count": 2
        }
      ]
    },
    {
      "metadata": {
        "id": "xSyaN8e4FvnL",
        "colab_type": "code",
        "colab": {
          "autoexec": {
            "startup": false,
            "wait_interval": 0
          },
          "output_extras": [
            {
              "item_id": 1
            },
            {
              "item_id": 2
            }
          ],
          "base_uri": "https://localhost:8080/",
          "height": 275
        },
        "outputId": "f1957346-335a-4d54-eba1-9cbe7f5deef8",
        "executionInfo": {
          "status": "ok",
          "timestamp": 1523010299443,
          "user_tz": -330,
          "elapsed": 5764,
          "user": {
            "displayName": "Sharique Eliyas",
            "photoUrl": "//lh5.googleusercontent.com/-1NjURNXzbSA/AAAAAAAAAAI/AAAAAAAAABw/RxYorZL6W6c/s50-c-k-no/photo.jpg",
            "userId": "118408623472071970071"
          }
        }
      },
      "cell_type": "code",
      "source": [
        "#@title Default title text\n",
        "df = df.convert_objects(convert_numeric=True)\n",
        "df = df.ffill()\n",
        "#\n",
        "newdf = df[['Global_active_power']]\n",
        "newdf.head()"
      ],
      "execution_count": 3,
      "outputs": [
        {
          "output_type": "stream",
          "text": [
            "/usr/local/lib/python2.7/dist-packages/ipykernel_launcher.py:1: FutureWarning: convert_objects is deprecated.  To re-infer data dtypes for object columns, use DataFrame.infer_objects()\n",
            "For all other conversions use the data-type specific converters pd.to_datetime, pd.to_timedelta and pd.to_numeric.\n",
            "  \"\"\"Entry point for launching an IPython kernel.\n"
          ],
          "name": "stderr"
        },
        {
          "output_type": "execute_result",
          "data": {
            "text/html": [
              "<div>\n",
              "<style scoped>\n",
              "    .dataframe tbody tr th:only-of-type {\n",
              "        vertical-align: middle;\n",
              "    }\n",
              "\n",
              "    .dataframe tbody tr th {\n",
              "        vertical-align: top;\n",
              "    }\n",
              "\n",
              "    .dataframe thead th {\n",
              "        text-align: right;\n",
              "    }\n",
              "</style>\n",
              "<table border=\"1\" class=\"dataframe\">\n",
              "  <thead>\n",
              "    <tr style=\"text-align: right;\">\n",
              "      <th></th>\n",
              "      <th>Global_active_power</th>\n",
              "    </tr>\n",
              "  </thead>\n",
              "  <tbody>\n",
              "    <tr>\n",
              "      <th>2006-12-16 17:24:00</th>\n",
              "      <td>4.216</td>\n",
              "    </tr>\n",
              "    <tr>\n",
              "      <th>2006-12-16 17:25:00</th>\n",
              "      <td>5.360</td>\n",
              "    </tr>\n",
              "    <tr>\n",
              "      <th>2006-12-16 17:26:00</th>\n",
              "      <td>5.374</td>\n",
              "    </tr>\n",
              "    <tr>\n",
              "      <th>2006-12-16 17:27:00</th>\n",
              "      <td>5.388</td>\n",
              "    </tr>\n",
              "    <tr>\n",
              "      <th>2006-12-16 17:28:00</th>\n",
              "      <td>3.666</td>\n",
              "    </tr>\n",
              "  </tbody>\n",
              "</table>\n",
              "</div>"
            ],
            "text/plain": [
              "                     Global_active_power\n",
              "2006-12-16 17:24:00                4.216\n",
              "2006-12-16 17:25:00                5.360\n",
              "2006-12-16 17:26:00                5.374\n",
              "2006-12-16 17:27:00                5.388\n",
              "2006-12-16 17:28:00                3.666"
            ]
          },
          "metadata": {
            "tags": []
          },
          "execution_count": 3
        }
      ]
    },
    {
      "metadata": {
        "id": "o3CZ0AnSFwAu",
        "colab_type": "code",
        "colab": {
          "autoexec": {
            "startup": false,
            "wait_interval": 0
          }
        }
      },
      "cell_type": "code",
      "source": [
        "df_hourly = pd.DataFrame(newdf.Global_active_power.resample('H').sum())"
      ],
      "execution_count": 0,
      "outputs": []
    },
    {
      "metadata": {
        "id": "8UpA29FDInse",
        "colab_type": "code",
        "colab": {
          "autoexec": {
            "startup": false,
            "wait_interval": 0
          },
          "output_extras": [
            {
              "item_id": 1
            }
          ],
          "base_uri": "https://localhost:8080/",
          "height": 204
        },
        "outputId": "30a64d86-8be4-4464-8186-3d391a1e0d67",
        "executionInfo": {
          "status": "ok",
          "timestamp": 1523010305966,
          "user_tz": -330,
          "elapsed": 880,
          "user": {
            "displayName": "Sharique Eliyas",
            "photoUrl": "//lh5.googleusercontent.com/-1NjURNXzbSA/AAAAAAAAAAI/AAAAAAAAABw/RxYorZL6W6c/s50-c-k-no/photo.jpg",
            "userId": "118408623472071970071"
          }
        }
      },
      "cell_type": "code",
      "source": [
        "df_hourly.head()"
      ],
      "execution_count": 5,
      "outputs": [
        {
          "output_type": "execute_result",
          "data": {
            "text/html": [
              "<div>\n",
              "<style scoped>\n",
              "    .dataframe tbody tr th:only-of-type {\n",
              "        vertical-align: middle;\n",
              "    }\n",
              "\n",
              "    .dataframe tbody tr th {\n",
              "        vertical-align: top;\n",
              "    }\n",
              "\n",
              "    .dataframe thead th {\n",
              "        text-align: right;\n",
              "    }\n",
              "</style>\n",
              "<table border=\"1\" class=\"dataframe\">\n",
              "  <thead>\n",
              "    <tr style=\"text-align: right;\">\n",
              "      <th></th>\n",
              "      <th>Global_active_power</th>\n",
              "    </tr>\n",
              "  </thead>\n",
              "  <tbody>\n",
              "    <tr>\n",
              "      <th>2006-12-16 17:00:00</th>\n",
              "      <td>152.024</td>\n",
              "    </tr>\n",
              "    <tr>\n",
              "      <th>2006-12-16 18:00:00</th>\n",
              "      <td>217.932</td>\n",
              "    </tr>\n",
              "    <tr>\n",
              "      <th>2006-12-16 19:00:00</th>\n",
              "      <td>204.014</td>\n",
              "    </tr>\n",
              "    <tr>\n",
              "      <th>2006-12-16 20:00:00</th>\n",
              "      <td>196.114</td>\n",
              "    </tr>\n",
              "    <tr>\n",
              "      <th>2006-12-16 21:00:00</th>\n",
              "      <td>183.388</td>\n",
              "    </tr>\n",
              "  </tbody>\n",
              "</table>\n",
              "</div>"
            ],
            "text/plain": [
              "                     Global_active_power\n",
              "2006-12-16 17:00:00              152.024\n",
              "2006-12-16 18:00:00              217.932\n",
              "2006-12-16 19:00:00              204.014\n",
              "2006-12-16 20:00:00              196.114\n",
              "2006-12-16 21:00:00              183.388"
            ]
          },
          "metadata": {
            "tags": []
          },
          "execution_count": 5
        }
      ]
    },
    {
      "metadata": {
        "id": "Bgw8yRyPJp9B",
        "colab_type": "code",
        "colab": {
          "autoexec": {
            "startup": false,
            "wait_interval": 0
          },
          "output_extras": [
            {
              "item_id": 1
            }
          ],
          "base_uri": "https://localhost:8080/",
          "height": 34
        },
        "outputId": "e8ed5b2e-aff8-4868-bcec-5f0caf8544a1",
        "executionInfo": {
          "status": "ok",
          "timestamp": 1523010308009,
          "user_tz": -330,
          "elapsed": 1775,
          "user": {
            "displayName": "Sharique Eliyas",
            "photoUrl": "//lh5.googleusercontent.com/-1NjURNXzbSA/AAAAAAAAAAI/AAAAAAAAABw/RxYorZL6W6c/s50-c-k-no/photo.jpg",
            "userId": "118408623472071970071"
          }
        }
      },
      "cell_type": "code",
      "source": [
        "df_hourly.shape"
      ],
      "execution_count": 6,
      "outputs": [
        {
          "output_type": "execute_result",
          "data": {
            "text/plain": [
              "(34589, 1)"
            ]
          },
          "metadata": {
            "tags": []
          },
          "execution_count": 6
        }
      ]
    },
    {
      "metadata": {
        "id": "Lmstg4S4JuAu",
        "colab_type": "code",
        "colab": {
          "autoexec": {
            "startup": false,
            "wait_interval": 0
          },
          "output_extras": [
            {
              "item_id": 1
            }
          ],
          "base_uri": "https://localhost:8080/",
          "height": 34
        },
        "outputId": "16d44cba-1bcc-4cbe-d711-14fbb9a18735",
        "executionInfo": {
          "status": "ok",
          "timestamp": 1523010315211,
          "user_tz": -330,
          "elapsed": 6858,
          "user": {
            "displayName": "Sharique Eliyas",
            "photoUrl": "//lh5.googleusercontent.com/-1NjURNXzbSA/AAAAAAAAAAI/AAAAAAAAABw/RxYorZL6W6c/s50-c-k-no/photo.jpg",
            "userId": "118408623472071970071"
          }
        }
      },
      "cell_type": "code",
      "source": [
        "type(df_hourly)"
      ],
      "execution_count": 7,
      "outputs": [
        {
          "output_type": "execute_result",
          "data": {
            "text/plain": [
              "pandas.core.frame.DataFrame"
            ]
          },
          "metadata": {
            "tags": []
          },
          "execution_count": 7
        }
      ]
    },
    {
      "metadata": {
        "id": "YGRFflfaeLWY",
        "colab_type": "code",
        "colab": {
          "autoexec": {
            "startup": false,
            "wait_interval": 0
          },
          "output_extras": [
            {
              "item_id": 1
            }
          ],
          "base_uri": "https://localhost:8080/",
          "height": 136
        },
        "outputId": "f05e6de0-21bb-461c-df6f-b34d532cca98",
        "executionInfo": {
          "status": "ok",
          "timestamp": 1523010317691,
          "user_tz": -330,
          "elapsed": 2227,
          "user": {
            "displayName": "Sharique Eliyas",
            "photoUrl": "//lh5.googleusercontent.com/-1NjURNXzbSA/AAAAAAAAAAI/AAAAAAAAABw/RxYorZL6W6c/s50-c-k-no/photo.jpg",
            "userId": "118408623472071970071"
          }
        }
      },
      "cell_type": "code",
      "source": [
        "df_hourly.info()"
      ],
      "execution_count": 8,
      "outputs": [
        {
          "output_type": "stream",
          "text": [
            "<class 'pandas.core.frame.DataFrame'>\n",
            "DatetimeIndex: 34589 entries, 2006-12-16 17:00:00 to 2010-11-26 21:00:00\n",
            "Freq: H\n",
            "Data columns (total 1 columns):\n",
            "Global_active_power    34589 non-null float64\n",
            "dtypes: float64(1)\n",
            "memory usage: 540.5 KB\n"
          ],
          "name": "stdout"
        }
      ]
    },
    {
      "metadata": {
        "id": "w0pH6MkBevbV",
        "colab_type": "code",
        "colab": {
          "autoexec": {
            "startup": false,
            "wait_interval": 0
          },
          "output_extras": [
            {
              "item_id": 1
            }
          ],
          "base_uri": "https://localhost:8080/",
          "height": 297
        },
        "outputId": "d361a98a-91ae-4fb9-a6ea-28de0451dbcf",
        "executionInfo": {
          "status": "ok",
          "timestamp": 1523010319139,
          "user_tz": -330,
          "elapsed": 1207,
          "user": {
            "displayName": "Sharique Eliyas",
            "photoUrl": "//lh5.googleusercontent.com/-1NjURNXzbSA/AAAAAAAAAAI/AAAAAAAAABw/RxYorZL6W6c/s50-c-k-no/photo.jpg",
            "userId": "118408623472071970071"
          }
        }
      },
      "cell_type": "code",
      "source": [
        "df_hourly.describe()"
      ],
      "execution_count": 9,
      "outputs": [
        {
          "output_type": "execute_result",
          "data": {
            "text/html": [
              "<div>\n",
              "<style scoped>\n",
              "    .dataframe tbody tr th:only-of-type {\n",
              "        vertical-align: middle;\n",
              "    }\n",
              "\n",
              "    .dataframe tbody tr th {\n",
              "        vertical-align: top;\n",
              "    }\n",
              "\n",
              "    .dataframe thead th {\n",
              "        text-align: right;\n",
              "    }\n",
              "</style>\n",
              "<table border=\"1\" class=\"dataframe\">\n",
              "  <thead>\n",
              "    <tr style=\"text-align: right;\">\n",
              "      <th></th>\n",
              "      <th>Global_active_power</th>\n",
              "    </tr>\n",
              "  </thead>\n",
              "  <tbody>\n",
              "    <tr>\n",
              "      <th>count</th>\n",
              "      <td>34589.000000</td>\n",
              "    </tr>\n",
              "    <tr>\n",
              "      <th>mean</th>\n",
              "      <td>65.167558</td>\n",
              "    </tr>\n",
              "    <tr>\n",
              "      <th>std</th>\n",
              "      <td>53.690013</td>\n",
              "    </tr>\n",
              "    <tr>\n",
              "      <th>min</th>\n",
              "      <td>2.804000</td>\n",
              "    </tr>\n",
              "    <tr>\n",
              "      <th>25%</th>\n",
              "      <td>20.476000</td>\n",
              "    </tr>\n",
              "    <tr>\n",
              "      <th>50%</th>\n",
              "      <td>47.966000</td>\n",
              "    </tr>\n",
              "    <tr>\n",
              "      <th>75%</th>\n",
              "      <td>94.498000</td>\n",
              "    </tr>\n",
              "    <tr>\n",
              "      <th>max</th>\n",
              "      <td>393.632000</td>\n",
              "    </tr>\n",
              "  </tbody>\n",
              "</table>\n",
              "</div>"
            ],
            "text/plain": [
              "       Global_active_power\n",
              "count         34589.000000\n",
              "mean             65.167558\n",
              "std              53.690013\n",
              "min               2.804000\n",
              "25%              20.476000\n",
              "50%              47.966000\n",
              "75%              94.498000\n",
              "max             393.632000"
            ]
          },
          "metadata": {
            "tags": []
          },
          "execution_count": 9
        }
      ]
    },
    {
      "metadata": {
        "id": "EAOp71oee5s0",
        "colab_type": "code",
        "colab": {
          "autoexec": {
            "startup": false,
            "wait_interval": 0
          },
          "output_extras": [
            {
              "item_id": 1
            },
            {
              "item_id": 2
            }
          ],
          "base_uri": "https://localhost:8080/",
          "height": 282
        },
        "outputId": "1fd06d17-a20f-4cd2-a0d9-2eba8d83b289",
        "executionInfo": {
          "status": "ok",
          "timestamp": 1523010326781,
          "user_tz": -330,
          "elapsed": 7323,
          "user": {
            "displayName": "Sharique Eliyas",
            "photoUrl": "//lh5.googleusercontent.com/-1NjURNXzbSA/AAAAAAAAAAI/AAAAAAAAABw/RxYorZL6W6c/s50-c-k-no/photo.jpg",
            "userId": "118408623472071970071"
          }
        }
      },
      "cell_type": "code",
      "source": [
        "df_hourly.plot()"
      ],
      "execution_count": 10,
      "outputs": [
        {
          "output_type": "execute_result",
          "data": {
            "text/plain": [
              "<matplotlib.axes._subplots.AxesSubplot at 0x7fe0da6b9350>"
            ]
          },
          "metadata": {
            "tags": []
          },
          "execution_count": 10
        },
        {
          "output_type": "display_data",
          "data": {
            "image/png": "[encoded data removed]",
            "text/plain": [
              "<matplotlib.figure.Figure at 0x7fe0dabbfed0>"
            ]
          },
          "metadata": {
            "tags": []
          }
        }
      ]
    },
    {
      "metadata": {
        "id": "jeL6DCsdfFkZ",
        "colab_type": "code",
        "colab": {
          "autoexec": {
            "startup": false,
            "wait_interval": 0
          },
          "output_extras": [
            {
              "item_id": 1
            },
            {
              "item_id": 2
            }
          ],
          "base_uri": "https://localhost:8080/",
          "height": 314
        },
        "outputId": "91c3d0f8-8c5b-4977-f492-6974abf83458",
        "executionInfo": {
          "status": "ok",
          "timestamp": 1523010335275,
          "user_tz": -330,
          "elapsed": 8202,
          "user": {
            "displayName": "Sharique Eliyas",
            "photoUrl": "//lh5.googleusercontent.com/-1NjURNXzbSA/AAAAAAAAAAI/AAAAAAAAABw/RxYorZL6W6c/s50-c-k-no/photo.jpg",
            "userId": "118408623472071970071"
          }
        }
      },
      "cell_type": "code",
      "source": [
        "df_hourly.hist()"
      ],
      "execution_count": 11,
      "outputs": [
        {
          "output_type": "execute_result",
          "data": {
            "text/plain": [
              "array([[<matplotlib.axes._subplots.AxesSubplot object at 0x7fe0da171590>]],\n",
              "      dtype=object)"
            ]
          },
          "metadata": {
            "tags": []
          },
          "execution_count": 11
        },
        {
          "output_type": "display_data",
          "data": {
            "image/png": "[encoded data removed]",
            "text/plain": [
              "<matplotlib.figure.Figure at 0x7fe0da127e10>"
            ]
          },
          "metadata": {
            "tags": []
          }
        }
      ]
    },
    {
      "metadata": {
        "id": "sc5e72ZCfUOf",
        "colab_type": "code",
        "colab": {
          "autoexec": {
            "startup": false,
            "wait_interval": 0
          },
          "output_extras": [
            {
              "item_id": 1
            },
            {
              "item_id": 2
            },
            {
              "item_id": 3
            }
          ],
          "base_uri": "https://localhost:8080/",
          "height": 354
        },
        "outputId": "1560bad3-81d9-4ca6-e52a-c56e6449f9fb",
        "executionInfo": {
          "status": "ok",
          "timestamp": 1523010339558,
          "user_tz": -330,
          "elapsed": 3933,
          "user": {
            "displayName": "Sharique Eliyas",
            "photoUrl": "//lh5.googleusercontent.com/-1NjURNXzbSA/AAAAAAAAAAI/AAAAAAAAABw/RxYorZL6W6c/s50-c-k-no/photo.jpg",
            "userId": "118408623472071970071"
          }
        }
      },
      "cell_type": "code",
      "source": [
        "autocorrelation_plot(df_hourly)"
      ],
      "execution_count": 12,
      "outputs": [
        {
          "output_type": "stream",
          "text": [
            "/usr/local/lib/python2.7/dist-packages/ipykernel_launcher.py:1: FutureWarning: 'pandas.tools.plotting.autocorrelation_plot' is deprecated, import 'pandas.plotting.autocorrelation_plot' instead.\n",
            "  \"\"\"Entry point for launching an IPython kernel.\n"
          ],
          "name": "stderr"
        },
        {
          "output_type": "execute_result",
          "data": {
            "text/plain": [
              "<matplotlib.axes._subplots.AxesSubplot at 0x7fe0d80a6bd0>"
            ]
          },
          "metadata": {
            "tags": []
          },
          "execution_count": 12
        },
        {
          "output_type": "display_data",
          "data": {
            "image/png": "[encoded data removed]",
            "text/plain": [
              "<matplotlib.figure.Figure at 0x7fe0d801b710>"
            ]
          },
          "metadata": {
            "tags": []
          }
        }
      ]
    },
    {
      "metadata": {
        "id": "eJkyG_HBf40-",
        "colab_type": "text"
      },
      "cell_type": "markdown",
      "source": [
        "# **Summary Statistics**"
      ]
    },
    {
      "metadata": {
        "id": "T0uS_iRSfk1a",
        "colab_type": "code",
        "colab": {
          "autoexec": {
            "startup": false,
            "wait_interval": 0
          },
          "output_extras": [
            {
              "item_id": 1
            }
          ],
          "base_uri": "https://localhost:8080/",
          "height": 51
        },
        "outputId": "78c18fd3-e36b-40af-e7b3-346e9d83f9be",
        "executionInfo": {
          "status": "ok",
          "timestamp": 1523010344006,
          "user_tz": -330,
          "elapsed": 4257,
          "user": {
            "displayName": "Sharique Eliyas",
            "photoUrl": "//lh5.googleusercontent.com/-1NjURNXzbSA/AAAAAAAAAAI/AAAAAAAAABw/RxYorZL6W6c/s50-c-k-no/photo.jpg",
            "userId": "118408623472071970071"
          }
        }
      },
      "cell_type": "code",
      "source": [
        "#comparison of mean and variance by splitting in two parts\n",
        "X = df_hourly.values\n",
        "split = len(X)//2\n",
        "X1, X2 = X[0:split],X[split:]\n",
        "mean1,mean2 = X1.mean(),X2.mean()\n",
        "var1,var2 = X1.var(),X2.var()\n",
        "print(\"mean1 = %f , mean2 = %f\"%(mean1,mean2))\n",
        "print(\"var1 = %f , var2 = %f\"%(var1,var2))"
      ],
      "execution_count": 13,
      "outputs": [
        {
          "output_type": "stream",
          "text": [
            "mean1 = 66.144875 , mean2 = 64.190297\n",
            "var1 = 3358.153518 , var2 = 2405.032115\n"
          ],
          "name": "stdout"
        }
      ]
    },
    {
      "metadata": {
        "id": "1xvrNlszgJO8",
        "colab_type": "code",
        "colab": {
          "autoexec": {
            "startup": false,
            "wait_interval": 0
          },
          "output_extras": [
            {
              "item_id": 1
            }
          ],
          "base_uri": "https://localhost:8080/",
          "height": 102
        },
        "outputId": "6c483b03-c8f2-4dac-899a-c7b68f2ada0d",
        "executionInfo": {
          "status": "ok",
          "timestamp": 1523010345984,
          "user_tz": -330,
          "elapsed": 1344,
          "user": {
            "displayName": "Sharique Eliyas",
            "photoUrl": "//lh5.googleusercontent.com/-1NjURNXzbSA/AAAAAAAAAAI/AAAAAAAAABw/RxYorZL6W6c/s50-c-k-no/photo.jpg",
            "userId": "118408623472071970071"
          }
        }
      },
      "cell_type": "code",
      "source": [
        "#comparison of mean and variance by splitting in three parts\n",
        "X = df_hourly.values\n",
        "split = len(X)//3\n",
        "X1,X2,X3 = X[0:split],X[split:2*split],X[2*split:]\n",
        "print(X1.shape)\n",
        "print(X2.shape)\n",
        "print(X3.shape)\n",
        "mean1,mean2,mean3 = X1.mean(),X2.mean(),X3.mean()\n",
        "var1,var2,var3 = X1.var(),X2.var(),X3.var()\n",
        "print(\"mean1 = %f , mean2 = %f , mean3 = %f\"%(mean1,mean2,mean3))\n",
        "print(\"var1 = %f , var2 = %f , var3 = %f\"%(var1,var2,var3))"
      ],
      "execution_count": 14,
      "outputs": [
        {
          "output_type": "stream",
          "text": [
            "(11529, 1)\n",
            "(11529, 1)\n",
            "(11531, 1)\n",
            "mean1 = 70.463110 , mean2 = 61.192375 , mean3 = 63.847418\n",
            "var1 = 3708.414544 , var2 = 2555.726609 , var3 = 2337.967691\n"
          ],
          "name": "stdout"
        }
      ]
    },
    {
      "metadata": {
        "id": "4TzRwtcSgN2T",
        "colab_type": "code",
        "colab": {
          "autoexec": {
            "startup": false,
            "wait_interval": 0
          },
          "output_extras": [
            {
              "item_id": 1
            }
          ],
          "base_uri": "https://localhost:8080/",
          "height": 119
        },
        "outputId": "7b6840dd-dc84-4812-92cf-e048d7fd098b",
        "executionInfo": {
          "status": "ok",
          "timestamp": 1523010347972,
          "user_tz": -330,
          "elapsed": 1663,
          "user": {
            "displayName": "Sharique Eliyas",
            "photoUrl": "//lh5.googleusercontent.com/-1NjURNXzbSA/AAAAAAAAAAI/AAAAAAAAABw/RxYorZL6W6c/s50-c-k-no/photo.jpg",
            "userId": "118408623472071970071"
          }
        }
      },
      "cell_type": "code",
      "source": [
        "#comparison of mean and variance by splitting in four parts\n",
        "X = df_hourly.values\n",
        "split = len(X)//4\n",
        "X1,X2,X3,X4 = X[0:split],X[split:2*split],X[2*split:3*split],X[3*split:]\n",
        "print(X1.shape)\n",
        "print(X2.shape)\n",
        "print(X3.shape)\n",
        "print(X4.shape)\n",
        "mean1,mean2,mean3,mean4 = X1.mean(),X2.mean(),X3.mean(),X4.mean()\n",
        "var1,var2,var3,var4 = X1.var(),X2.var(),X3.var(),X4.var()\n",
        "print(\"mean1 = %f , mean2 = %f , mean3 = %f , mean4 = %f\"%(mean1,mean2,mean3,mean4))\n",
        "print(\"var1 = %f , var2 = %f , var3 = %f , var4 = %f\"%(var1,var2,var3,var4))"
      ],
      "execution_count": 15,
      "outputs": [
        {
          "output_type": "stream",
          "text": [
            "(8647, 1)\n",
            "(8647, 1)\n",
            "(8647, 1)\n",
            "(8648, 1)\n",
            "mean1 = 66.939507 , mean2 = 65.350243 , mean3 = 63.789165 , mean4 = 64.591382\n",
            "var1 = 3602.623168 , var2 = 3112.420988 , var3 = 2525.963428 , var4 = 2283.793029\n"
          ],
          "name": "stdout"
        }
      ]
    },
    {
      "metadata": {
        "id": "3u-wrdOzgh0f",
        "colab_type": "text"
      },
      "cell_type": "markdown",
      "source": [
        "# **Augmented Dickey-Fuller Test**"
      ]
    },
    {
      "metadata": {
        "id": "sdpnTt39gVMn",
        "colab_type": "code",
        "colab": {
          "autoexec": {
            "startup": false,
            "wait_interval": 0
          }
        }
      },
      "cell_type": "code",
      "source": [
        "X = df_hourly['Global_active_power'].values"
      ],
      "execution_count": 0,
      "outputs": []
    },
    {
      "metadata": {
        "id": "I-st7CXkgq0A",
        "colab_type": "code",
        "colab": {
          "autoexec": {
            "startup": false,
            "wait_interval": 0
          },
          "output_extras": [
            {
              "item_id": 1
            }
          ],
          "base_uri": "https://localhost:8080/",
          "height": 34
        },
        "outputId": "e298d0c6-ce86-4da9-c585-0b26f57b5d19",
        "executionInfo": {
          "status": "ok",
          "timestamp": 1523010353028,
          "user_tz": -330,
          "elapsed": 1298,
          "user": {
            "displayName": "Sharique Eliyas",
            "photoUrl": "//lh5.googleusercontent.com/-1NjURNXzbSA/AAAAAAAAAAI/AAAAAAAAABw/RxYorZL6W6c/s50-c-k-no/photo.jpg",
            "userId": "118408623472071970071"
          }
        }
      },
      "cell_type": "code",
      "source": [
        "print(X)"
      ],
      "execution_count": 17,
      "outputs": [
        {
          "output_type": "stream",
          "text": [
            "[152.024 217.932 204.014 ...  99.56   69.822   2.804]\n"
          ],
          "name": "stdout"
        }
      ]
    },
    {
      "metadata": {
        "id": "m3QwIzeggtEs",
        "colab_type": "code",
        "colab": {
          "autoexec": {
            "startup": false,
            "wait_interval": 0
          },
          "output_extras": [
            {
              "item_id": 1
            }
          ],
          "base_uri": "https://localhost:8080/",
          "height": 71
        },
        "outputId": "e5a02359-f11f-474d-a26c-ed51d7123d1e",
        "executionInfo": {
          "status": "ok",
          "timestamp": 1523010356067,
          "user_tz": -330,
          "elapsed": 2668,
          "user": {
            "displayName": "Sharique Eliyas",
            "photoUrl": "//lh5.googleusercontent.com/-1NjURNXzbSA/AAAAAAAAAAI/AAAAAAAAABw/RxYorZL6W6c/s50-c-k-no/photo.jpg",
            "userId": "118408623472071970071"
          }
        }
      },
      "cell_type": "code",
      "source": [
        "from statsmodels.tsa.stattools import adfuller"
      ],
      "execution_count": 18,
      "outputs": [
        {
          "output_type": "stream",
          "text": [
            "/usr/local/lib/python2.7/dist-packages/statsmodels/compat/pandas.py:56: FutureWarning: The pandas.core.datetools module is deprecated and will be removed in a future version. Please use the pandas.tseries module instead.\n",
            "  from pandas.core import datetools\n"
          ],
          "name": "stderr"
        }
      ]
    },
    {
      "metadata": {
        "id": "t7IBqsAtgw_3",
        "colab_type": "code",
        "colab": {
          "autoexec": {
            "startup": false,
            "wait_interval": 0
          }
        }
      },
      "cell_type": "code",
      "source": [
        "result = adfuller(X, maxlag=None, autolag='BIC', regression='c')"
      ],
      "execution_count": 0,
      "outputs": []
    },
    {
      "metadata": {
        "id": "T-LVysvng3eP",
        "colab_type": "code",
        "colab": {
          "autoexec": {
            "startup": false,
            "wait_interval": 0
          },
          "output_extras": [
            {
              "item_id": 1
            }
          ],
          "base_uri": "https://localhost:8080/",
          "height": 119
        },
        "outputId": "ab7efd36-e821-435f-b8ab-a6e7f7340457",
        "executionInfo": {
          "status": "ok",
          "timestamp": 1523010365366,
          "user_tz": -330,
          "elapsed": 2769,
          "user": {
            "displayName": "Sharique Eliyas",
            "photoUrl": "//lh5.googleusercontent.com/-1NjURNXzbSA/AAAAAAAAAAI/AAAAAAAAABw/RxYorZL6W6c/s50-c-k-no/photo.jpg",
            "userId": "118408623472071970071"
          }
        }
      },
      "cell_type": "code",
      "source": [
        "print('ADF Statistic: %f' % result[0])\n",
        "print('p-value: %f' % result[1])\n",
        "print('Critical Values:')\n",
        "for key, value in result[4].items():\n",
        "\tprint('\\t%s: %.3f' % (key, value))"
      ],
      "execution_count": 20,
      "outputs": [
        {
          "output_type": "stream",
          "text": [
            "ADF Statistic: -14.159379\n",
            "p-value: 0.000000\n",
            "Critical Values:\n",
            "\t5%: -2.862\n",
            "\t1%: -3.431\n",
            "\t10%: -2.567\n"
          ],
          "name": "stdout"
        }
      ]
    },
    {
      "metadata": {
        "id": "t0LNNbdlhEMp",
        "colab_type": "text"
      },
      "cell_type": "markdown",
      "source": [
        "# **ARIMA Model**"
      ]
    },
    {
      "metadata": {
        "id": "7D0INv4ChL8y",
        "colab_type": "code",
        "colab": {
          "autoexec": {
            "startup": false,
            "wait_interval": 0
          },
          "output_extras": [
            {
              "item_id": 1
            }
          ],
          "base_uri": "https://localhost:8080/",
          "height": 34
        },
        "outputId": "bb382aa5-479e-476c-b9dd-c4f9c5da762b",
        "executionInfo": {
          "status": "ok",
          "timestamp": 1523010366995,
          "user_tz": -330,
          "elapsed": 961,
          "user": {
            "displayName": "Sharique Eliyas",
            "photoUrl": "//lh5.googleusercontent.com/-1NjURNXzbSA/AAAAAAAAAAI/AAAAAAAAABw/RxYorZL6W6c/s50-c-k-no/photo.jpg",
            "userId": "118408623472071970071"
          }
        }
      },
      "cell_type": "code",
      "source": [
        "df_hourly.shape"
      ],
      "execution_count": 21,
      "outputs": [
        {
          "output_type": "execute_result",
          "data": {
            "text/plain": [
              "(34589, 1)"
            ]
          },
          "metadata": {
            "tags": []
          },
          "execution_count": 21
        }
      ]
    },
    {
      "metadata": {
        "id": "tPOEuPqShsN7",
        "colab_type": "code",
        "colab": {
          "autoexec": {
            "startup": false,
            "wait_interval": 0
          }
        }
      },
      "cell_type": "code",
      "source": [
        "split = int((df_hourly.shape[0])*(0.7))"
      ],
      "execution_count": 0,
      "outputs": []
    },
    {
      "metadata": {
        "id": "DUSpm8CbiNff",
        "colab_type": "code",
        "colab": {
          "autoexec": {
            "startup": false,
            "wait_interval": 0
          },
          "output_extras": [
            {
              "item_id": 1
            }
          ],
          "base_uri": "https://localhost:8080/",
          "height": 51
        },
        "outputId": "ad9b6e53-2cbe-4b6e-ec7b-66d1e2e04d42",
        "executionInfo": {
          "status": "ok",
          "timestamp": 1523010370876,
          "user_tz": -330,
          "elapsed": 1554,
          "user": {
            "displayName": "Sharique Eliyas",
            "photoUrl": "//lh5.googleusercontent.com/-1NjURNXzbSA/AAAAAAAAAAI/AAAAAAAAABw/RxYorZL6W6c/s50-c-k-no/photo.jpg",
            "userId": "118408623472071970071"
          }
        }
      },
      "cell_type": "code",
      "source": [
        "train = df_hourly[:split]\n",
        "test = df_hourly[split:]\n",
        "print(train.shape)\n",
        "print(test.shape)"
      ],
      "execution_count": 23,
      "outputs": [
        {
          "output_type": "stream",
          "text": [
            "(24212, 1)\n",
            "(10377, 1)\n"
          ],
          "name": "stdout"
        }
      ]
    },
    {
      "metadata": {
        "id": "Rf7jB35PiYW8",
        "colab_type": "code",
        "colab": {
          "autoexec": {
            "startup": false,
            "wait_interval": 0
          }
        }
      },
      "cell_type": "code",
      "source": [
        "from statsmodels.tsa.arima_model import ARIMA\n",
        "from sklearn.metrics import mean_squared_error"
      ],
      "execution_count": 0,
      "outputs": []
    },
    {
      "metadata": {
        "id": "jt5VElLDinJe",
        "colab_type": "code",
        "colab": {
          "autoexec": {
            "startup": false,
            "wait_interval": 0
          }
        }
      },
      "cell_type": "code",
      "source": [
        "def evaluate_ARIMA_model(df,ratio,ordr):\n",
        "  X = df[['Global_active_power']].values\n",
        "  split = int((X.shape[0])*ratio)\n",
        "  train = X[:split]\n",
        "  test = X[split:]\n",
        "  \n",
        "  #\n",
        "  history = [x for x in train]\n",
        "  predictions = list()\n",
        "  for t in range(len(test)):\n",
        "    model = ARIMA(history,order=ordr)\n",
        "    model_fit = model.fit(disp = 0)\n",
        "    output = model_fit.forecast()\n",
        "    yhat = output[0]\n",
        "    predictions.append(yhat)\n",
        "    obs = test[t]\n",
        "    history.append(obs)\n",
        "  error = mean_squared_error(test,predictions)\n",
        "  print(\"ARIMA(\",ordr,\") error = \",error)\n",
        "  return (error,test,predictions)"
      ],
      "execution_count": 0,
      "outputs": []
    },
    {
      "metadata": {
        "id": "XgdjddKo38jL",
        "colab_type": "code",
        "colab": {
          "autoexec": {
            "startup": false,
            "wait_interval": 0
          }
        }
      },
      "cell_type": "code",
      "source": [
        "def parameter_tuning(df,p_max,d_max,q_max):\n",
        "  best_error=9999999999\n",
        "  for i in range(p_max):\n",
        "    for j in range(d_max):\n",
        "      for k in range(q_max):\n",
        "        order = (i,j,k)\n",
        "        val = evaluate_ARIMA_model(df,0.7,order)\n",
        "        if(val[0]<best_error):\n",
        "          best_error = val[0]\n",
        "          best_test = val[1]\n",
        "          best_predictions = val[2]\n",
        "          best_order = order\n",
        "  print(\"best order = \",best_order)\n",
        "  return (best_error,best_test,best_predictions,best_order)"
      ],
      "execution_count": 0,
      "outputs": []
    },
    {
      "metadata": {
        "id": "SYwdhmNk4EYs",
        "colab_type": "code",
        "colab": {
          "autoexec": {
            "startup": false,
            "wait_interval": 0
          },
          "output_extras": [
            {
              "item_id": 3
            }
          ],
          "base_uri": "https://localhost:8080/",
          "height": 102
        },
        "outputId": "71e89ce7-a813-42c9-8998-73fa4ff5b1be",
        "executionInfo": {
          "status": "ok",
          "timestamp": 1523013230623,
          "user_tz": -330,
          "elapsed": 3697,
          "user": {
            "displayName": "Sharique Eliyas",
            "photoUrl": "//lh5.googleusercontent.com/-1NjURNXzbSA/AAAAAAAAAAI/AAAAAAAAABw/RxYorZL6W6c/s50-c-k-no/photo.jpg",
            "userId": "118408623472071970071"
          }
        }
      },
      "cell_type": "code",
      "source": [
        "#output only on first 100 data points\n",
        "ans = parameter_tuning(df_hourly[:100],2,2,1)"
      ],
      "execution_count": 55,
      "outputs": [
        {
          "output_type": "stream",
          "text": [
            "('ARIMA(', (0, 0, 0), ') error = ', 4298.379505779456)\n",
            "('ARIMA(', (0, 1, 0), ') error = ', 2757.054696113135)\n",
            "('ARIMA(', (1, 0, 0), ') error = ', 2366.8420312635935)\n",
            "('ARIMA(', (1, 1, 0), ') error = ', 2799.626878303709)\n",
            "('best order = ', (1, 0, 0))\n"
          ],
          "name": "stdout"
        }
      ]
    },
    {
      "metadata": {
        "id": "2Ulr_PPL8nGP",
        "colab_type": "code",
        "colab": {
          "autoexec": {
            "startup": false,
            "wait_interval": 0
          },
          "output_extras": [
            {
              "item_id": 1
            }
          ],
          "base_uri": "https://localhost:8080/",
          "height": 34
        },
        "outputId": "b1242c75-a941-4a33-9d46-0e486790796b",
        "executionInfo": {
          "status": "ok",
          "timestamp": 1523013236078,
          "user_tz": -330,
          "elapsed": 1061,
          "user": {
            "displayName": "Sharique Eliyas",
            "photoUrl": "//lh5.googleusercontent.com/-1NjURNXzbSA/AAAAAAAAAAI/AAAAAAAAABw/RxYorZL6W6c/s50-c-k-no/photo.jpg",
            "userId": "118408623472071970071"
          }
        }
      },
      "cell_type": "code",
      "source": [
        "print(\"Mean Square Error = %f\"%(ans[0]))"
      ],
      "execution_count": 56,
      "outputs": [
        {
          "output_type": "stream",
          "text": [
            "Mean Square Error = 2366.842031\n"
          ],
          "name": "stdout"
        }
      ]
    },
    {
      "metadata": {
        "id": "I6bboMoWinVO",
        "colab_type": "code",
        "colab": {
          "autoexec": {
            "startup": false,
            "wait_interval": 0
          },
          "output_extras": [
            {
              "item_id": 1
            }
          ],
          "base_uri": "https://localhost:8080/",
          "height": 265
        },
        "outputId": "a4d246e1-3277-4fd2-8207-fe5337b436c4",
        "executionInfo": {
          "status": "ok",
          "timestamp": 1523013239843,
          "user_tz": -330,
          "elapsed": 2597,
          "user": {
            "displayName": "Sharique Eliyas",
            "photoUrl": "//lh5.googleusercontent.com/-1NjURNXzbSA/AAAAAAAAAAI/AAAAAAAAABw/RxYorZL6W6c/s50-c-k-no/photo.jpg",
            "userId": "118408623472071970071"
          }
        }
      },
      "cell_type": "code",
      "source": [
        "plt.plot(ans[1])\n",
        "plt.plot(ans[2],'r')\n",
        "plt.legend\n",
        "plt.show()"
      ],
      "execution_count": 57,
      "outputs": [
        {
          "output_type": "display_data",
          "data": {
            "image/png": "[encoded data removed]",
            "text/plain": [
              "<matplotlib.figure.Figure at 0x7fe0d5668f90>"
            ]
          },
          "metadata": {
            "tags": []
          }
        }
      ]
    },
    {
      "metadata": {
        "id": "NXUIsjTDjCRq",
        "colab_type": "code",
        "colab": {
          "autoexec": {
            "startup": false,
            "wait_interval": 0
          }
        }
      },
      "cell_type": "code",
      "source": [
        ""
      ],
      "execution_count": 0,
      "outputs": []
    }
  ]
}