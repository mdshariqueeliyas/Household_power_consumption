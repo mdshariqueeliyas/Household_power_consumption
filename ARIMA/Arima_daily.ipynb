{
  "nbformat": 4,
  "nbformat_minor": 0,
  "metadata": {
    "colab": {
      "name": "Arima_daily.ipynb",
      "version": "0.3.2",
      "views": {},
      "default_view": {},
      "provenance": []
    },
    "kernelspec": {
      "name": "python3",
      "display_name": "Python 3"
    }
  },
  "cells": [
    {
      "metadata": {
        "id": "ChM6PMqDlbBP",
        "colab_type": "code",
        "colab": {
          "autoexec": {
            "startup": false,
            "wait_interval": 0
          }
        }
      },
      "cell_type": "code",
      "source": [
        "!wget -q https://archive.ics.uci.edu/ml/machine-learning-databases/00235/household_power_consumption.zip\n",
        "!unzip -q household_power_consumption.zip"
      ],
      "execution_count": 0,
      "outputs": []
    },
    {
      "metadata": {
        "id": "pGXQfnjmmA1J",
        "colab_type": "code",
        "colab": {
          "autoexec": {
            "startup": false,
            "wait_interval": 0
          },
          "output_extras": [
            {
              "item_id": 1
            },
            {
              "item_id": 2
            }
          ],
          "base_uri": "https://localhost:8080/",
          "height": 343
        },
        "outputId": "96a03eba-92c9-43e6-ea09-63235622a7ae",
        "executionInfo": {
          "status": "ok",
          "timestamp": 1523012108721,
          "user_tz": -330,
          "elapsed": 12512,
          "user": {
            "displayName": "Sharique Eliyas",
            "photoUrl": "//lh5.googleusercontent.com/-1NjURNXzbSA/AAAAAAAAAAI/AAAAAAAAABw/RxYorZL6W6c/s50-c-k-no/photo.jpg",
            "userId": "118408623472071970071"
          }
        }
      },
      "cell_type": "code",
      "source": [
        "import numpy as np\n",
        "import pandas as pd\n",
        "import matplotlib.pyplot as plt\n",
        "from pandas.tools.plotting import autocorrelation_plot\n",
        "%matplotlib inline\n",
        "#\n",
        "df = pd.read_csv('household_power_consumption.txt',sep=';')\n",
        "#\n",
        "df['TimeStamp'] = df['Date']+' '+df['Time']\n",
        "df['TimeStamp'] = pd.to_datetime(df['TimeStamp'],format = \"%d/%m/%Y %H:%M:%S\")\n",
        "df.index = df['TimeStamp']\n",
        "df.index.name = None\n",
        "df = df.drop(['Date','Time'],axis = 1)\n",
        "df.head()"
      ],
      "execution_count": 2,
      "outputs": [
        {
          "output_type": "stream",
          "text": [
            "/usr/local/lib/python3.6/dist-packages/IPython/core/interactiveshell.py:2718: DtypeWarning: Columns (2,3,4,5,6,7) have mixed types. Specify dtype option on import or set low_memory=False.\n",
            "  interactivity=interactivity, compiler=compiler, result=result)\n"
          ],
          "name": "stderr"
        },
        {
          "output_type": "execute_result",
          "data": {
            "text/html": [
              "<div>\n",
              "<style scoped>\n",
              "    .dataframe tbody tr th:only-of-type {\n",
              "        vertical-align: middle;\n",
              "    }\n",
              "\n",
              "    .dataframe tbody tr th {\n",
              "        vertical-align: top;\n",
              "    }\n",
              "\n",
              "    .dataframe thead th {\n",
              "        text-align: right;\n",
              "    }\n",
              "</style>\n",
              "<table border=\"1\" class=\"dataframe\">\n",
              "  <thead>\n",
              "    <tr style=\"text-align: right;\">\n",
              "      <th></th>\n",
              "      <th>Global_active_power</th>\n",
              "      <th>Global_reactive_power</th>\n",
              "      <th>Voltage</th>\n",
              "      <th>Global_intensity</th>\n",
              "      <th>Sub_metering_1</th>\n",
              "      <th>Sub_metering_2</th>\n",
              "      <th>Sub_metering_3</th>\n",
              "      <th>TimeStamp</th>\n",
              "    </tr>\n",
              "  </thead>\n",
              "  <tbody>\n",
              "    <tr>\n",
              "      <th>2006-12-16 17:24:00</th>\n",
              "      <td>4.216</td>\n",
              "      <td>0.418</td>\n",
              "      <td>234.840</td>\n",
              "      <td>18.400</td>\n",
              "      <td>0.000</td>\n",
              "      <td>1.000</td>\n",
              "      <td>17.0</td>\n",
              "      <td>2006-12-16 17:24:00</td>\n",
              "    </tr>\n",
              "    <tr>\n",
              "      <th>2006-12-16 17:25:00</th>\n",
              "      <td>5.360</td>\n",
              "      <td>0.436</td>\n",
              "      <td>233.630</td>\n",
              "      <td>23.000</td>\n",
              "      <td>0.000</td>\n",
              "      <td>1.000</td>\n",
              "      <td>16.0</td>\n",
              "      <td>2006-12-16 17:25:00</td>\n",
              "    </tr>\n",
              "    <tr>\n",
              "      <th>2006-12-16 17:26:00</th>\n",
              "      <td>5.374</td>\n",
              "      <td>0.498</td>\n",
              "      <td>233.290</td>\n",
              "      <td>23.000</td>\n",
              "      <td>0.000</td>\n",
              "      <td>2.000</td>\n",
              "      <td>17.0</td>\n",
              "      <td>2006-12-16 17:26:00</td>\n",
              "    </tr>\n",
              "    <tr>\n",
              "      <th>2006-12-16 17:27:00</th>\n",
              "      <td>5.388</td>\n",
              "      <td>0.502</td>\n",
              "      <td>233.740</td>\n",
              "      <td>23.000</td>\n",
              "      <td>0.000</td>\n",
              "      <td>1.000</td>\n",
              "      <td>17.0</td>\n",
              "      <td>2006-12-16 17:27:00</td>\n",
              "    </tr>\n",
              "    <tr>\n",
              "      <th>2006-12-16 17:28:00</th>\n",
              "      <td>3.666</td>\n",
              "      <td>0.528</td>\n",
              "      <td>235.680</td>\n",
              "      <td>15.800</td>\n",
              "      <td>0.000</td>\n",
              "      <td>1.000</td>\n",
              "      <td>17.0</td>\n",
              "      <td>2006-12-16 17:28:00</td>\n",
              "    </tr>\n",
              "  </tbody>\n",
              "</table>\n",
              "</div>"
            ],
            "text/plain": [
              "                    Global_active_power Global_reactive_power  Voltage  \\\n",
              "2006-12-16 17:24:00               4.216                 0.418  234.840   \n",
              "2006-12-16 17:25:00               5.360                 0.436  233.630   \n",
              "2006-12-16 17:26:00               5.374                 0.498  233.290   \n",
              "2006-12-16 17:27:00               5.388                 0.502  233.740   \n",
              "2006-12-16 17:28:00               3.666                 0.528  235.680   \n",
              "\n",
              "                    Global_intensity Sub_metering_1 Sub_metering_2  \\\n",
              "2006-12-16 17:24:00           18.400          0.000          1.000   \n",
              "2006-12-16 17:25:00           23.000          0.000          1.000   \n",
              "2006-12-16 17:26:00           23.000          0.000          2.000   \n",
              "2006-12-16 17:27:00           23.000          0.000          1.000   \n",
              "2006-12-16 17:28:00           15.800          0.000          1.000   \n",
              "\n",
              "                     Sub_metering_3           TimeStamp  \n",
              "2006-12-16 17:24:00            17.0 2006-12-16 17:24:00  \n",
              "2006-12-16 17:25:00            16.0 2006-12-16 17:25:00  \n",
              "2006-12-16 17:26:00            17.0 2006-12-16 17:26:00  \n",
              "2006-12-16 17:27:00            17.0 2006-12-16 17:27:00  \n",
              "2006-12-16 17:28:00            17.0 2006-12-16 17:28:00  "
            ]
          },
          "metadata": {
            "tags": []
          },
          "execution_count": 2
        }
      ]
    },
    {
      "metadata": {
        "id": "hul0urn2mC9R",
        "colab_type": "code",
        "colab": {
          "autoexec": {
            "startup": false,
            "wait_interval": 0
          },
          "output_extras": [
            {
              "item_id": 1
            },
            {
              "item_id": 2
            }
          ],
          "base_uri": "https://localhost:8080/",
          "height": 275
        },
        "outputId": "975705c6-f54d-4bd0-dd23-4e48d0c25086",
        "executionInfo": {
          "status": "ok",
          "timestamp": 1523012125299,
          "user_tz": -330,
          "elapsed": 5085,
          "user": {
            "displayName": "Sharique Eliyas",
            "photoUrl": "//lh5.googleusercontent.com/-1NjURNXzbSA/AAAAAAAAAAI/AAAAAAAAABw/RxYorZL6W6c/s50-c-k-no/photo.jpg",
            "userId": "118408623472071970071"
          }
        }
      },
      "cell_type": "code",
      "source": [
        "#@title Default title text\n",
        "df = df.convert_objects(convert_numeric=True)\n",
        "df = df.ffill()\n",
        "#\n",
        "newdf = df[['Global_active_power']]\n",
        "newdf.head()"
      ],
      "execution_count": 3,
      "outputs": [
        {
          "output_type": "stream",
          "text": [
            "/usr/local/lib/python3.6/dist-packages/ipykernel_launcher.py:1: FutureWarning: convert_objects is deprecated.  To re-infer data dtypes for object columns, use DataFrame.infer_objects()\n",
            "For all other conversions use the data-type specific converters pd.to_datetime, pd.to_timedelta and pd.to_numeric.\n",
            "  \"\"\"Entry point for launching an IPython kernel.\n"
          ],
          "name": "stderr"
        },
        {
          "output_type": "execute_result",
          "data": {
            "text/html": [
              "<div>\n",
              "<style scoped>\n",
              "    .dataframe tbody tr th:only-of-type {\n",
              "        vertical-align: middle;\n",
              "    }\n",
              "\n",
              "    .dataframe tbody tr th {\n",
              "        vertical-align: top;\n",
              "    }\n",
              "\n",
              "    .dataframe thead th {\n",
              "        text-align: right;\n",
              "    }\n",
              "</style>\n",
              "<table border=\"1\" class=\"dataframe\">\n",
              "  <thead>\n",
              "    <tr style=\"text-align: right;\">\n",
              "      <th></th>\n",
              "      <th>Global_active_power</th>\n",
              "    </tr>\n",
              "  </thead>\n",
              "  <tbody>\n",
              "    <tr>\n",
              "      <th>2006-12-16 17:24:00</th>\n",
              "      <td>4.216</td>\n",
              "    </tr>\n",
              "    <tr>\n",
              "      <th>2006-12-16 17:25:00</th>\n",
              "      <td>5.360</td>\n",
              "    </tr>\n",
              "    <tr>\n",
              "      <th>2006-12-16 17:26:00</th>\n",
              "      <td>5.374</td>\n",
              "    </tr>\n",
              "    <tr>\n",
              "      <th>2006-12-16 17:27:00</th>\n",
              "      <td>5.388</td>\n",
              "    </tr>\n",
              "    <tr>\n",
              "      <th>2006-12-16 17:28:00</th>\n",
              "      <td>3.666</td>\n",
              "    </tr>\n",
              "  </tbody>\n",
              "</table>\n",
              "</div>"
            ],
            "text/plain": [
              "                     Global_active_power\n",
              "2006-12-16 17:24:00                4.216\n",
              "2006-12-16 17:25:00                5.360\n",
              "2006-12-16 17:26:00                5.374\n",
              "2006-12-16 17:27:00                5.388\n",
              "2006-12-16 17:28:00                3.666"
            ]
          },
          "metadata": {
            "tags": []
          },
          "execution_count": 3
        }
      ]
    },
    {
      "metadata": {
        "id": "K1_onmt2mK4w",
        "colab_type": "code",
        "colab": {
          "autoexec": {
            "startup": false,
            "wait_interval": 0
          }
        }
      },
      "cell_type": "code",
      "source": [
        "df_daily = pd.DataFrame(newdf.Global_active_power.resample('d').sum())"
      ],
      "execution_count": 0,
      "outputs": []
    },
    {
      "metadata": {
        "id": "5LWHAoYvmMVB",
        "colab_type": "code",
        "colab": {
          "autoexec": {
            "startup": false,
            "wait_interval": 0
          },
          "output_extras": [
            {
              "item_id": 1
            }
          ],
          "base_uri": "https://localhost:8080/",
          "height": 204
        },
        "outputId": "fe2a8aa2-8fc3-4082-ec9f-fc4445cbd411",
        "executionInfo": {
          "status": "ok",
          "timestamp": 1523012808941,
          "user_tz": -330,
          "elapsed": 1056,
          "user": {
            "displayName": "Sharique Eliyas",
            "photoUrl": "//lh5.googleusercontent.com/-1NjURNXzbSA/AAAAAAAAAAI/AAAAAAAAABw/RxYorZL6W6c/s50-c-k-no/photo.jpg",
            "userId": "118408623472071970071"
          }
        }
      },
      "cell_type": "code",
      "source": [
        "df_daily.head()"
      ],
      "execution_count": 38,
      "outputs": [
        {
          "output_type": "execute_result",
          "data": {
            "text/html": [
              "<div>\n",
              "<style scoped>\n",
              "    .dataframe tbody tr th:only-of-type {\n",
              "        vertical-align: middle;\n",
              "    }\n",
              "\n",
              "    .dataframe tbody tr th {\n",
              "        vertical-align: top;\n",
              "    }\n",
              "\n",
              "    .dataframe thead th {\n",
              "        text-align: right;\n",
              "    }\n",
              "</style>\n",
              "<table border=\"1\" class=\"dataframe\">\n",
              "  <thead>\n",
              "    <tr style=\"text-align: right;\">\n",
              "      <th></th>\n",
              "      <th>Global_active_power</th>\n",
              "    </tr>\n",
              "  </thead>\n",
              "  <tbody>\n",
              "    <tr>\n",
              "      <th>2006-12-16</th>\n",
              "      <td>1209.176</td>\n",
              "    </tr>\n",
              "    <tr>\n",
              "      <th>2006-12-17</th>\n",
              "      <td>3390.460</td>\n",
              "    </tr>\n",
              "    <tr>\n",
              "      <th>2006-12-18</th>\n",
              "      <td>2203.826</td>\n",
              "    </tr>\n",
              "    <tr>\n",
              "      <th>2006-12-19</th>\n",
              "      <td>1666.194</td>\n",
              "    </tr>\n",
              "    <tr>\n",
              "      <th>2006-12-20</th>\n",
              "      <td>2225.748</td>\n",
              "    </tr>\n",
              "  </tbody>\n",
              "</table>\n",
              "</div>"
            ],
            "text/plain": [
              "            Global_active_power\n",
              "2006-12-16             1209.176\n",
              "2006-12-17             3390.460\n",
              "2006-12-18             2203.826\n",
              "2006-12-19             1666.194\n",
              "2006-12-20             2225.748"
            ]
          },
          "metadata": {
            "tags": []
          },
          "execution_count": 38
        }
      ]
    },
    {
      "metadata": {
        "id": "4fpE8FU3mRY3",
        "colab_type": "code",
        "colab": {
          "autoexec": {
            "startup": false,
            "wait_interval": 0
          },
          "output_extras": [
            {
              "item_id": 1
            }
          ],
          "base_uri": "https://localhost:8080/",
          "height": 34
        },
        "outputId": "16bff42c-4dd3-4326-80e6-248849cfde3d",
        "executionInfo": {
          "status": "ok",
          "timestamp": 1523012811128,
          "user_tz": -330,
          "elapsed": 1317,
          "user": {
            "displayName": "Sharique Eliyas",
            "photoUrl": "//lh5.googleusercontent.com/-1NjURNXzbSA/AAAAAAAAAAI/AAAAAAAAABw/RxYorZL6W6c/s50-c-k-no/photo.jpg",
            "userId": "118408623472071970071"
          }
        }
      },
      "cell_type": "code",
      "source": [
        "df_daily.shape"
      ],
      "execution_count": 39,
      "outputs": [
        {
          "output_type": "execute_result",
          "data": {
            "text/plain": [
              "(1442, 1)"
            ]
          },
          "metadata": {
            "tags": []
          },
          "execution_count": 39
        }
      ]
    },
    {
      "metadata": {
        "id": "mqN16SWUmRys",
        "colab_type": "code",
        "colab": {
          "autoexec": {
            "startup": false,
            "wait_interval": 0
          },
          "output_extras": [
            {
              "item_id": 1
            }
          ],
          "base_uri": "https://localhost:8080/",
          "height": 34
        },
        "outputId": "8911c6a3-8408-496a-cd1d-3af130b4b4f3",
        "executionInfo": {
          "status": "ok",
          "timestamp": 1523012813845,
          "user_tz": -330,
          "elapsed": 1023,
          "user": {
            "displayName": "Sharique Eliyas",
            "photoUrl": "//lh5.googleusercontent.com/-1NjURNXzbSA/AAAAAAAAAAI/AAAAAAAAABw/RxYorZL6W6c/s50-c-k-no/photo.jpg",
            "userId": "118408623472071970071"
          }
        }
      },
      "cell_type": "code",
      "source": [
        "type(df_daily)"
      ],
      "execution_count": 40,
      "outputs": [
        {
          "output_type": "execute_result",
          "data": {
            "text/plain": [
              "pandas.core.frame.DataFrame"
            ]
          },
          "metadata": {
            "tags": []
          },
          "execution_count": 40
        }
      ]
    },
    {
      "metadata": {
        "id": "3kwmQ5LemU89",
        "colab_type": "code",
        "colab": {
          "autoexec": {
            "startup": false,
            "wait_interval": 0
          },
          "output_extras": [
            {
              "item_id": 1
            }
          ],
          "base_uri": "https://localhost:8080/",
          "height": 136
        },
        "outputId": "78fe4c0f-181b-40fb-809b-666d1b36ddc7",
        "executionInfo": {
          "status": "ok",
          "timestamp": 1523012816117,
          "user_tz": -330,
          "elapsed": 1052,
          "user": {
            "displayName": "Sharique Eliyas",
            "photoUrl": "//lh5.googleusercontent.com/-1NjURNXzbSA/AAAAAAAAAAI/AAAAAAAAABw/RxYorZL6W6c/s50-c-k-no/photo.jpg",
            "userId": "118408623472071970071"
          }
        }
      },
      "cell_type": "code",
      "source": [
        "df_daily.info()"
      ],
      "execution_count": 41,
      "outputs": [
        {
          "output_type": "stream",
          "text": [
            "<class 'pandas.core.frame.DataFrame'>\n",
            "DatetimeIndex: 1442 entries, 2006-12-16 to 2010-11-26\n",
            "Freq: D\n",
            "Data columns (total 1 columns):\n",
            "Global_active_power    1442 non-null float64\n",
            "dtypes: float64(1)\n",
            "memory usage: 22.5 KB\n"
          ],
          "name": "stdout"
        }
      ]
    },
    {
      "metadata": {
        "id": "55HieqcEmXoj",
        "colab_type": "code",
        "colab": {
          "autoexec": {
            "startup": false,
            "wait_interval": 0
          },
          "output_extras": [
            {
              "item_id": 1
            }
          ],
          "base_uri": "https://localhost:8080/",
          "height": 297
        },
        "outputId": "71f5459b-2bb5-43fe-e32c-d0d28c3f0306",
        "executionInfo": {
          "status": "ok",
          "timestamp": 1523012819467,
          "user_tz": -330,
          "elapsed": 1501,
          "user": {
            "displayName": "Sharique Eliyas",
            "photoUrl": "//lh5.googleusercontent.com/-1NjURNXzbSA/AAAAAAAAAAI/AAAAAAAAABw/RxYorZL6W6c/s50-c-k-no/photo.jpg",
            "userId": "118408623472071970071"
          }
        }
      },
      "cell_type": "code",
      "source": [
        "df_daily.describe()"
      ],
      "execution_count": 42,
      "outputs": [
        {
          "output_type": "execute_result",
          "data": {
            "text/html": [
              "<div>\n",
              "<style scoped>\n",
              "    .dataframe tbody tr th:only-of-type {\n",
              "        vertical-align: middle;\n",
              "    }\n",
              "\n",
              "    .dataframe tbody tr th {\n",
              "        vertical-align: top;\n",
              "    }\n",
              "\n",
              "    .dataframe thead th {\n",
              "        text-align: right;\n",
              "    }\n",
              "</style>\n",
              "<table border=\"1\" class=\"dataframe\">\n",
              "  <thead>\n",
              "    <tr style=\"text-align: right;\">\n",
              "      <th></th>\n",
              "      <th>Global_active_power</th>\n",
              "    </tr>\n",
              "  </thead>\n",
              "  <tbody>\n",
              "    <tr>\n",
              "      <th>count</th>\n",
              "      <td>1442.000000</td>\n",
              "    </tr>\n",
              "    <tr>\n",
              "      <th>mean</th>\n",
              "      <td>1563.162724</td>\n",
              "    </tr>\n",
              "    <tr>\n",
              "      <th>std</th>\n",
              "      <td>603.833832</td>\n",
              "    </tr>\n",
              "    <tr>\n",
              "      <th>min</th>\n",
              "      <td>210.240000</td>\n",
              "    </tr>\n",
              "    <tr>\n",
              "      <th>25%</th>\n",
              "      <td>1166.661500</td>\n",
              "    </tr>\n",
              "    <tr>\n",
              "      <th>50%</th>\n",
              "      <td>1542.486000</td>\n",
              "    </tr>\n",
              "    <tr>\n",
              "      <th>75%</th>\n",
              "      <td>1893.959000</td>\n",
              "    </tr>\n",
              "    <tr>\n",
              "      <th>max</th>\n",
              "      <td>4773.386000</td>\n",
              "    </tr>\n",
              "  </tbody>\n",
              "</table>\n",
              "</div>"
            ],
            "text/plain": [
              "       Global_active_power\n",
              "count          1442.000000\n",
              "mean           1563.162724\n",
              "std             603.833832\n",
              "min             210.240000\n",
              "25%            1166.661500\n",
              "50%            1542.486000\n",
              "75%            1893.959000\n",
              "max            4773.386000"
            ]
          },
          "metadata": {
            "tags": []
          },
          "execution_count": 42
        }
      ]
    },
    {
      "metadata": {
        "id": "JMDshyYLmaNo",
        "colab_type": "code",
        "colab": {
          "autoexec": {
            "startup": false,
            "wait_interval": 0
          },
          "output_extras": [
            {
              "item_id": 1
            },
            {
              "item_id": 2
            }
          ],
          "base_uri": "https://localhost:8080/",
          "height": 286
        },
        "outputId": "0f60d53e-8b13-44d8-be01-4d9d09fde4ef",
        "executionInfo": {
          "status": "ok",
          "timestamp": 1523012823494,
          "user_tz": -330,
          "elapsed": 1118,
          "user": {
            "displayName": "Sharique Eliyas",
            "photoUrl": "//lh5.googleusercontent.com/-1NjURNXzbSA/AAAAAAAAAAI/AAAAAAAAABw/RxYorZL6W6c/s50-c-k-no/photo.jpg",
            "userId": "118408623472071970071"
          }
        }
      },
      "cell_type": "code",
      "source": [
        "df_daily.plot()"
      ],
      "execution_count": 43,
      "outputs": [
        {
          "output_type": "execute_result",
          "data": {
            "text/plain": [
              "<matplotlib.axes._subplots.AxesSubplot at 0x7f3af08beda0>"
            ]
          },
          "metadata": {
            "tags": []
          },
          "execution_count": 43
        },
        {
          "output_type": "display_data",
          "data": {
            "image/png": "[encoded data removed]",
            "text/plain": [
              "<matplotlib.figure.Figure at 0x7f3af08f0518>"
            ]
          },
          "metadata": {
            "tags": []
          }
        }
      ]
    },
    {
      "metadata": {
        "id": "AVrP3N2LmcrV",
        "colab_type": "code",
        "colab": {
          "autoexec": {
            "startup": false,
            "wait_interval": 0
          },
          "output_extras": [
            {
              "item_id": 1
            },
            {
              "item_id": 2
            }
          ],
          "base_uri": "https://localhost:8080/",
          "height": 314
        },
        "outputId": "694f25ce-911f-436e-b7a4-bf65a862d43f",
        "executionInfo": {
          "status": "ok",
          "timestamp": 1523012827079,
          "user_tz": -330,
          "elapsed": 1003,
          "user": {
            "displayName": "Sharique Eliyas",
            "photoUrl": "//lh5.googleusercontent.com/-1NjURNXzbSA/AAAAAAAAAAI/AAAAAAAAABw/RxYorZL6W6c/s50-c-k-no/photo.jpg",
            "userId": "118408623472071970071"
          }
        }
      },
      "cell_type": "code",
      "source": [
        "df_daily.hist()"
      ],
      "execution_count": 44,
      "outputs": [
        {
          "output_type": "execute_result",
          "data": {
            "text/plain": [
              "array([[<matplotlib.axes._subplots.AxesSubplot object at 0x7f3af08533c8>]],\n",
              "      dtype=object)"
            ]
          },
          "metadata": {
            "tags": []
          },
          "execution_count": 44
        },
        {
          "output_type": "display_data",
          "data": {
            "image/png": "[encoded data removed]",
            "text/plain": [
              "<matplotlib.figure.Figure at 0x7f3af07d2898>"
            ]
          },
          "metadata": {
            "tags": []
          }
        }
      ]
    },
    {
      "metadata": {
        "id": "__5mXCPnmgct",
        "colab_type": "code",
        "colab": {
          "autoexec": {
            "startup": false,
            "wait_interval": 0
          },
          "output_extras": [
            {
              "item_id": 1
            },
            {
              "item_id": 2
            },
            {
              "item_id": 3
            }
          ],
          "base_uri": "https://localhost:8080/",
          "height": 354
        },
        "outputId": "89d526ea-7142-417b-cd76-edd59957a700",
        "executionInfo": {
          "status": "ok",
          "timestamp": 1523012831611,
          "user_tz": -330,
          "elapsed": 1844,
          "user": {
            "displayName": "Sharique Eliyas",
            "photoUrl": "//lh5.googleusercontent.com/-1NjURNXzbSA/AAAAAAAAAAI/AAAAAAAAABw/RxYorZL6W6c/s50-c-k-no/photo.jpg",
            "userId": "118408623472071970071"
          }
        }
      },
      "cell_type": "code",
      "source": [
        "autocorrelation_plot(df_daily)"
      ],
      "execution_count": 45,
      "outputs": [
        {
          "output_type": "stream",
          "text": [
            "/usr/local/lib/python3.6/dist-packages/ipykernel_launcher.py:1: FutureWarning: 'pandas.tools.plotting.autocorrelation_plot' is deprecated, import 'pandas.plotting.autocorrelation_plot' instead.\n",
            "  \"\"\"Entry point for launching an IPython kernel.\n"
          ],
          "name": "stderr"
        },
        {
          "output_type": "execute_result",
          "data": {
            "text/plain": [
              "<matplotlib.axes._subplots.AxesSubplot at 0x7f3af0804a20>"
            ]
          },
          "metadata": {
            "tags": []
          },
          "execution_count": 45
        },
        {
          "output_type": "display_data",
          "data": {
            "image/png": "[encoded data removed]",
            "text/plain": [
              "<matplotlib.figure.Figure at 0x7f3af08b2be0>"
            ]
          },
          "metadata": {
            "tags": []
          }
        }
      ]
    },
    {
      "metadata": {
        "id": "4NvGl9kAmi4q",
        "colab_type": "code",
        "colab": {
          "autoexec": {
            "startup": false,
            "wait_interval": 0
          },
          "output_extras": [
            {
              "item_id": 1
            }
          ],
          "base_uri": "https://localhost:8080/",
          "height": 51
        },
        "outputId": "c1c51568-2bd4-4a33-b538-fca1a9625bf6",
        "executionInfo": {
          "status": "ok",
          "timestamp": 1523012838486,
          "user_tz": -330,
          "elapsed": 1146,
          "user": {
            "displayName": "Sharique Eliyas",
            "photoUrl": "//lh5.googleusercontent.com/-1NjURNXzbSA/AAAAAAAAAAI/AAAAAAAAABw/RxYorZL6W6c/s50-c-k-no/photo.jpg",
            "userId": "118408623472071970071"
          }
        }
      },
      "cell_type": "code",
      "source": [
        "#comparison of mean and variance by splitting in two parts\n",
        "X = df_daily.values\n",
        "split = len(X)//2\n",
        "X1, X2 = X[0:split],X[split:]\n",
        "mean1,mean2 = X1.mean(),X2.mean()\n",
        "var1,var2 = X1.var(),X2.var()\n",
        "print(\"mean1 = %f , mean2 = %f\"%(mean1,mean2))\n",
        "print(\"var1 = %f , var2 = %f\"%(var1,var2))"
      ],
      "execution_count": 46,
      "outputs": [
        {
          "output_type": "stream",
          "text": [
            "mean1 = 1586.269229 , mean2 = 1540.056219\n",
            "var1 = 461000.281161 , var2 = 266656.783069\n"
          ],
          "name": "stdout"
        }
      ]
    },
    {
      "metadata": {
        "id": "A_Nz6WNJmwNc",
        "colab_type": "code",
        "colab": {
          "autoexec": {
            "startup": false,
            "wait_interval": 0
          },
          "output_extras": [
            {
              "item_id": 1
            }
          ],
          "base_uri": "https://localhost:8080/",
          "height": 102
        },
        "outputId": "7e220073-d88b-45a5-c355-599a02b0f17e",
        "executionInfo": {
          "status": "ok",
          "timestamp": 1523012843876,
          "user_tz": -330,
          "elapsed": 1074,
          "user": {
            "displayName": "Sharique Eliyas",
            "photoUrl": "//lh5.googleusercontent.com/-1NjURNXzbSA/AAAAAAAAAAI/AAAAAAAAABw/RxYorZL6W6c/s50-c-k-no/photo.jpg",
            "userId": "118408623472071970071"
          }
        }
      },
      "cell_type": "code",
      "source": [
        "#comparison of mean and variance by splitting in three parts\n",
        "X = df_daily.values\n",
        "split = len(X)//3\n",
        "X1,X2,X3 = X[0:split],X[split:2*split],X[2*split:]\n",
        "print(X1.shape)\n",
        "print(X2.shape)\n",
        "print(X3.shape)\n",
        "mean1,mean2,mean3 = X1.mean(),X2.mean(),X3.mean()\n",
        "var1,var2,var3 = X1.var(),X2.var(),X3.var()\n",
        "print(\"mean1 = %f , mean2 = %f , mean3 = %f\"%(mean1,mean2,mean3))\n",
        "print(\"var1 = %f , var2 = %f , var3 = %f\"%(var1,var2,var3))"
      ],
      "execution_count": 47,
      "outputs": [
        {
          "output_type": "stream",
          "text": [
            "(480, 1)\n",
            "(480, 1)\n",
            "(482, 1)\n",
            "mean1 = 1689.807383 , mean2 = 1470.886679 , mean3 = 1528.936718\n",
            "var1 = 486319.788623 , var2 = 328638.038413 , var3 = 252864.039091\n"
          ],
          "name": "stdout"
        }
      ]
    },
    {
      "metadata": {
        "id": "-A5BlYdsmyWk",
        "colab_type": "code",
        "colab": {
          "autoexec": {
            "startup": false,
            "wait_interval": 0
          },
          "output_extras": [
            {
              "item_id": 1
            }
          ],
          "base_uri": "https://localhost:8080/",
          "height": 119
        },
        "outputId": "e9004835-0846-49e0-e9f5-999e20b4a54d",
        "executionInfo": {
          "status": "ok",
          "timestamp": 1523012847806,
          "user_tz": -330,
          "elapsed": 992,
          "user": {
            "displayName": "Sharique Eliyas",
            "photoUrl": "//lh5.googleusercontent.com/-1NjURNXzbSA/AAAAAAAAAAI/AAAAAAAAABw/RxYorZL6W6c/s50-c-k-no/photo.jpg",
            "userId": "118408623472071970071"
          }
        }
      },
      "cell_type": "code",
      "source": [
        "#comparison of mean and variance by splitting in four parts\n",
        "X = df_daily.values\n",
        "split = len(X)//4\n",
        "X1,X2,X3,X4 = X[0:split],X[split:2*split],X[2*split:3*split],X[3*split:]\n",
        "print(X1.shape)\n",
        "print(X2.shape)\n",
        "print(X3.shape)\n",
        "print(X4.shape)\n",
        "mean1,mean2,mean3,mean4 = X1.mean(),X2.mean(),X3.mean(),X4.mean()\n",
        "var1,var2,var3,var4 = X1.var(),X2.var(),X3.var(),X4.var()\n",
        "print(\"mean1 = %f , mean2 = %f , mean3 = %f , mean4 = %f\"%(mean1,mean2,mean3,mean4))\n",
        "print(\"var1 = %f , var2 = %f , var3 = %f , var4 = %f\"%(var1,var2,var3,var4))"
      ],
      "execution_count": 48,
      "outputs": [
        {
          "output_type": "stream",
          "text": [
            "(360, 1)\n",
            "(360, 1)\n",
            "(360, 1)\n",
            "(362, 1)\n",
            "mean1 = 1601.446694 , mean2 = 1569.779683 , mean3 = 1530.857450 , mean4 = 1550.636657\n",
            "var1 = 527146.185561 , var2 = 395012.913187 , var3 = 276684.790267 , var4 = 256494.297888\n"
          ],
          "name": "stdout"
        }
      ]
    },
    {
      "metadata": {
        "id": "gQnlcuO9m09k",
        "colab_type": "code",
        "colab": {
          "autoexec": {
            "startup": false,
            "wait_interval": 0
          }
        }
      },
      "cell_type": "code",
      "source": [
        "X = df_daily['Global_active_power'].values"
      ],
      "execution_count": 0,
      "outputs": []
    },
    {
      "metadata": {
        "id": "kSoL-e5xm5wv",
        "colab_type": "code",
        "colab": {
          "autoexec": {
            "startup": false,
            "wait_interval": 0
          },
          "output_extras": [
            {
              "item_id": 1
            }
          ],
          "base_uri": "https://localhost:8080/",
          "height": 34
        },
        "outputId": "d8bf5c6c-e6a5-4285-ee82-b69e0942a353",
        "executionInfo": {
          "status": "ok",
          "timestamp": 1523012855376,
          "user_tz": -330,
          "elapsed": 1004,
          "user": {
            "displayName": "Sharique Eliyas",
            "photoUrl": "//lh5.googleusercontent.com/-1NjURNXzbSA/AAAAAAAAAAI/AAAAAAAAABw/RxYorZL6W6c/s50-c-k-no/photo.jpg",
            "userId": "118408623472071970071"
          }
        }
      },
      "cell_type": "code",
      "source": [
        "print(X)"
      ],
      "execution_count": 50,
      "outputs": [
        {
          "output_type": "stream",
          "text": [
            "[1209.176 3390.46  2203.826 ... 1796.248 1431.164 1488.104]\n"
          ],
          "name": "stdout"
        }
      ]
    },
    {
      "metadata": {
        "id": "t1OnlkGjm7_4",
        "colab_type": "code",
        "colab": {
          "autoexec": {
            "startup": false,
            "wait_interval": 0
          }
        }
      },
      "cell_type": "code",
      "source": [
        "from statsmodels.tsa.stattools import adfuller"
      ],
      "execution_count": 0,
      "outputs": []
    },
    {
      "metadata": {
        "id": "uj84x-ECm-Ki",
        "colab_type": "code",
        "colab": {
          "autoexec": {
            "startup": false,
            "wait_interval": 0
          }
        }
      },
      "cell_type": "code",
      "source": [
        "result = adfuller(X, maxlag=None, autolag='BIC', regression='c')"
      ],
      "execution_count": 0,
      "outputs": []
    },
    {
      "metadata": {
        "id": "_FM4HUgBnAc7",
        "colab_type": "code",
        "colab": {
          "autoexec": {
            "startup": false,
            "wait_interval": 0
          },
          "output_extras": [
            {
              "item_id": 1
            }
          ],
          "base_uri": "https://localhost:8080/",
          "height": 119
        },
        "outputId": "9aa32be6-6125-4f2a-8b56-2c1abcfbccaf",
        "executionInfo": {
          "status": "ok",
          "timestamp": 1523012865863,
          "user_tz": -330,
          "elapsed": 1011,
          "user": {
            "displayName": "Sharique Eliyas",
            "photoUrl": "//lh5.googleusercontent.com/-1NjURNXzbSA/AAAAAAAAAAI/AAAAAAAAABw/RxYorZL6W6c/s50-c-k-no/photo.jpg",
            "userId": "118408623472071970071"
          }
        }
      },
      "cell_type": "code",
      "source": [
        "print('ADF Statistic: %f' % result[0])\n",
        "print('p-value: %f' % result[1])\n",
        "print('Critical Values:')\n",
        "for key, value in result[4].items():\n",
        "\tprint('\\t%s: %.3f' % (key, value))"
      ],
      "execution_count": 53,
      "outputs": [
        {
          "output_type": "stream",
          "text": [
            "ADF Statistic: -4.131210\n",
            "p-value: 0.000860\n",
            "Critical Values:\n",
            "\t1%: -3.435\n",
            "\t5%: -2.864\n",
            "\t10%: -2.568\n"
          ],
          "name": "stdout"
        }
      ]
    },
    {
      "metadata": {
        "id": "qMLJtWQSnDGI",
        "colab_type": "code",
        "colab": {
          "autoexec": {
            "startup": false,
            "wait_interval": 0
          }
        }
      },
      "cell_type": "code",
      "source": [
        "from statsmodels.tsa.arima_model import ARIMA\n",
        "from sklearn.metrics import mean_squared_error"
      ],
      "execution_count": 0,
      "outputs": []
    },
    {
      "metadata": {
        "id": "vu267o0pnImY",
        "colab_type": "code",
        "colab": {
          "autoexec": {
            "startup": false,
            "wait_interval": 0
          }
        }
      },
      "cell_type": "code",
      "source": [
        "def evaluate_ARIMA_model(df,ratio,ordr):\n",
        "  X = df[['Global_active_power']].values\n",
        "  split = int((X.shape[0])*ratio)\n",
        "  train = X[:split]\n",
        "  test = X[split:]\n",
        "  \n",
        "  #\n",
        "  history = [x for x in train]\n",
        "  predictions = list()\n",
        "  for t in range(len(test)):\n",
        "    model = ARIMA(history,order=ordr)\n",
        "    model_fit = model.fit(disp = 0)\n",
        "    output = model_fit.forecast()\n",
        "    yhat = output[0]\n",
        "    predictions.append(yhat)\n",
        "    obs = test[t]\n",
        "    history.append(obs)\n",
        "  error = mean_squared_error(test,predictions)\n",
        "  print(\"ARIMA(\",ordr,\") error = \",error)\n",
        "  return (error,test,predictions)"
      ],
      "execution_count": 0,
      "outputs": []
    },
    {
      "metadata": {
        "id": "Kccz7tU2nLI4",
        "colab_type": "code",
        "colab": {
          "autoexec": {
            "startup": false,
            "wait_interval": 0
          }
        }
      },
      "cell_type": "code",
      "source": [
        "def parameter_tuning(df,p_max,d_max,q_max):\n",
        "  best_error=9999999999\n",
        "  for i in range(p_max):\n",
        "    for j in range(d_max):\n",
        "      for k in range(q_max):\n",
        "        order = (i,j,k)\n",
        "        val = evaluate_ARIMA_model(df,0.7,order)\n",
        "        if(val[0]<best_error):\n",
        "          best_error = val[0]\n",
        "          best_test = val[1]\n",
        "          best_predictions = val[2]\n",
        "          best_order = order\n",
        "  print(\"best order = \",best_order)\n",
        "  return (best_error,best_test,best_predictions,best_order)"
      ],
      "execution_count": 0,
      "outputs": []
    },
    {
      "metadata": {
        "id": "c8t8PjrunNzy",
        "colab_type": "code",
        "colab": {
          "autoexec": {
            "startup": false,
            "wait_interval": 0
          },
          "output_extras": [
            {
              "item_id": 1
            },
            {
              "item_id": 2
            },
            {
              "item_id": 3
            },
            {
              "item_id": 4
            },
            {
              "item_id": 6
            }
          ],
          "base_uri": "https://localhost:8080/",
          "height": 258
        },
        "outputId": "ede9e124-2b3d-4b74-9775-cfaf8bef4f56",
        "executionInfo": {
          "status": "ok",
          "timestamp": 1523013049631,
          "user_tz": -330,
          "elapsed": 83428,
          "user": {
            "displayName": "Sharique Eliyas",
            "photoUrl": "//lh5.googleusercontent.com/-1NjURNXzbSA/AAAAAAAAAAI/AAAAAAAAABw/RxYorZL6W6c/s50-c-k-no/photo.jpg",
            "userId": "118408623472071970071"
          }
        }
      },
      "cell_type": "code",
      "source": [
        "ans = parameter_tuning(df_daily,2,2,1)"
      ],
      "execution_count": 61,
      "outputs": [
        {
          "output_type": "stream",
          "text": [
            "ARIMA( (0, 0, 0) ) error =  244019.943760861\n"
          ],
          "name": "stdout"
        },
        {
          "output_type": "stream",
          "text": [
            "/usr/local/lib/python3.6/dist-packages/statsmodels/base/model.py:496: ConvergenceWarning: Maximum Likelihood optimization failed to converge. Check mle_retvals\n",
            "  \"Check mle_retvals\", ConvergenceWarning)\n"
          ],
          "name": "stderr"
        },
        {
          "output_type": "stream",
          "text": [
            "ARIMA( (0, 1, 0) ) error =  204781.907246382\n"
          ],
          "name": "stdout"
        },
        {
          "output_type": "stream",
          "text": [
            "/usr/local/lib/python3.6/dist-packages/statsmodels/tsa/kalmanf/kalmanfilter.py:646: FutureWarning: Conversion of the second argument of issubdtype from `float` to `np.floating` is deprecated. In future, it will be treated as `np.float64 == np.dtype(float).type`.\n",
            "  if issubdtype(paramsdtype, float):\n",
            "/usr/local/lib/python3.6/dist-packages/statsmodels/tsa/kalmanf/kalmanfilter.py:650: FutureWarning: Conversion of the second argument of issubdtype from `complex` to `np.complexfloating` is deprecated. In future, it will be treated as `np.complex128 == np.dtype(complex).type`.\n",
            "  elif issubdtype(paramsdtype, complex):\n",
            "/usr/local/lib/python3.6/dist-packages/statsmodels/tsa/kalmanf/kalmanfilter.py:577: FutureWarning: Conversion of the second argument of issubdtype from `float` to `np.floating` is deprecated. In future, it will be treated as `np.float64 == np.dtype(float).type`.\n",
            "  if issubdtype(paramsdtype, float):\n"
          ],
          "name": "stderr"
        },
        {
          "output_type": "stream",
          "text": [
            "ARIMA( (1, 0, 0) ) error =  162012.92002893973\n",
            "ARIMA( (1, 1, 0) ) error =  176376.2223772118\n",
            "best order =  (1, 0, 0)\n"
          ],
          "name": "stdout"
        }
      ]
    },
    {
      "metadata": {
        "id": "Q9OA_88CnQfU",
        "colab_type": "code",
        "colab": {
          "autoexec": {
            "startup": false,
            "wait_interval": 0
          },
          "output_extras": [
            {
              "item_id": 1
            }
          ],
          "base_uri": "https://localhost:8080/",
          "height": 34
        },
        "outputId": "9128ce2f-31ee-432b-cd34-cab1eaa73352",
        "executionInfo": {
          "status": "ok",
          "timestamp": 1523013050760,
          "user_tz": -330,
          "elapsed": 980,
          "user": {
            "displayName": "Sharique Eliyas",
            "photoUrl": "//lh5.googleusercontent.com/-1NjURNXzbSA/AAAAAAAAAAI/AAAAAAAAABw/RxYorZL6W6c/s50-c-k-no/photo.jpg",
            "userId": "118408623472071970071"
          }
        }
      },
      "cell_type": "code",
      "source": [
        "print(\"Mean Square Error = %f\"%(ans[0]))"
      ],
      "execution_count": 62,
      "outputs": [
        {
          "output_type": "stream",
          "text": [
            "Mean Square Error = 162012.920029\n"
          ],
          "name": "stdout"
        }
      ]
    },
    {
      "metadata": {
        "id": "ZWaXW4tcnTDA",
        "colab_type": "code",
        "colab": {
          "autoexec": {
            "startup": false,
            "wait_interval": 0
          },
          "output_extras": [
            {
              "item_id": 1
            }
          ],
          "base_uri": "https://localhost:8080/",
          "height": 266
        },
        "outputId": "e5f71c55-dcc0-4757-b784-9ca6b910d14b",
        "executionInfo": {
          "status": "ok",
          "timestamp": 1523013053123,
          "user_tz": -330,
          "elapsed": 1274,
          "user": {
            "displayName": "Sharique Eliyas",
            "photoUrl": "//lh5.googleusercontent.com/-1NjURNXzbSA/AAAAAAAAAAI/AAAAAAAAABw/RxYorZL6W6c/s50-c-k-no/photo.jpg",
            "userId": "118408623472071970071"
          }
        }
      },
      "cell_type": "code",
      "source": [
        "plt.plot(ans[1])\n",
        "plt.plot(ans[2],'r')\n",
        "plt.legend\n",
        "plt.show()"
      ],
      "execution_count": 63,
      "outputs": [
        {
          "output_type": "display_data",
          "data": {
            "image/png": "[encoded data removed]",
            "text/plain": [
              "<matplotlib.figure.Figure at 0x7f3af0615c88>"
            ]
          },
          "metadata": {
            "tags": []
          }
        }
      ]
    },
    {
      "metadata": {
        "id": "3652dJu0nVhE",
        "colab_type": "code",
        "colab": {
          "autoexec": {
            "startup": false,
            "wait_interval": 0
          },
          "output_extras": [
            {
              "item_id": 1
            },
            {
              "item_id": 2
            },
            {
              "item_id": 4
            },
            {
              "item_id": 5
            }
          ],
          "base_uri": "https://localhost:8080/",
          "height": 472
        },
        "outputId": "28ae2762-c29f-4297-af19-a87f5c2b2d38",
        "executionInfo": {
          "status": "ok",
          "timestamp": 1523013128928,
          "user_tz": -330,
          "elapsed": 5579,
          "user": {
            "displayName": "Sharique Eliyas",
            "photoUrl": "//lh5.googleusercontent.com/-1NjURNXzbSA/AAAAAAAAAAI/AAAAAAAAABw/RxYorZL6W6c/s50-c-k-no/photo.jpg",
            "userId": "118408623472071970071"
          }
        }
      },
      "cell_type": "code",
      "source": [
        "#graph for first 100 days\n",
        "anstp = ans = parameter_tuning(df_daily[:100],2,2,1)\n",
        "plt.plot(ans[1])\n",
        "plt.plot(ans[2],'r')\n",
        "plt.legend\n",
        "plt.show()"
      ],
      "execution_count": 64,
      "outputs": [
        {
          "output_type": "stream",
          "text": [
            "ARIMA( (0, 0, 0) ) error =  1051407.8275207693\n",
            "ARIMA( (0, 1, 0) ) error =  526224.2492159191\n"
          ],
          "name": "stdout"
        },
        {
          "output_type": "stream",
          "text": [
            "/usr/local/lib/python3.6/dist-packages/statsmodels/tsa/kalmanf/kalmanfilter.py:646: FutureWarning: Conversion of the second argument of issubdtype from `float` to `np.floating` is deprecated. In future, it will be treated as `np.float64 == np.dtype(float).type`.\n",
            "  if issubdtype(paramsdtype, float):\n",
            "/usr/local/lib/python3.6/dist-packages/statsmodels/tsa/kalmanf/kalmanfilter.py:650: FutureWarning: Conversion of the second argument of issubdtype from `complex` to `np.complexfloating` is deprecated. In future, it will be treated as `np.complex128 == np.dtype(complex).type`.\n",
            "  elif issubdtype(paramsdtype, complex):\n",
            "/usr/local/lib/python3.6/dist-packages/statsmodels/tsa/kalmanf/kalmanfilter.py:577: FutureWarning: Conversion of the second argument of issubdtype from `float` to `np.floating` is deprecated. In future, it will be treated as `np.float64 == np.dtype(float).type`.\n",
            "  if issubdtype(paramsdtype, float):\n"
          ],
          "name": "stderr"
        },
        {
          "output_type": "stream",
          "text": [
            "ARIMA( (1, 0, 0) ) error =  852276.9744585016\n",
            "ARIMA( (1, 1, 0) ) error =  598924.5307172533\n",
            "best order =  (0, 1, 0)\n"
          ],
          "name": "stdout"
        },
        {
          "output_type": "display_data",
          "data": {
            "image/png": "[encoded data removed]",
            "text/plain": [
              "<matplotlib.figure.Figure at 0x7f3af077db70>"
            ]
          },
          "metadata": {
            "tags": []
          }
        }
      ]
    },
    {
      "metadata": {
        "id": "QFMUY-GMp_xy",
        "colab_type": "code",
        "colab": {
          "autoexec": {
            "startup": false,
            "wait_interval": 0
          }
        }
      },
      "cell_type": "code",
      "source": [
        ""
      ],
      "execution_count": 0,
      "outputs": []
    }
  ]
}