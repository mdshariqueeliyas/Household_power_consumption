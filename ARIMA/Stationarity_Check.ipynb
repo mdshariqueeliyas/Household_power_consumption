{
  "nbformat": 4,
  "nbformat_minor": 0,
  "metadata": {
    "colab": {
      "name": "Stationarity_Check.ipynb",
      "version": "0.3.2",
      "views": {},
      "default_view": {},
      "provenance": []
    },
    "kernelspec": {
      "name": "python3",
      "display_name": "Python 3"
    },
    "accelerator": "GPU"
  },
  "cells": [
    {
      "metadata": {
        "id": "2IojcDCFsMeG",
        "colab_type": "code",
        "colab": {
          "autoexec": {
            "startup": false,
            "wait_interval": 0
          },
          "output_extras": [
            {
              "item_id": 1
            },
            {
              "item_id": 2
            }
          ],
          "base_uri": "https://localhost:8080/",
          "height": 258
        },
        "outputId": "612e6521-cf34-4d81-8231-b88b5854f28e",
        "executionInfo": {
          "status": "ok",
          "timestamp": 1522925672004,
          "user_tz": -330,
          "elapsed": 16513,
          "user": {
            "displayName": "Sharique Eliyas",
            "photoUrl": "//lh5.googleusercontent.com/-1NjURNXzbSA/AAAAAAAAAAI/AAAAAAAAABw/RxYorZL6W6c/s50-c-k-no/photo.jpg",
            "userId": "118408623472071970071"
          }
        }
      },
      "cell_type": "code",
      "source": [
        "!wget -q https://archive.ics.uci.edu/ml/machine-learning-databases/00235/household_power_consumption.zip\n",
        "!unzip -q household_power_consumption.zip"
      ],
      "execution_count": 1,
      "outputs": [
        {
          "output_type": "stream",
          "text": [
            "/usr/local/lib/python3.6/dist-packages/IPython/core/interactiveshell.py:2718: DtypeWarning: Columns (2,3,4,5,6,7) have mixed types. Specify dtype option on import or set low_memory=False.\n",
            "  interactivity=interactivity, compiler=compiler, result=result)\n"
          ],
          "name": "stderr"
        },
        {
          "output_type": "execute_result",
          "data": {
            "text/html": [
              "<div>\n",
              "<style scoped>\n",
              "    .dataframe tbody tr th:only-of-type {\n",
              "        vertical-align: middle;\n",
              "    }\n",
              "\n",
              "    .dataframe tbody tr th {\n",
              "        vertical-align: top;\n",
              "    }\n",
              "\n",
              "    .dataframe thead th {\n",
              "        text-align: right;\n",
              "    }\n",
              "</style>\n",
              "<table border=\"1\" class=\"dataframe\">\n",
              "  <thead>\n",
              "    <tr style=\"text-align: right;\">\n",
              "      <th></th>\n",
              "      <th>Global_active_power</th>\n",
              "      <th>Global_reactive_power</th>\n",
              "      <th>Voltage</th>\n",
              "      <th>Global_intensity</th>\n",
              "      <th>Sub_metering_1</th>\n",
              "      <th>Sub_metering_2</th>\n",
              "      <th>Sub_metering_3</th>\n",
              "      <th>TimeStamp</th>\n",
              "    </tr>\n",
              "  </thead>\n",
              "  <tbody>\n",
              "    <tr>\n",
              "      <th>2006-12-16 17:24:00</th>\n",
              "      <td>4.216</td>\n",
              "      <td>0.418</td>\n",
              "      <td>234.840</td>\n",
              "      <td>18.400</td>\n",
              "      <td>0.000</td>\n",
              "      <td>1.000</td>\n",
              "      <td>17.0</td>\n",
              "      <td>2006-12-16 17:24:00</td>\n",
              "    </tr>\n",
              "    <tr>\n",
              "      <th>2006-12-16 17:25:00</th>\n",
              "      <td>5.360</td>\n",
              "      <td>0.436</td>\n",
              "      <td>233.630</td>\n",
              "      <td>23.000</td>\n",
              "      <td>0.000</td>\n",
              "      <td>1.000</td>\n",
              "      <td>16.0</td>\n",
              "      <td>2006-12-16 17:25:00</td>\n",
              "    </tr>\n",
              "    <tr>\n",
              "      <th>2006-12-16 17:26:00</th>\n",
              "      <td>5.374</td>\n",
              "      <td>0.498</td>\n",
              "      <td>233.290</td>\n",
              "      <td>23.000</td>\n",
              "      <td>0.000</td>\n",
              "      <td>2.000</td>\n",
              "      <td>17.0</td>\n",
              "      <td>2006-12-16 17:26:00</td>\n",
              "    </tr>\n",
              "    <tr>\n",
              "      <th>2006-12-16 17:27:00</th>\n",
              "      <td>5.388</td>\n",
              "      <td>0.502</td>\n",
              "      <td>233.740</td>\n",
              "      <td>23.000</td>\n",
              "      <td>0.000</td>\n",
              "      <td>1.000</td>\n",
              "      <td>17.0</td>\n",
              "      <td>2006-12-16 17:27:00</td>\n",
              "    </tr>\n",
              "    <tr>\n",
              "      <th>2006-12-16 17:28:00</th>\n",
              "      <td>3.666</td>\n",
              "      <td>0.528</td>\n",
              "      <td>235.680</td>\n",
              "      <td>15.800</td>\n",
              "      <td>0.000</td>\n",
              "      <td>1.000</td>\n",
              "      <td>17.0</td>\n",
              "      <td>2006-12-16 17:28:00</td>\n",
              "    </tr>\n",
              "  </tbody>\n",
              "</table>\n",
              "</div>"
            ],
            "text/plain": [
              "                    Global_active_power Global_reactive_power  Voltage  \\\n",
              "2006-12-16 17:24:00               4.216                 0.418  234.840   \n",
              "2006-12-16 17:25:00               5.360                 0.436  233.630   \n",
              "2006-12-16 17:26:00               5.374                 0.498  233.290   \n",
              "2006-12-16 17:27:00               5.388                 0.502  233.740   \n",
              "2006-12-16 17:28:00               3.666                 0.528  235.680   \n",
              "\n",
              "                    Global_intensity Sub_metering_1 Sub_metering_2  \\\n",
              "2006-12-16 17:24:00           18.400          0.000          1.000   \n",
              "2006-12-16 17:25:00           23.000          0.000          1.000   \n",
              "2006-12-16 17:26:00           23.000          0.000          2.000   \n",
              "2006-12-16 17:27:00           23.000          0.000          1.000   \n",
              "2006-12-16 17:28:00           15.800          0.000          1.000   \n",
              "\n",
              "                     Sub_metering_3           TimeStamp  \n",
              "2006-12-16 17:24:00            17.0 2006-12-16 17:24:00  \n",
              "2006-12-16 17:25:00            16.0 2006-12-16 17:25:00  \n",
              "2006-12-16 17:26:00            17.0 2006-12-16 17:26:00  \n",
              "2006-12-16 17:27:00            17.0 2006-12-16 17:27:00  \n",
              "2006-12-16 17:28:00            17.0 2006-12-16 17:28:00  "
            ]
          },
          "metadata": {
            "tags": []
          },
          "execution_count": 1
        }
      ]
    },
    {
      "metadata": {
        "id": "v-2iScDWepLm",
        "colab_type": "code",
        "colab": {
          "autoexec": {
            "startup": false,
            "wait_interval": 0
          },
          "output_extras": [
            {
              "item_id": 1
            },
            {
              "item_id": 2
            }
          ],
          "base_uri": "https://localhost:8080/",
          "height": 258
        },
        "outputId": "564f8c0a-4ae1-4a92-ae23-887c10a56c87",
        "executionInfo": {
          "status": "ok",
          "timestamp": 1522928724858,
          "user_tz": -330,
          "elapsed": 13140,
          "user": {
            "displayName": "Sharique Eliyas",
            "photoUrl": "//lh5.googleusercontent.com/-1NjURNXzbSA/AAAAAAAAAAI/AAAAAAAAABw/RxYorZL6W6c/s50-c-k-no/photo.jpg",
            "userId": "118408623472071970071"
          }
        }
      },
      "cell_type": "code",
      "source": [
        "import numpy as np\n",
        "import pandas as pd\n",
        "import matplotlib.pyplot as plt\n",
        "from pandas.tools.plotting import autocorrelation_plot\n",
        "%matplotlib inline\n",
        "#\n",
        "df = pd.read_csv('household_power_consumption.txt',sep=';')\n",
        "#\n",
        "df['TimeStamp'] = df['Date']+' '+df['Time']\n",
        "df['TimeStamp'] = pd.to_datetime(df['TimeStamp'],format = \"%d/%m/%Y %H:%M:%S\")\n",
        "df.index = df['TimeStamp']\n",
        "df.index.name = None\n",
        "df = df.drop(['Date','Time'],axis = 1)\n",
        "df.head()"
      ],
      "execution_count": 3,
      "outputs": [
        {
          "output_type": "stream",
          "text": [
            "/usr/local/lib/python3.6/dist-packages/IPython/core/interactiveshell.py:2718: DtypeWarning: Columns (2,3,4,5,6,7) have mixed types. Specify dtype option on import or set low_memory=False.\n",
            "  interactivity=interactivity, compiler=compiler, result=result)\n"
          ],
          "name": "stderr"
        },
        {
          "output_type": "execute_result",
          "data": {
            "text/html": [
              "<div>\n",
              "<style scoped>\n",
              "    .dataframe tbody tr th:only-of-type {\n",
              "        vertical-align: middle;\n",
              "    }\n",
              "\n",
              "    .dataframe tbody tr th {\n",
              "        vertical-align: top;\n",
              "    }\n",
              "\n",
              "    .dataframe thead th {\n",
              "        text-align: right;\n",
              "    }\n",
              "</style>\n",
              "<table border=\"1\" class=\"dataframe\">\n",
              "  <thead>\n",
              "    <tr style=\"text-align: right;\">\n",
              "      <th></th>\n",
              "      <th>Global_active_power</th>\n",
              "      <th>Global_reactive_power</th>\n",
              "      <th>Voltage</th>\n",
              "      <th>Global_intensity</th>\n",
              "      <th>Sub_metering_1</th>\n",
              "      <th>Sub_metering_2</th>\n",
              "      <th>Sub_metering_3</th>\n",
              "      <th>TimeStamp</th>\n",
              "    </tr>\n",
              "  </thead>\n",
              "  <tbody>\n",
              "    <tr>\n",
              "      <th>2006-12-16 17:24:00</th>\n",
              "      <td>4.216</td>\n",
              "      <td>0.418</td>\n",
              "      <td>234.840</td>\n",
              "      <td>18.400</td>\n",
              "      <td>0.000</td>\n",
              "      <td>1.000</td>\n",
              "      <td>17.0</td>\n",
              "      <td>2006-12-16 17:24:00</td>\n",
              "    </tr>\n",
              "    <tr>\n",
              "      <th>2006-12-16 17:25:00</th>\n",
              "      <td>5.360</td>\n",
              "      <td>0.436</td>\n",
              "      <td>233.630</td>\n",
              "      <td>23.000</td>\n",
              "      <td>0.000</td>\n",
              "      <td>1.000</td>\n",
              "      <td>16.0</td>\n",
              "      <td>2006-12-16 17:25:00</td>\n",
              "    </tr>\n",
              "    <tr>\n",
              "      <th>2006-12-16 17:26:00</th>\n",
              "      <td>5.374</td>\n",
              "      <td>0.498</td>\n",
              "      <td>233.290</td>\n",
              "      <td>23.000</td>\n",
              "      <td>0.000</td>\n",
              "      <td>2.000</td>\n",
              "      <td>17.0</td>\n",
              "      <td>2006-12-16 17:26:00</td>\n",
              "    </tr>\n",
              "    <tr>\n",
              "      <th>2006-12-16 17:27:00</th>\n",
              "      <td>5.388</td>\n",
              "      <td>0.502</td>\n",
              "      <td>233.740</td>\n",
              "      <td>23.000</td>\n",
              "      <td>0.000</td>\n",
              "      <td>1.000</td>\n",
              "      <td>17.0</td>\n",
              "      <td>2006-12-16 17:27:00</td>\n",
              "    </tr>\n",
              "    <tr>\n",
              "      <th>2006-12-16 17:28:00</th>\n",
              "      <td>3.666</td>\n",
              "      <td>0.528</td>\n",
              "      <td>235.680</td>\n",
              "      <td>15.800</td>\n",
              "      <td>0.000</td>\n",
              "      <td>1.000</td>\n",
              "      <td>17.0</td>\n",
              "      <td>2006-12-16 17:28:00</td>\n",
              "    </tr>\n",
              "  </tbody>\n",
              "</table>\n",
              "</div>"
            ],
            "text/plain": [
              "                    Global_active_power Global_reactive_power  Voltage  \\\n",
              "2006-12-16 17:24:00               4.216                 0.418  234.840   \n",
              "2006-12-16 17:25:00               5.360                 0.436  233.630   \n",
              "2006-12-16 17:26:00               5.374                 0.498  233.290   \n",
              "2006-12-16 17:27:00               5.388                 0.502  233.740   \n",
              "2006-12-16 17:28:00               3.666                 0.528  235.680   \n",
              "\n",
              "                    Global_intensity Sub_metering_1 Sub_metering_2  \\\n",
              "2006-12-16 17:24:00           18.400          0.000          1.000   \n",
              "2006-12-16 17:25:00           23.000          0.000          1.000   \n",
              "2006-12-16 17:26:00           23.000          0.000          2.000   \n",
              "2006-12-16 17:27:00           23.000          0.000          1.000   \n",
              "2006-12-16 17:28:00           15.800          0.000          1.000   \n",
              "\n",
              "                     Sub_metering_3           TimeStamp  \n",
              "2006-12-16 17:24:00            17.0 2006-12-16 17:24:00  \n",
              "2006-12-16 17:25:00            16.0 2006-12-16 17:25:00  \n",
              "2006-12-16 17:26:00            17.0 2006-12-16 17:26:00  \n",
              "2006-12-16 17:27:00            17.0 2006-12-16 17:27:00  \n",
              "2006-12-16 17:28:00            17.0 2006-12-16 17:28:00  "
            ]
          },
          "metadata": {
            "tags": []
          },
          "execution_count": 3
        }
      ]
    },
    {
      "metadata": {
        "id": "Yxf3-BuisiQd",
        "colab_type": "code",
        "colab": {
          "autoexec": {
            "startup": false,
            "wait_interval": 0
          },
          "output_extras": [
            {
              "item_id": 1
            },
            {
              "item_id": 2
            }
          ],
          "base_uri": "https://localhost:8080/",
          "height": 275
        },
        "outputId": "cd81ee6b-0049-460e-8bf5-c0a74812ce18",
        "executionInfo": {
          "status": "ok",
          "timestamp": 1522928730317,
          "user_tz": -330,
          "elapsed": 5360,
          "user": {
            "displayName": "Sharique Eliyas",
            "photoUrl": "//lh5.googleusercontent.com/-1NjURNXzbSA/AAAAAAAAAAI/AAAAAAAAABw/RxYorZL6W6c/s50-c-k-no/photo.jpg",
            "userId": "118408623472071970071"
          }
        }
      },
      "cell_type": "code",
      "source": [
        "#@title Default title text\n",
        "df = df.convert_objects(convert_numeric=True)\n",
        "df = df.ffill()\n",
        "#\n",
        "newdf = df[['Global_active_power']]\n",
        "newdf.head()"
      ],
      "execution_count": 4,
      "outputs": [
        {
          "output_type": "stream",
          "text": [
            "/usr/local/lib/python3.6/dist-packages/ipykernel_launcher.py:1: FutureWarning: convert_objects is deprecated.  To re-infer data dtypes for object columns, use DataFrame.infer_objects()\n",
            "For all other conversions use the data-type specific converters pd.to_datetime, pd.to_timedelta and pd.to_numeric.\n",
            "  \"\"\"Entry point for launching an IPython kernel.\n"
          ],
          "name": "stderr"
        },
        {
          "output_type": "execute_result",
          "data": {
            "text/html": [
              "<div>\n",
              "<style scoped>\n",
              "    .dataframe tbody tr th:only-of-type {\n",
              "        vertical-align: middle;\n",
              "    }\n",
              "\n",
              "    .dataframe tbody tr th {\n",
              "        vertical-align: top;\n",
              "    }\n",
              "\n",
              "    .dataframe thead th {\n",
              "        text-align: right;\n",
              "    }\n",
              "</style>\n",
              "<table border=\"1\" class=\"dataframe\">\n",
              "  <thead>\n",
              "    <tr style=\"text-align: right;\">\n",
              "      <th></th>\n",
              "      <th>Global_active_power</th>\n",
              "    </tr>\n",
              "  </thead>\n",
              "  <tbody>\n",
              "    <tr>\n",
              "      <th>2006-12-16 17:24:00</th>\n",
              "      <td>4.216</td>\n",
              "    </tr>\n",
              "    <tr>\n",
              "      <th>2006-12-16 17:25:00</th>\n",
              "      <td>5.360</td>\n",
              "    </tr>\n",
              "    <tr>\n",
              "      <th>2006-12-16 17:26:00</th>\n",
              "      <td>5.374</td>\n",
              "    </tr>\n",
              "    <tr>\n",
              "      <th>2006-12-16 17:27:00</th>\n",
              "      <td>5.388</td>\n",
              "    </tr>\n",
              "    <tr>\n",
              "      <th>2006-12-16 17:28:00</th>\n",
              "      <td>3.666</td>\n",
              "    </tr>\n",
              "  </tbody>\n",
              "</table>\n",
              "</div>"
            ],
            "text/plain": [
              "                     Global_active_power\n",
              "2006-12-16 17:24:00                4.216\n",
              "2006-12-16 17:25:00                5.360\n",
              "2006-12-16 17:26:00                5.374\n",
              "2006-12-16 17:27:00                5.388\n",
              "2006-12-16 17:28:00                3.666"
            ]
          },
          "metadata": {
            "tags": []
          },
          "execution_count": 4
        }
      ]
    },
    {
      "metadata": {
        "id": "3L5f1UcbsvsS",
        "colab_type": "code",
        "colab": {
          "autoexec": {
            "startup": false,
            "wait_interval": 0
          },
          "output_extras": [
            {
              "item_id": 1
            },
            {
              "item_id": 2
            }
          ],
          "base_uri": "https://localhost:8080/",
          "height": 282
        },
        "outputId": "8ba9931d-d7b1-41c8-82f9-62ec86c28696",
        "executionInfo": {
          "status": "ok",
          "timestamp": 1522928741636,
          "user_tz": -330,
          "elapsed": 11207,
          "user": {
            "displayName": "Sharique Eliyas",
            "photoUrl": "//lh5.googleusercontent.com/-1NjURNXzbSA/AAAAAAAAAAI/AAAAAAAAABw/RxYorZL6W6c/s50-c-k-no/photo.jpg",
            "userId": "118408623472071970071"
          }
        }
      },
      "cell_type": "code",
      "source": [
        "newdf.plot()"
      ],
      "execution_count": 5,
      "outputs": [
        {
          "output_type": "execute_result",
          "data": {
            "text/plain": [
              "<matplotlib.axes._subplots.AxesSubplot at 0x7f8d974cb128>"
            ]
          },
          "metadata": {
            "tags": []
          },
          "execution_count": 5
        },
        {
          "output_type": "display_data",
          "data": {
            "image/png": "[encoded data removed]",
            "text/plain": [
              "<matplotlib.figure.Figure at 0x7f8d975277f0>"
            ]
          },
          "metadata": {
            "tags": []
          }
        }
      ]
    },
    {
      "metadata": {
        "id": "CbEtlUFYtgV_",
        "colab_type": "text"
      },
      "cell_type": "markdown",
      "source": [
        "# **Summary Statistics**"
      ]
    },
    {
      "metadata": {
        "id": "7-EsP0-Tti68",
        "colab_type": "code",
        "colab": {
          "autoexec": {
            "startup": false,
            "wait_interval": 0
          },
          "output_extras": [
            {
              "item_id": 1
            },
            {
              "item_id": 2
            }
          ],
          "base_uri": "https://localhost:8080/",
          "height": 314
        },
        "outputId": "d110f9ac-b327-4e2a-d1dc-0b1a7846aa05",
        "executionInfo": {
          "status": "ok",
          "timestamp": 1522928743388,
          "user_tz": -330,
          "elapsed": 1673,
          "user": {
            "displayName": "Sharique Eliyas",
            "photoUrl": "//lh5.googleusercontent.com/-1NjURNXzbSA/AAAAAAAAAAI/AAAAAAAAABw/RxYorZL6W6c/s50-c-k-no/photo.jpg",
            "userId": "118408623472071970071"
          }
        }
      },
      "cell_type": "code",
      "source": [
        "newdf.hist()"
      ],
      "execution_count": 6,
      "outputs": [
        {
          "output_type": "execute_result",
          "data": {
            "text/plain": [
              "array([[<matplotlib.axes._subplots.AxesSubplot object at 0x7f8d8b48b048>]],\n",
              "      dtype=object)"
            ]
          },
          "metadata": {
            "tags": []
          },
          "execution_count": 6
        },
        {
          "output_type": "display_data",
          "data": {
            "image/png": "[encoded data removed]",
            "text/plain": [
              "<matplotlib.figure.Figure at 0x7f8d8b497cc0>"
            ]
          },
          "metadata": {
            "tags": []
          }
        }
      ]
    },
    {
      "metadata": {
        "id": "Oc1C_ZOit4bd",
        "colab_type": "code",
        "colab": {
          "autoexec": {
            "startup": false,
            "wait_interval": 0
          },
          "output_extras": [
            {
              "item_id": 1
            }
          ],
          "base_uri": "https://localhost:8080/",
          "height": 51
        },
        "outputId": "cf6011b5-b495-4f97-ece5-f2d358ceeefc",
        "executionInfo": {
          "status": "ok",
          "timestamp": 1522928744836,
          "user_tz": -330,
          "elapsed": 1053,
          "user": {
            "displayName": "Sharique Eliyas",
            "photoUrl": "//lh5.googleusercontent.com/-1NjURNXzbSA/AAAAAAAAAAI/AAAAAAAAABw/RxYorZL6W6c/s50-c-k-no/photo.jpg",
            "userId": "118408623472071970071"
          }
        }
      },
      "cell_type": "code",
      "source": [
        "#comparison of mean and variance by splitting in two parts\n",
        "X = newdf.values\n",
        "split = len(X)//2\n",
        "X1, X2 = X[0:split],X[split:]\n",
        "mean1,mean2 = X1.mean(),X2.mean()\n",
        "var1,var2 = X1.var(),X2.var()\n",
        "print(\"mean1 = %f , mean2 = %f\"%(mean1,mean2))\n",
        "print(\"var1 = %f , var2 = %f\"%(var1,var2))"
      ],
      "execution_count": 7,
      "outputs": [
        {
          "output_type": "stream",
          "text": [
            "mean1 = 1.102442 , mean2 = 1.069895\n",
            "var1 = 1.270590 , var2 = 0.947222\n"
          ],
          "name": "stdout"
        }
      ]
    },
    {
      "metadata": {
        "id": "pqFGZDkFu8vT",
        "colab_type": "code",
        "colab": {
          "autoexec": {
            "startup": false,
            "wait_interval": 0
          },
          "output_extras": [
            {
              "item_id": 1
            }
          ],
          "base_uri": "https://localhost:8080/",
          "height": 102
        },
        "outputId": "66f6c8fd-423a-497c-8473-630b1fcc2d57",
        "executionInfo": {
          "status": "ok",
          "timestamp": 1522928746274,
          "user_tz": -330,
          "elapsed": 1038,
          "user": {
            "displayName": "Sharique Eliyas",
            "photoUrl": "//lh5.googleusercontent.com/-1NjURNXzbSA/AAAAAAAAAAI/AAAAAAAAABw/RxYorZL6W6c/s50-c-k-no/photo.jpg",
            "userId": "118408623472071970071"
          }
        }
      },
      "cell_type": "code",
      "source": [
        "#comparison of mean and variance by splitting in three parts\n",
        "X = newdf.values\n",
        "split = len(X)//3\n",
        "X1,X2,X3 = X[0:split],X[split:2*split],X[2*split:]\n",
        "print(X1.shape)\n",
        "print(X2.shape)\n",
        "print(X3.shape)\n",
        "mean1,mean2,mean3 = X1.mean(),X2.mean(),X3.mean()\n",
        "var1,var2,var3 = X1.var(),X2.var(),X3.var()\n",
        "print(\"mean1 = %f , mean2 = %f , mean3 = %f\"%(mean1,mean2,mean3))\n",
        "print(\"var1 = %f , var2 = %f , var3 = %f\"%(var1,var2,var3))"
      ],
      "execution_count": 8,
      "outputs": [
        {
          "output_type": "stream",
          "text": [
            "(691753, 1)\n",
            "(691753, 1)\n",
            "(691753, 1)\n",
            "mean1 = 1.174378 , mean2 = 1.019858 , mean3 = 1.064269\n",
            "var1 = 1.391620 , var2 = 1.004866 , var3 = 0.918369\n"
          ],
          "name": "stdout"
        }
      ]
    },
    {
      "metadata": {
        "id": "z_6ZK8Cyv0Fw",
        "colab_type": "code",
        "colab": {
          "autoexec": {
            "startup": false,
            "wait_interval": 0
          },
          "output_extras": [
            {
              "item_id": 1
            }
          ],
          "base_uri": "https://localhost:8080/",
          "height": 119
        },
        "outputId": "9516d2ed-df91-4931-ba2e-da7f5ee3b0ab",
        "executionInfo": {
          "status": "ok",
          "timestamp": 1522928747527,
          "user_tz": -330,
          "elapsed": 904,
          "user": {
            "displayName": "Sharique Eliyas",
            "photoUrl": "//lh5.googleusercontent.com/-1NjURNXzbSA/AAAAAAAAAAI/AAAAAAAAABw/RxYorZL6W6c/s50-c-k-no/photo.jpg",
            "userId": "118408623472071970071"
          }
        }
      },
      "cell_type": "code",
      "source": [
        "#comparison of mean and variance by splitting in four parts\n",
        "X = newdf.values\n",
        "split = len(X)//4\n",
        "X1,X2,X3,X4 = X[0:split],X[split:2*split],X[2*split:3*split],X[3*split:]\n",
        "print(X1.shape)\n",
        "print(X2.shape)\n",
        "print(X3.shape)\n",
        "print(X4.shape)\n",
        "mean1,mean2,mean3,mean4 = X1.mean(),X2.mean(),X3.mean(),X4.mean()\n",
        "var1,var2,var3,var4 = X1.var(),X2.var(),X3.var(),X4.var()\n",
        "print(\"mean1 = %f , mean2 = %f , mean3 = %f , mean4 = %f\"%(mean1,mean2,mean3,mean4))\n",
        "print(\"var1 = %f , var2 = %f , var3 = %f , var4 = %f\"%(var1,var2,var3,var4))"
      ],
      "execution_count": 9,
      "outputs": [
        {
          "output_type": "stream",
          "text": [
            "(518814, 1)\n",
            "(518814, 1)\n",
            "(518814, 1)\n",
            "(518817, 1)\n",
            "mean1 = 1.115680 , mean2 = 1.089202 , mean3 = 1.063143 , mean4 = 1.076648\n",
            "var1 = 1.354179 , var2 = 1.186653 , var3 = 1.001379 , var4 = 0.892973\n"
          ],
          "name": "stdout"
        }
      ]
    },
    {
      "metadata": {
        "id": "gl2UUKoaxCNQ",
        "colab_type": "code",
        "colab": {
          "autoexec": {
            "startup": false,
            "wait_interval": 0
          },
          "output_extras": [
            {
              "item_id": 1
            }
          ],
          "base_uri": "https://localhost:8080/",
          "height": 51
        },
        "outputId": "0a4c556c-5065-428b-857d-714de9a58faf",
        "executionInfo": {
          "status": "ok",
          "timestamp": 1522928748992,
          "user_tz": -330,
          "elapsed": 1009,
          "user": {
            "displayName": "Sharique Eliyas",
            "photoUrl": "//lh5.googleusercontent.com/-1NjURNXzbSA/AAAAAAAAAAI/AAAAAAAAABw/RxYorZL6W6c/s50-c-k-no/photo.jpg",
            "userId": "118408623472071970071"
          }
        }
      },
      "cell_type": "code",
      "source": [
        "#applying log transformation\n",
        "from numpy import log\n",
        "X = newdf.values\n",
        "X = np.log(X)\n",
        "split = len(X)//2\n",
        "X1, X2 = X[0:split],X[split:]\n",
        "mean1,mean2 = X1.mean(),X2.mean()\n",
        "var1,var2 = X1.var(),X2.var()\n",
        "print(\"mean1 = %f , mean2 = %f\"%(mean1,mean2))\n",
        "print(\"var1 = %f , var2 = %f\"%(var1,var2))"
      ],
      "execution_count": 10,
      "outputs": [
        {
          "output_type": "stream",
          "text": [
            "mean1 = -0.400318 , mean2 = -0.323461\n",
            "var1 = 1.043138 , var2 = 0.811245\n"
          ],
          "name": "stdout"
        }
      ]
    },
    {
      "metadata": {
        "id": "1EozCorFaflo",
        "colab_type": "text"
      },
      "cell_type": "markdown",
      "source": [
        "# **Augmented Dickey-Fuller test or Unit root test**"
      ]
    },
    {
      "metadata": {
        "id": "0ZQa4yIrcJGn",
        "colab_type": "code",
        "colab": {
          "autoexec": {
            "startup": false,
            "wait_interval": 0
          }
        }
      },
      "cell_type": "code",
      "source": [
        "X = newdf['Global_active_power'].values"
      ],
      "execution_count": 0,
      "outputs": []
    },
    {
      "metadata": {
        "id": "x_fo0sLPetKi",
        "colab_type": "code",
        "colab": {
          "autoexec": {
            "startup": false,
            "wait_interval": 0
          },
          "output_extras": [
            {
              "item_id": 1
            }
          ],
          "base_uri": "https://localhost:8080/",
          "height": 34
        },
        "outputId": "42ff23c1-941d-48bc-8d1c-6874c2879344",
        "executionInfo": {
          "status": "ok",
          "timestamp": 1522928751693,
          "user_tz": -330,
          "elapsed": 1058,
          "user": {
            "displayName": "Sharique Eliyas",
            "photoUrl": "//lh5.googleusercontent.com/-1NjURNXzbSA/AAAAAAAAAAI/AAAAAAAAABw/RxYorZL6W6c/s50-c-k-no/photo.jpg",
            "userId": "118408623472071970071"
          }
        }
      },
      "cell_type": "code",
      "source": [
        "print(X)"
      ],
      "execution_count": 12,
      "outputs": [
        {
          "output_type": "stream",
          "text": [
            "[4.216 5.36  5.374 ... 0.938 0.934 0.932]\n"
          ],
          "name": "stdout"
        }
      ]
    },
    {
      "metadata": {
        "id": "EZldBP98cMdF",
        "colab_type": "code",
        "colab": {
          "autoexec": {
            "startup": false,
            "wait_interval": 0
          },
          "output_extras": [
            {
              "item_id": 1
            }
          ],
          "base_uri": "https://localhost:8080/",
          "height": 71
        },
        "outputId": "c2d830c2-fd69-4dfa-b318-33f2b3bc0074",
        "executionInfo": {
          "status": "ok",
          "timestamp": 1522928753280,
          "user_tz": -330,
          "elapsed": 1305,
          "user": {
            "displayName": "Sharique Eliyas",
            "photoUrl": "//lh5.googleusercontent.com/-1NjURNXzbSA/AAAAAAAAAAI/AAAAAAAAABw/RxYorZL6W6c/s50-c-k-no/photo.jpg",
            "userId": "118408623472071970071"
          }
        }
      },
      "cell_type": "code",
      "source": [
        "from statsmodels.tsa.stattools import adfuller"
      ],
      "execution_count": 13,
      "outputs": [
        {
          "output_type": "stream",
          "text": [
            "/usr/local/lib/python3.6/dist-packages/statsmodels/compat/pandas.py:56: FutureWarning: The pandas.core.datetools module is deprecated and will be removed in a future version. Please use the pandas.tseries module instead.\n",
            "  from pandas.core import datetools\n"
          ],
          "name": "stderr"
        }
      ]
    },
    {
      "metadata": {
        "id": "sp1CPckRcv9V",
        "colab_type": "code",
        "colab": {
          "autoexec": {
            "startup": false,
            "wait_interval": 0
          }
        }
      },
      "cell_type": "code",
      "source": [
        "result = adfuller(X[0:len(X)//100], maxlag=None, autolag='BIC', regression='c')"
      ],
      "execution_count": 0,
      "outputs": []
    },
    {
      "metadata": {
        "id": "oOXx0__Yc5x8",
        "colab_type": "code",
        "colab": {
          "autoexec": {
            "startup": false,
            "wait_interval": 0
          },
          "output_extras": [
            {
              "item_id": 1
            }
          ],
          "base_uri": "https://localhost:8080/",
          "height": 119
        },
        "outputId": "5b772d79-6cfe-4bad-aa44-3eee0fa73ebe",
        "executionInfo": {
          "status": "ok",
          "timestamp": 1522928808035,
          "user_tz": -330,
          "elapsed": 1168,
          "user": {
            "displayName": "Sharique Eliyas",
            "photoUrl": "//lh5.googleusercontent.com/-1NjURNXzbSA/AAAAAAAAAAI/AAAAAAAAABw/RxYorZL6W6c/s50-c-k-no/photo.jpg",
            "userId": "118408623472071970071"
          }
        }
      },
      "cell_type": "code",
      "source": [
        "print('ADF Statistic: %f' % result[0])\n",
        "print('p-value: %f' % result[1])\n",
        "print('Critical Values:')\n",
        "for key, value in result[4].items():\n",
        "\tprint('\\t%s: %.3f' % (key, value))"
      ],
      "execution_count": 16,
      "outputs": [
        {
          "output_type": "stream",
          "text": [
            "ADF Statistic: -11.029448\n",
            "p-value: 0.000000\n",
            "Critical Values:\n",
            "\t1%: -3.431\n",
            "\t5%: -2.862\n",
            "\t10%: -2.567\n"
          ],
          "name": "stdout"
        }
      ]
    },
    {
      "metadata": {
        "id": "f72qtHApd6D-",
        "colab_type": "code",
        "colab": {
          "autoexec": {
            "startup": false,
            "wait_interval": 0
          }
        }
      },
      "cell_type": "code",
      "source": [
        ""
      ],
      "execution_count": 0,
      "outputs": []
    }
  ]
}