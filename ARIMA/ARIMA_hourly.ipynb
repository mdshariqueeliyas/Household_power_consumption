{
  "nbformat": 4,
  "nbformat_minor": 0,
  "metadata": {
    "colab": {
      "name": "ARIMA_hourly.ipynb",
      "version": "0.3.2",
      "views": {},
      "default_view": {},
      "provenance": []
    },
    "kernelspec": {
      "name": "python2",
      "display_name": "Python 2"
    },
    "accelerator": "GPU"
  },
  "cells": [
    {
      "metadata": {
        "id": "nTFSYkLkBVPa",
        "colab_type": "code",
        "colab": {
          "autoexec": {
            "startup": false,
            "wait_interval": 0
          }
        }
      },
      "cell_type": "code",
      "source": [
        "!wget -q https://archive.ics.uci.edu/ml/machine-learning-databases/00235/household_power_consumption.zip\n",
        "!unzip -q household_power_consumption.zip"
      ],
      "execution_count": 0,
      "outputs": []
    },
    {
      "metadata": {
        "id": "rii9ix8SFqw8",
        "colab_type": "code",
        "colab": {
          "autoexec": {
            "startup": false,
            "wait_interval": 0
          },
          "output_extras": [
            {
              "item_id": 1
            },
            {
              "item_id": 2
            }
          ],
          "base_uri": "https://localhost:8080/",
          "height": 258
        },
        "outputId": "eb8487c8-cdd0-4920-f7ba-3fd06914d037",
        "executionInfo": {
          "status": "ok",
          "timestamp": 1523044765934,
          "user_tz": -330,
          "elapsed": 12194,
          "user": {
            "displayName": "Sharique Eliyas",
            "photoUrl": "//lh5.googleusercontent.com/-1NjURNXzbSA/AAAAAAAAAAI/AAAAAAAAABw/RxYorZL6W6c/s50-c-k-no/photo.jpg",
            "userId": "118408623472071970071"
          }
        }
      },
      "cell_type": "code",
      "source": [
        "import numpy as np\n",
        "import pandas as pd\n",
        "import matplotlib.pyplot as plt\n",
        "from pandas.tools.plotting import autocorrelation_plot\n",
        "%matplotlib inline\n",
        "#\n",
        "df = pd.read_csv('household_power_consumption.txt',sep=';')\n",
        "#\n",
        "df['TimeStamp'] = df['Date']+' '+df['Time']\n",
        "df['TimeStamp'] = pd.to_datetime(df['TimeStamp'],format = \"%d/%m/%Y %H:%M:%S\")\n",
        "df.index = df['TimeStamp']\n",
        "df.index.name = None\n",
        "df = df.drop(['Date','Time'],axis = 1)\n",
        "df.head()"
      ],
      "execution_count": 2,
      "outputs": [
        {
          "output_type": "stream",
          "text": [
            "/usr/local/lib/python2.7/dist-packages/IPython/core/interactiveshell.py:2718: DtypeWarning: Columns (2,3,4,5,6,7) have mixed types. Specify dtype option on import or set low_memory=False.\n",
            "  interactivity=interactivity, compiler=compiler, result=result)\n"
          ],
          "name": "stderr"
        },
        {
          "output_type": "execute_result",
          "data": {
            "text/html": [
              "<div>\n",
              "<style scoped>\n",
              "    .dataframe tbody tr th:only-of-type {\n",
              "        vertical-align: middle;\n",
              "    }\n",
              "\n",
              "    .dataframe tbody tr th {\n",
              "        vertical-align: top;\n",
              "    }\n",
              "\n",
              "    .dataframe thead th {\n",
              "        text-align: right;\n",
              "    }\n",
              "</style>\n",
              "<table border=\"1\" class=\"dataframe\">\n",
              "  <thead>\n",
              "    <tr style=\"text-align: right;\">\n",
              "      <th></th>\n",
              "      <th>Global_active_power</th>\n",
              "      <th>Global_reactive_power</th>\n",
              "      <th>Voltage</th>\n",
              "      <th>Global_intensity</th>\n",
              "      <th>Sub_metering_1</th>\n",
              "      <th>Sub_metering_2</th>\n",
              "      <th>Sub_metering_3</th>\n",
              "      <th>TimeStamp</th>\n",
              "    </tr>\n",
              "  </thead>\n",
              "  <tbody>\n",
              "    <tr>\n",
              "      <th>2006-12-16 17:24:00</th>\n",
              "      <td>4.216</td>\n",
              "      <td>0.418</td>\n",
              "      <td>234.840</td>\n",
              "      <td>18.400</td>\n",
              "      <td>0.000</td>\n",
              "      <td>1.000</td>\n",
              "      <td>17.0</td>\n",
              "      <td>2006-12-16 17:24:00</td>\n",
              "    </tr>\n",
              "    <tr>\n",
              "      <th>2006-12-16 17:25:00</th>\n",
              "      <td>5.360</td>\n",
              "      <td>0.436</td>\n",
              "      <td>233.630</td>\n",
              "      <td>23.000</td>\n",
              "      <td>0.000</td>\n",
              "      <td>1.000</td>\n",
              "      <td>16.0</td>\n",
              "      <td>2006-12-16 17:25:00</td>\n",
              "    </tr>\n",
              "    <tr>\n",
              "      <th>2006-12-16 17:26:00</th>\n",
              "      <td>5.374</td>\n",
              "      <td>0.498</td>\n",
              "      <td>233.290</td>\n",
              "      <td>23.000</td>\n",
              "      <td>0.000</td>\n",
              "      <td>2.000</td>\n",
              "      <td>17.0</td>\n",
              "      <td>2006-12-16 17:26:00</td>\n",
              "    </tr>\n",
              "    <tr>\n",
              "      <th>2006-12-16 17:27:00</th>\n",
              "      <td>5.388</td>\n",
              "      <td>0.502</td>\n",
              "      <td>233.740</td>\n",
              "      <td>23.000</td>\n",
              "      <td>0.000</td>\n",
              "      <td>1.000</td>\n",
              "      <td>17.0</td>\n",
              "      <td>2006-12-16 17:27:00</td>\n",
              "    </tr>\n",
              "    <tr>\n",
              "      <th>2006-12-16 17:28:00</th>\n",
              "      <td>3.666</td>\n",
              "      <td>0.528</td>\n",
              "      <td>235.680</td>\n",
              "      <td>15.800</td>\n",
              "      <td>0.000</td>\n",
              "      <td>1.000</td>\n",
              "      <td>17.0</td>\n",
              "      <td>2006-12-16 17:28:00</td>\n",
              "    </tr>\n",
              "  </tbody>\n",
              "</table>\n",
              "</div>"
            ],
            "text/plain": [
              "                    Global_active_power Global_reactive_power  Voltage  \\\n",
              "2006-12-16 17:24:00               4.216                 0.418  234.840   \n",
              "2006-12-16 17:25:00               5.360                 0.436  233.630   \n",
              "2006-12-16 17:26:00               5.374                 0.498  233.290   \n",
              "2006-12-16 17:27:00               5.388                 0.502  233.740   \n",
              "2006-12-16 17:28:00               3.666                 0.528  235.680   \n",
              "\n",
              "                    Global_intensity Sub_metering_1 Sub_metering_2  \\\n",
              "2006-12-16 17:24:00           18.400          0.000          1.000   \n",
              "2006-12-16 17:25:00           23.000          0.000          1.000   \n",
              "2006-12-16 17:26:00           23.000          0.000          2.000   \n",
              "2006-12-16 17:27:00           23.000          0.000          1.000   \n",
              "2006-12-16 17:28:00           15.800          0.000          1.000   \n",
              "\n",
              "                     Sub_metering_3           TimeStamp  \n",
              "2006-12-16 17:24:00            17.0 2006-12-16 17:24:00  \n",
              "2006-12-16 17:25:00            16.0 2006-12-16 17:25:00  \n",
              "2006-12-16 17:26:00            17.0 2006-12-16 17:26:00  \n",
              "2006-12-16 17:27:00            17.0 2006-12-16 17:27:00  \n",
              "2006-12-16 17:28:00            17.0 2006-12-16 17:28:00  "
            ]
          },
          "metadata": {
            "tags": []
          },
          "execution_count": 2
        }
      ]
    },
    {
      "metadata": {
        "id": "xSyaN8e4FvnL",
        "colab_type": "code",
        "colab": {
          "autoexec": {
            "startup": false,
            "wait_interval": 0
          },
          "output_extras": [
            {
              "item_id": 1
            },
            {
              "item_id": 2
            }
          ],
          "base_uri": "https://localhost:8080/",
          "height": 275
        },
        "outputId": "6d53c85e-cfa8-426e-946e-079b8fefaff2",
        "executionInfo": {
          "status": "ok",
          "timestamp": 1523044770821,
          "user_tz": -330,
          "elapsed": 4768,
          "user": {
            "displayName": "Sharique Eliyas",
            "photoUrl": "//lh5.googleusercontent.com/-1NjURNXzbSA/AAAAAAAAAAI/AAAAAAAAABw/RxYorZL6W6c/s50-c-k-no/photo.jpg",
            "userId": "118408623472071970071"
          }
        }
      },
      "cell_type": "code",
      "source": [
        "#@title Default title text\n",
        "df = df.convert_objects(convert_numeric=True)\n",
        "df = df.ffill()\n",
        "#\n",
        "newdf = df[['Global_active_power']]\n",
        "newdf.head()"
      ],
      "execution_count": 3,
      "outputs": [
        {
          "output_type": "stream",
          "text": [
            "/usr/local/lib/python2.7/dist-packages/ipykernel_launcher.py:1: FutureWarning: convert_objects is deprecated.  To re-infer data dtypes for object columns, use DataFrame.infer_objects()\n",
            "For all other conversions use the data-type specific converters pd.to_datetime, pd.to_timedelta and pd.to_numeric.\n",
            "  \"\"\"Entry point for launching an IPython kernel.\n"
          ],
          "name": "stderr"
        },
        {
          "output_type": "execute_result",
          "data": {
            "text/html": [
              "<div>\n",
              "<style scoped>\n",
              "    .dataframe tbody tr th:only-of-type {\n",
              "        vertical-align: middle;\n",
              "    }\n",
              "\n",
              "    .dataframe tbody tr th {\n",
              "        vertical-align: top;\n",
              "    }\n",
              "\n",
              "    .dataframe thead th {\n",
              "        text-align: right;\n",
              "    }\n",
              "</style>\n",
              "<table border=\"1\" class=\"dataframe\">\n",
              "  <thead>\n",
              "    <tr style=\"text-align: right;\">\n",
              "      <th></th>\n",
              "      <th>Global_active_power</th>\n",
              "    </tr>\n",
              "  </thead>\n",
              "  <tbody>\n",
              "    <tr>\n",
              "      <th>2006-12-16 17:24:00</th>\n",
              "      <td>4.216</td>\n",
              "    </tr>\n",
              "    <tr>\n",
              "      <th>2006-12-16 17:25:00</th>\n",
              "      <td>5.360</td>\n",
              "    </tr>\n",
              "    <tr>\n",
              "      <th>2006-12-16 17:26:00</th>\n",
              "      <td>5.374</td>\n",
              "    </tr>\n",
              "    <tr>\n",
              "      <th>2006-12-16 17:27:00</th>\n",
              "      <td>5.388</td>\n",
              "    </tr>\n",
              "    <tr>\n",
              "      <th>2006-12-16 17:28:00</th>\n",
              "      <td>3.666</td>\n",
              "    </tr>\n",
              "  </tbody>\n",
              "</table>\n",
              "</div>"
            ],
            "text/plain": [
              "                     Global_active_power\n",
              "2006-12-16 17:24:00                4.216\n",
              "2006-12-16 17:25:00                5.360\n",
              "2006-12-16 17:26:00                5.374\n",
              "2006-12-16 17:27:00                5.388\n",
              "2006-12-16 17:28:00                3.666"
            ]
          },
          "metadata": {
            "tags": []
          },
          "execution_count": 3
        }
      ]
    },
    {
      "metadata": {
        "id": "o3CZ0AnSFwAu",
        "colab_type": "code",
        "colab": {
          "autoexec": {
            "startup": false,
            "wait_interval": 0
          }
        }
      },
      "cell_type": "code",
      "source": [
        "df_hourly = pd.DataFrame(newdf.Global_active_power.resample('H').sum())"
      ],
      "execution_count": 0,
      "outputs": []
    },
    {
      "metadata": {
        "id": "8UpA29FDInse",
        "colab_type": "code",
        "colab": {
          "autoexec": {
            "startup": false,
            "wait_interval": 0
          },
          "output_extras": [
            {
              "item_id": 1
            }
          ],
          "base_uri": "https://localhost:8080/",
          "height": 204
        },
        "outputId": "88014066-069b-4ef8-fa8b-8199e41621a1",
        "executionInfo": {
          "status": "ok",
          "timestamp": 1523044773738,
          "user_tz": -330,
          "elapsed": 833,
          "user": {
            "displayName": "Sharique Eliyas",
            "photoUrl": "//lh5.googleusercontent.com/-1NjURNXzbSA/AAAAAAAAAAI/AAAAAAAAABw/RxYorZL6W6c/s50-c-k-no/photo.jpg",
            "userId": "118408623472071970071"
          }
        }
      },
      "cell_type": "code",
      "source": [
        "df_hourly.head()"
      ],
      "execution_count": 5,
      "outputs": [
        {
          "output_type": "execute_result",
          "data": {
            "text/html": [
              "<div>\n",
              "<style scoped>\n",
              "    .dataframe tbody tr th:only-of-type {\n",
              "        vertical-align: middle;\n",
              "    }\n",
              "\n",
              "    .dataframe tbody tr th {\n",
              "        vertical-align: top;\n",
              "    }\n",
              "\n",
              "    .dataframe thead th {\n",
              "        text-align: right;\n",
              "    }\n",
              "</style>\n",
              "<table border=\"1\" class=\"dataframe\">\n",
              "  <thead>\n",
              "    <tr style=\"text-align: right;\">\n",
              "      <th></th>\n",
              "      <th>Global_active_power</th>\n",
              "    </tr>\n",
              "  </thead>\n",
              "  <tbody>\n",
              "    <tr>\n",
              "      <th>2006-12-16 17:00:00</th>\n",
              "      <td>152.024</td>\n",
              "    </tr>\n",
              "    <tr>\n",
              "      <th>2006-12-16 18:00:00</th>\n",
              "      <td>217.932</td>\n",
              "    </tr>\n",
              "    <tr>\n",
              "      <th>2006-12-16 19:00:00</th>\n",
              "      <td>204.014</td>\n",
              "    </tr>\n",
              "    <tr>\n",
              "      <th>2006-12-16 20:00:00</th>\n",
              "      <td>196.114</td>\n",
              "    </tr>\n",
              "    <tr>\n",
              "      <th>2006-12-16 21:00:00</th>\n",
              "      <td>183.388</td>\n",
              "    </tr>\n",
              "  </tbody>\n",
              "</table>\n",
              "</div>"
            ],
            "text/plain": [
              "                     Global_active_power\n",
              "2006-12-16 17:00:00              152.024\n",
              "2006-12-16 18:00:00              217.932\n",
              "2006-12-16 19:00:00              204.014\n",
              "2006-12-16 20:00:00              196.114\n",
              "2006-12-16 21:00:00              183.388"
            ]
          },
          "metadata": {
            "tags": []
          },
          "execution_count": 5
        }
      ]
    },
    {
      "metadata": {
        "id": "Bgw8yRyPJp9B",
        "colab_type": "code",
        "colab": {
          "autoexec": {
            "startup": false,
            "wait_interval": 0
          },
          "output_extras": [
            {
              "item_id": 1
            }
          ],
          "base_uri": "https://localhost:8080/",
          "height": 34
        },
        "outputId": "324369f6-399a-4e9c-de1e-be69eb477099",
        "executionInfo": {
          "status": "ok",
          "timestamp": 1523044775717,
          "user_tz": -330,
          "elapsed": 813,
          "user": {
            "displayName": "Sharique Eliyas",
            "photoUrl": "//lh5.googleusercontent.com/-1NjURNXzbSA/AAAAAAAAAAI/AAAAAAAAABw/RxYorZL6W6c/s50-c-k-no/photo.jpg",
            "userId": "118408623472071970071"
          }
        }
      },
      "cell_type": "code",
      "source": [
        "df_hourly.shape"
      ],
      "execution_count": 6,
      "outputs": [
        {
          "output_type": "execute_result",
          "data": {
            "text/plain": [
              "(34589, 1)"
            ]
          },
          "metadata": {
            "tags": []
          },
          "execution_count": 6
        }
      ]
    },
    {
      "metadata": {
        "id": "Lmstg4S4JuAu",
        "colab_type": "code",
        "colab": {
          "autoexec": {
            "startup": false,
            "wait_interval": 0
          },
          "output_extras": [
            {
              "item_id": 1
            }
          ],
          "base_uri": "https://localhost:8080/",
          "height": 34
        },
        "outputId": "d3386eb5-516d-448e-f1a8-9773b5c273e7",
        "executionInfo": {
          "status": "ok",
          "timestamp": 1523044776969,
          "user_tz": -330,
          "elapsed": 859,
          "user": {
            "displayName": "Sharique Eliyas",
            "photoUrl": "//lh5.googleusercontent.com/-1NjURNXzbSA/AAAAAAAAAAI/AAAAAAAAABw/RxYorZL6W6c/s50-c-k-no/photo.jpg",
            "userId": "118408623472071970071"
          }
        }
      },
      "cell_type": "code",
      "source": [
        "type(df_hourly)"
      ],
      "execution_count": 7,
      "outputs": [
        {
          "output_type": "execute_result",
          "data": {
            "text/plain": [
              "pandas.core.frame.DataFrame"
            ]
          },
          "metadata": {
            "tags": []
          },
          "execution_count": 7
        }
      ]
    },
    {
      "metadata": {
        "id": "YGRFflfaeLWY",
        "colab_type": "code",
        "colab": {
          "autoexec": {
            "startup": false,
            "wait_interval": 0
          },
          "output_extras": [
            {
              "item_id": 1
            }
          ],
          "base_uri": "https://localhost:8080/",
          "height": 136
        },
        "outputId": "180262b4-4412-4a6f-88f3-c97a21575868",
        "executionInfo": {
          "status": "ok",
          "timestamp": 1523044778992,
          "user_tz": -330,
          "elapsed": 1593,
          "user": {
            "displayName": "Sharique Eliyas",
            "photoUrl": "//lh5.googleusercontent.com/-1NjURNXzbSA/AAAAAAAAAAI/AAAAAAAAABw/RxYorZL6W6c/s50-c-k-no/photo.jpg",
            "userId": "118408623472071970071"
          }
        }
      },
      "cell_type": "code",
      "source": [
        "df_hourly.info()"
      ],
      "execution_count": 8,
      "outputs": [
        {
          "output_type": "stream",
          "text": [
            "<class 'pandas.core.frame.DataFrame'>\n",
            "DatetimeIndex: 34589 entries, 2006-12-16 17:00:00 to 2010-11-26 21:00:00\n",
            "Freq: H\n",
            "Data columns (total 1 columns):\n",
            "Global_active_power    34589 non-null float64\n",
            "dtypes: float64(1)\n",
            "memory usage: 540.5 KB\n"
          ],
          "name": "stdout"
        }
      ]
    },
    {
      "metadata": {
        "id": "w0pH6MkBevbV",
        "colab_type": "code",
        "colab": {
          "autoexec": {
            "startup": false,
            "wait_interval": 0
          },
          "output_extras": [
            {
              "item_id": 1
            }
          ],
          "base_uri": "https://localhost:8080/",
          "height": 297
        },
        "outputId": "b423822f-2d2b-4ec0-c65c-3d901b5e61af",
        "executionInfo": {
          "status": "ok",
          "timestamp": 1523044780759,
          "user_tz": -330,
          "elapsed": 843,
          "user": {
            "displayName": "Sharique Eliyas",
            "photoUrl": "//lh5.googleusercontent.com/-1NjURNXzbSA/AAAAAAAAAAI/AAAAAAAAABw/RxYorZL6W6c/s50-c-k-no/photo.jpg",
            "userId": "118408623472071970071"
          }
        }
      },
      "cell_type": "code",
      "source": [
        "df_hourly.describe()"
      ],
      "execution_count": 9,
      "outputs": [
        {
          "output_type": "execute_result",
          "data": {
            "text/html": [
              "<div>\n",
              "<style scoped>\n",
              "    .dataframe tbody tr th:only-of-type {\n",
              "        vertical-align: middle;\n",
              "    }\n",
              "\n",
              "    .dataframe tbody tr th {\n",
              "        vertical-align: top;\n",
              "    }\n",
              "\n",
              "    .dataframe thead th {\n",
              "        text-align: right;\n",
              "    }\n",
              "</style>\n",
              "<table border=\"1\" class=\"dataframe\">\n",
              "  <thead>\n",
              "    <tr style=\"text-align: right;\">\n",
              "      <th></th>\n",
              "      <th>Global_active_power</th>\n",
              "    </tr>\n",
              "  </thead>\n",
              "  <tbody>\n",
              "    <tr>\n",
              "      <th>count</th>\n",
              "      <td>34589.000000</td>\n",
              "    </tr>\n",
              "    <tr>\n",
              "      <th>mean</th>\n",
              "      <td>65.167558</td>\n",
              "    </tr>\n",
              "    <tr>\n",
              "      <th>std</th>\n",
              "      <td>53.690013</td>\n",
              "    </tr>\n",
              "    <tr>\n",
              "      <th>min</th>\n",
              "      <td>2.804000</td>\n",
              "    </tr>\n",
              "    <tr>\n",
              "      <th>25%</th>\n",
              "      <td>20.476000</td>\n",
              "    </tr>\n",
              "    <tr>\n",
              "      <th>50%</th>\n",
              "      <td>47.966000</td>\n",
              "    </tr>\n",
              "    <tr>\n",
              "      <th>75%</th>\n",
              "      <td>94.498000</td>\n",
              "    </tr>\n",
              "    <tr>\n",
              "      <th>max</th>\n",
              "      <td>393.632000</td>\n",
              "    </tr>\n",
              "  </tbody>\n",
              "</table>\n",
              "</div>"
            ],
            "text/plain": [
              "       Global_active_power\n",
              "count         34589.000000\n",
              "mean             65.167558\n",
              "std              53.690013\n",
              "min               2.804000\n",
              "25%              20.476000\n",
              "50%              47.966000\n",
              "75%              94.498000\n",
              "max             393.632000"
            ]
          },
          "metadata": {
            "tags": []
          },
          "execution_count": 9
        }
      ]
    },
    {
      "metadata": {
        "id": "EAOp71oee5s0",
        "colab_type": "code",
        "colab": {
          "autoexec": {
            "startup": false,
            "wait_interval": 0
          },
          "output_extras": [
            {
              "item_id": 1
            },
            {
              "item_id": 2
            }
          ],
          "base_uri": "https://localhost:8080/",
          "height": 282
        },
        "outputId": "a0f8c3ed-7fb5-42c4-8d25-9be9cf1ba6ff",
        "executionInfo": {
          "status": "ok",
          "timestamp": 1523044782466,
          "user_tz": -330,
          "elapsed": 1424,
          "user": {
            "displayName": "Sharique Eliyas",
            "photoUrl": "//lh5.googleusercontent.com/-1NjURNXzbSA/AAAAAAAAAAI/AAAAAAAAABw/RxYorZL6W6c/s50-c-k-no/photo.jpg",
            "userId": "118408623472071970071"
          }
        }
      },
      "cell_type": "code",
      "source": [
        "df_hourly.plot()"
      ],
      "execution_count": 10,
      "outputs": [
        {
          "output_type": "execute_result",
          "data": {
            "text/plain": [
              "<matplotlib.axes._subplots.AxesSubplot at 0x7f06ba44f290>"
            ]
          },
          "metadata": {
            "tags": []
          },
          "execution_count": 10
        },
        {
          "output_type": "display_data",
          "data": {
            "image/png": "[encoded data removed]",
            "text/plain": [
              "<matplotlib.figure.Figure at 0x7f06b9f90d10>"
            ]
          },
          "metadata": {
            "tags": []
          }
        }
      ]
    },
    {
      "metadata": {
        "id": "jeL6DCsdfFkZ",
        "colab_type": "code",
        "colab": {
          "autoexec": {
            "startup": false,
            "wait_interval": 0
          },
          "output_extras": [
            {
              "item_id": 1
            },
            {
              "item_id": 2
            }
          ],
          "base_uri": "https://localhost:8080/",
          "height": 314
        },
        "outputId": "cc52af2e-d658-4d34-b192-b1defa98d3ff",
        "executionInfo": {
          "status": "ok",
          "timestamp": 1523044783489,
          "user_tz": -330,
          "elapsed": 934,
          "user": {
            "displayName": "Sharique Eliyas",
            "photoUrl": "//lh5.googleusercontent.com/-1NjURNXzbSA/AAAAAAAAAAI/AAAAAAAAABw/RxYorZL6W6c/s50-c-k-no/photo.jpg",
            "userId": "118408623472071970071"
          }
        }
      },
      "cell_type": "code",
      "source": [
        "df_hourly.hist()"
      ],
      "execution_count": 11,
      "outputs": [
        {
          "output_type": "execute_result",
          "data": {
            "text/plain": [
              "array([[<matplotlib.axes._subplots.AxesSubplot object at 0x7f06b9e121d0>]],\n",
              "      dtype=object)"
            ]
          },
          "metadata": {
            "tags": []
          },
          "execution_count": 11
        },
        {
          "output_type": "display_data",
          "data": {
            "image/png": "[encoded data removed]",
            "text/plain": [
              "<matplotlib.figure.Figure at 0x7f06b9e2fed0>"
            ]
          },
          "metadata": {
            "tags": []
          }
        }
      ]
    },
    {
      "metadata": {
        "id": "sc5e72ZCfUOf",
        "colab_type": "code",
        "colab": {
          "autoexec": {
            "startup": false,
            "wait_interval": 0
          },
          "output_extras": [
            {
              "item_id": 1
            },
            {
              "item_id": 2
            },
            {
              "item_id": 3
            }
          ],
          "base_uri": "https://localhost:8080/",
          "height": 354
        },
        "outputId": "5fc6d151-2846-4a8e-c890-520c2ecdd9a0",
        "executionInfo": {
          "status": "ok",
          "timestamp": 1523044787540,
          "user_tz": -330,
          "elapsed": 3104,
          "user": {
            "displayName": "Sharique Eliyas",
            "photoUrl": "//lh5.googleusercontent.com/-1NjURNXzbSA/AAAAAAAAAAI/AAAAAAAAABw/RxYorZL6W6c/s50-c-k-no/photo.jpg",
            "userId": "118408623472071970071"
          }
        }
      },
      "cell_type": "code",
      "source": [
        "autocorrelation_plot(df_hourly)"
      ],
      "execution_count": 12,
      "outputs": [
        {
          "output_type": "stream",
          "text": [
            "/usr/local/lib/python2.7/dist-packages/ipykernel_launcher.py:1: FutureWarning: 'pandas.tools.plotting.autocorrelation_plot' is deprecated, import 'pandas.plotting.autocorrelation_plot' instead.\n",
            "  \"\"\"Entry point for launching an IPython kernel.\n"
          ],
          "name": "stderr"
        },
        {
          "output_type": "execute_result",
          "data": {
            "text/plain": [
              "<matplotlib.axes._subplots.AxesSubplot at 0x7f06b7d1b310>"
            ]
          },
          "metadata": {
            "tags": []
          },
          "execution_count": 12
        },
        {
          "output_type": "display_data",
          "data": {
            "image/png": "[encoded data removed]",
            "text/plain": [
              "<matplotlib.figure.Figure at 0x7f06b7d245d0>"
            ]
          },
          "metadata": {
            "tags": []
          }
        }
      ]
    },
    {
      "metadata": {
        "id": "eJkyG_HBf40-",
        "colab_type": "text"
      },
      "cell_type": "markdown",
      "source": [
        "# **Summary Statistics**"
      ]
    },
    {
      "metadata": {
        "id": "T0uS_iRSfk1a",
        "colab_type": "code",
        "colab": {
          "autoexec": {
            "startup": false,
            "wait_interval": 0
          },
          "output_extras": [
            {
              "item_id": 1
            }
          ],
          "base_uri": "https://localhost:8080/",
          "height": 51
        },
        "outputId": "13638b6e-a063-4db9-d684-3910b47dbefc",
        "executionInfo": {
          "status": "ok",
          "timestamp": 1523044788802,
          "user_tz": -330,
          "elapsed": 1070,
          "user": {
            "displayName": "Sharique Eliyas",
            "photoUrl": "//lh5.googleusercontent.com/-1NjURNXzbSA/AAAAAAAAAAI/AAAAAAAAABw/RxYorZL6W6c/s50-c-k-no/photo.jpg",
            "userId": "118408623472071970071"
          }
        }
      },
      "cell_type": "code",
      "source": [
        "#comparison of mean and variance by splitting in two parts\n",
        "X = df_hourly.values\n",
        "split = len(X)//2\n",
        "X1, X2 = X[0:split],X[split:]\n",
        "mean1,mean2 = X1.mean(),X2.mean()\n",
        "var1,var2 = X1.var(),X2.var()\n",
        "print(\"mean1 = %f , mean2 = %f\"%(mean1,mean2))\n",
        "print(\"var1 = %f , var2 = %f\"%(var1,var2))"
      ],
      "execution_count": 13,
      "outputs": [
        {
          "output_type": "stream",
          "text": [
            "mean1 = 66.144875 , mean2 = 64.190297\n",
            "var1 = 3358.153518 , var2 = 2405.032115\n"
          ],
          "name": "stdout"
        }
      ]
    },
    {
      "metadata": {
        "id": "1xvrNlszgJO8",
        "colab_type": "code",
        "colab": {
          "autoexec": {
            "startup": false,
            "wait_interval": 0
          },
          "output_extras": [
            {
              "item_id": 1
            }
          ],
          "base_uri": "https://localhost:8080/",
          "height": 102
        },
        "outputId": "aba0027a-ba26-49f4-c310-60c3e260236a",
        "executionInfo": {
          "status": "ok",
          "timestamp": 1523044792237,
          "user_tz": -330,
          "elapsed": 1665,
          "user": {
            "displayName": "Sharique Eliyas",
            "photoUrl": "//lh5.googleusercontent.com/-1NjURNXzbSA/AAAAAAAAAAI/AAAAAAAAABw/RxYorZL6W6c/s50-c-k-no/photo.jpg",
            "userId": "118408623472071970071"
          }
        }
      },
      "cell_type": "code",
      "source": [
        "#comparison of mean and variance by splitting in three parts\n",
        "X = df_hourly.values\n",
        "split = len(X)//3\n",
        "X1,X2,X3 = X[0:split],X[split:2*split],X[2*split:]\n",
        "print(X1.shape)\n",
        "print(X2.shape)\n",
        "print(X3.shape)\n",
        "mean1,mean2,mean3 = X1.mean(),X2.mean(),X3.mean()\n",
        "var1,var2,var3 = X1.var(),X2.var(),X3.var()\n",
        "print(\"mean1 = %f , mean2 = %f , mean3 = %f\"%(mean1,mean2,mean3))\n",
        "print(\"var1 = %f , var2 = %f , var3 = %f\"%(var1,var2,var3))"
      ],
      "execution_count": 14,
      "outputs": [
        {
          "output_type": "stream",
          "text": [
            "(11529, 1)\n",
            "(11529, 1)\n",
            "(11531, 1)\n",
            "mean1 = 70.463110 , mean2 = 61.192375 , mean3 = 63.847418\n",
            "var1 = 3708.414544 , var2 = 2555.726609 , var3 = 2337.967691\n"
          ],
          "name": "stdout"
        }
      ]
    },
    {
      "metadata": {
        "id": "4TzRwtcSgN2T",
        "colab_type": "code",
        "colab": {
          "autoexec": {
            "startup": false,
            "wait_interval": 0
          },
          "output_extras": [
            {
              "item_id": 1
            }
          ],
          "base_uri": "https://localhost:8080/",
          "height": 119
        },
        "outputId": "f563807f-3e4f-42bd-ced3-4105ce8d7110",
        "executionInfo": {
          "status": "ok",
          "timestamp": 1523044793416,
          "user_tz": -330,
          "elapsed": 823,
          "user": {
            "displayName": "Sharique Eliyas",
            "photoUrl": "//lh5.googleusercontent.com/-1NjURNXzbSA/AAAAAAAAAAI/AAAAAAAAABw/RxYorZL6W6c/s50-c-k-no/photo.jpg",
            "userId": "118408623472071970071"
          }
        }
      },
      "cell_type": "code",
      "source": [
        "#comparison of mean and variance by splitting in four parts\n",
        "X = df_hourly.values\n",
        "split = len(X)//4\n",
        "X1,X2,X3,X4 = X[0:split],X[split:2*split],X[2*split:3*split],X[3*split:]\n",
        "print(X1.shape)\n",
        "print(X2.shape)\n",
        "print(X3.shape)\n",
        "print(X4.shape)\n",
        "mean1,mean2,mean3,mean4 = X1.mean(),X2.mean(),X3.mean(),X4.mean()\n",
        "var1,var2,var3,var4 = X1.var(),X2.var(),X3.var(),X4.var()\n",
        "print(\"mean1 = %f , mean2 = %f , mean3 = %f , mean4 = %f\"%(mean1,mean2,mean3,mean4))\n",
        "print(\"var1 = %f , var2 = %f , var3 = %f , var4 = %f\"%(var1,var2,var3,var4))"
      ],
      "execution_count": 15,
      "outputs": [
        {
          "output_type": "stream",
          "text": [
            "(8647, 1)\n",
            "(8647, 1)\n",
            "(8647, 1)\n",
            "(8648, 1)\n",
            "mean1 = 66.939507 , mean2 = 65.350243 , mean3 = 63.789165 , mean4 = 64.591382\n",
            "var1 = 3602.623168 , var2 = 3112.420988 , var3 = 2525.963428 , var4 = 2283.793029\n"
          ],
          "name": "stdout"
        }
      ]
    },
    {
      "metadata": {
        "id": "3u-wrdOzgh0f",
        "colab_type": "text"
      },
      "cell_type": "markdown",
      "source": [
        "# **Augmented Dickey-Fuller Test**"
      ]
    },
    {
      "metadata": {
        "id": "sdpnTt39gVMn",
        "colab_type": "code",
        "colab": {
          "autoexec": {
            "startup": false,
            "wait_interval": 0
          }
        }
      },
      "cell_type": "code",
      "source": [
        "X = df_hourly['Global_active_power'].values"
      ],
      "execution_count": 0,
      "outputs": []
    },
    {
      "metadata": {
        "id": "I-st7CXkgq0A",
        "colab_type": "code",
        "colab": {
          "autoexec": {
            "startup": false,
            "wait_interval": 0
          },
          "output_extras": [
            {
              "item_id": 1
            }
          ],
          "base_uri": "https://localhost:8080/",
          "height": 34
        },
        "outputId": "d0ca1e8d-2f20-4665-ff2e-2d5bf8bd1e3e",
        "executionInfo": {
          "status": "ok",
          "timestamp": 1523044795997,
          "user_tz": -330,
          "elapsed": 803,
          "user": {
            "displayName": "Sharique Eliyas",
            "photoUrl": "//lh5.googleusercontent.com/-1NjURNXzbSA/AAAAAAAAAAI/AAAAAAAAABw/RxYorZL6W6c/s50-c-k-no/photo.jpg",
            "userId": "118408623472071970071"
          }
        }
      },
      "cell_type": "code",
      "source": [
        "print(X)"
      ],
      "execution_count": 17,
      "outputs": [
        {
          "output_type": "stream",
          "text": [
            "[152.024 217.932 204.014 ...  99.56   69.822   2.804]\n"
          ],
          "name": "stdout"
        }
      ]
    },
    {
      "metadata": {
        "id": "m3QwIzeggtEs",
        "colab_type": "code",
        "colab": {
          "autoexec": {
            "startup": false,
            "wait_interval": 0
          },
          "output_extras": [
            {
              "item_id": 1
            }
          ],
          "base_uri": "https://localhost:8080/",
          "height": 71
        },
        "outputId": "00b80055-9a09-4834-9a62-202f5f5fcb79",
        "executionInfo": {
          "status": "ok",
          "timestamp": 1523044797054,
          "user_tz": -330,
          "elapsed": 817,
          "user": {
            "displayName": "Sharique Eliyas",
            "photoUrl": "//lh5.googleusercontent.com/-1NjURNXzbSA/AAAAAAAAAAI/AAAAAAAAABw/RxYorZL6W6c/s50-c-k-no/photo.jpg",
            "userId": "118408623472071970071"
          }
        }
      },
      "cell_type": "code",
      "source": [
        "from statsmodels.tsa.stattools import adfuller"
      ],
      "execution_count": 18,
      "outputs": [
        {
          "output_type": "stream",
          "text": [
            "/usr/local/lib/python2.7/dist-packages/statsmodels/compat/pandas.py:56: FutureWarning: The pandas.core.datetools module is deprecated and will be removed in a future version. Please use the pandas.tseries module instead.\n",
            "  from pandas.core import datetools\n"
          ],
          "name": "stderr"
        }
      ]
    },
    {
      "metadata": {
        "id": "t7IBqsAtgw_3",
        "colab_type": "code",
        "colab": {
          "autoexec": {
            "startup": false,
            "wait_interval": 0
          }
        }
      },
      "cell_type": "code",
      "source": [
        "result = adfuller(X, maxlag=None, autolag='BIC', regression='c')"
      ],
      "execution_count": 0,
      "outputs": []
    },
    {
      "metadata": {
        "id": "T-LVysvng3eP",
        "colab_type": "code",
        "colab": {
          "autoexec": {
            "startup": false,
            "wait_interval": 0
          },
          "output_extras": [
            {
              "item_id": 1
            }
          ],
          "base_uri": "https://localhost:8080/",
          "height": 119
        },
        "outputId": "8c7bed38-b2d8-4cbb-c9f6-b973da7b406c",
        "executionInfo": {
          "status": "ok",
          "timestamp": 1523044804060,
          "user_tz": -330,
          "elapsed": 796,
          "user": {
            "displayName": "Sharique Eliyas",
            "photoUrl": "//lh5.googleusercontent.com/-1NjURNXzbSA/AAAAAAAAAAI/AAAAAAAAABw/RxYorZL6W6c/s50-c-k-no/photo.jpg",
            "userId": "118408623472071970071"
          }
        }
      },
      "cell_type": "code",
      "source": [
        "print('ADF Statistic: %f' % result[0])\n",
        "print('p-value: %f' % result[1])\n",
        "print('Critical Values:')\n",
        "for key, value in result[4].items():\n",
        "\tprint('\\t%s: %.3f' % (key, value))"
      ],
      "execution_count": 20,
      "outputs": [
        {
          "output_type": "stream",
          "text": [
            "ADF Statistic: -14.159379\n",
            "p-value: 0.000000\n",
            "Critical Values:\n",
            "\t5%: -2.862\n",
            "\t1%: -3.431\n",
            "\t10%: -2.567\n"
          ],
          "name": "stdout"
        }
      ]
    },
    {
      "metadata": {
        "id": "t0LNNbdlhEMp",
        "colab_type": "text"
      },
      "cell_type": "markdown",
      "source": [
        "# **ARIMA Model**"
      ]
    },
    {
      "metadata": {
        "id": "7D0INv4ChL8y",
        "colab_type": "code",
        "colab": {
          "autoexec": {
            "startup": false,
            "wait_interval": 0
          },
          "output_extras": [
            {
              "item_id": 1
            }
          ],
          "base_uri": "https://localhost:8080/",
          "height": 34
        },
        "outputId": "8ba38d6e-2f5a-4c6d-d19e-b68c322e8299",
        "executionInfo": {
          "status": "ok",
          "timestamp": 1523044805212,
          "user_tz": -330,
          "elapsed": 856,
          "user": {
            "displayName": "Sharique Eliyas",
            "photoUrl": "//lh5.googleusercontent.com/-1NjURNXzbSA/AAAAAAAAAAI/AAAAAAAAABw/RxYorZL6W6c/s50-c-k-no/photo.jpg",
            "userId": "118408623472071970071"
          }
        }
      },
      "cell_type": "code",
      "source": [
        "df_hourly.shape"
      ],
      "execution_count": 21,
      "outputs": [
        {
          "output_type": "execute_result",
          "data": {
            "text/plain": [
              "(34589, 1)"
            ]
          },
          "metadata": {
            "tags": []
          },
          "execution_count": 21
        }
      ]
    },
    {
      "metadata": {
        "id": "tPOEuPqShsN7",
        "colab_type": "code",
        "colab": {
          "autoexec": {
            "startup": false,
            "wait_interval": 0
          }
        }
      },
      "cell_type": "code",
      "source": [
        "split = int((df_hourly.shape[0])*(0.7))"
      ],
      "execution_count": 0,
      "outputs": []
    },
    {
      "metadata": {
        "id": "DUSpm8CbiNff",
        "colab_type": "code",
        "colab": {
          "autoexec": {
            "startup": false,
            "wait_interval": 0
          },
          "output_extras": [
            {
              "item_id": 1
            }
          ],
          "base_uri": "https://localhost:8080/",
          "height": 51
        },
        "outputId": "6bd6e597-94ed-455e-e03a-afc12f54ee09",
        "executionInfo": {
          "status": "ok",
          "timestamp": 1523044807747,
          "user_tz": -330,
          "elapsed": 839,
          "user": {
            "displayName": "Sharique Eliyas",
            "photoUrl": "//lh5.googleusercontent.com/-1NjURNXzbSA/AAAAAAAAAAI/AAAAAAAAABw/RxYorZL6W6c/s50-c-k-no/photo.jpg",
            "userId": "118408623472071970071"
          }
        }
      },
      "cell_type": "code",
      "source": [
        "train = df_hourly[:split]\n",
        "test = df_hourly[split:]\n",
        "print(train.shape)\n",
        "print(test.shape)"
      ],
      "execution_count": 23,
      "outputs": [
        {
          "output_type": "stream",
          "text": [
            "(24212, 1)\n",
            "(10377, 1)\n"
          ],
          "name": "stdout"
        }
      ]
    },
    {
      "metadata": {
        "id": "Rf7jB35PiYW8",
        "colab_type": "code",
        "colab": {
          "autoexec": {
            "startup": false,
            "wait_interval": 0
          }
        }
      },
      "cell_type": "code",
      "source": [
        "from statsmodels.tsa.arima_model import ARIMA\n",
        "from sklearn.metrics import mean_squared_error\n",
        "from sklearn.preprocessing import MinMaxScaler"
      ],
      "execution_count": 0,
      "outputs": []
    },
    {
      "metadata": {
        "id": "jt5VElLDinJe",
        "colab_type": "code",
        "colab": {
          "autoexec": {
            "startup": false,
            "wait_interval": 0
          }
        }
      },
      "cell_type": "code",
      "source": [
        "def evaluate_ARIMA_model(df,ratio,ordr):\n",
        "  X = df[['Global_active_power']].values\n",
        "  #normalize here\n",
        "  X = X.reshape(len(X),1)\n",
        "  scaler = MinMaxScaler(feature_range = (0,1))\n",
        "  scaler = scaler.fit(X)\n",
        "  X = scaler.transform(X)\n",
        "#   X = X.values\n",
        "  #normalize finsih\n",
        "  split = int((X.shape[0])*ratio)\n",
        "  train = X[:split]\n",
        "  test = X[split:]\n",
        "  print(train.shape)\n",
        "  print(test.shape)\n",
        "  #\n",
        "  history = [x for x in train]\n",
        "  predictions = list()\n",
        "  for t in range(len(test)):\n",
        "    model = ARIMA(history,order=ordr)\n",
        "    model_fit = model.fit(disp = 0)\n",
        "    output = model_fit.forecast()\n",
        "    yhat = output[0]\n",
        "    predictions.append(yhat)\n",
        "    obs = test[t]\n",
        "    history.append(obs)\n",
        "  error = mean_squared_error(test,predictions)\n",
        "  print(\"ARIMA(\",ordr,\") error = \",error)\n",
        "#   predictions = predictions.reshape(len(predictions),1)\n",
        "  predictions = scaler.inverse_transform(predictions)\n",
        "  test = scaler.inverse_transform(test)\n",
        "#   predictions = predictions.values\n",
        "  return (error,test,predictions)"
      ],
      "execution_count": 0,
      "outputs": []
    },
    {
      "metadata": {
        "id": "XgdjddKo38jL",
        "colab_type": "code",
        "colab": {
          "autoexec": {
            "startup": false,
            "wait_interval": 0
          }
        }
      },
      "cell_type": "code",
      "source": [
        "def parameter_tuning(df,p_max,d_max,q_max):\n",
        "  best_error=9999999999\n",
        "  for i in range(p_max):\n",
        "    for j in range(d_max):\n",
        "      for k in range(q_max):\n",
        "        order = (i,j,k)\n",
        "        val = evaluate_ARIMA_model(df,0.7,order)\n",
        "        if(val[0]<best_error):\n",
        "          best_error = val[0]\n",
        "          best_test = val[1]\n",
        "          best_predictions = val[2]\n",
        "          best_order = order\n",
        "  print(\"best order = \",best_order)\n",
        "  return (best_error,best_test,best_predictions,best_order)"
      ],
      "execution_count": 0,
      "outputs": []
    },
    {
      "metadata": {
        "id": "SYwdhmNk4EYs",
        "colab_type": "code",
        "colab": {
          "autoexec": {
            "startup": false,
            "wait_interval": 0
          },
          "output_extras": [
            {
              "item_id": 1
            },
            {
              "item_id": 3
            },
            {
              "item_id": 6
            }
          ],
          "base_uri": "https://localhost:8080/",
          "height": 462
        },
        "outputId": "72f37379-5e37-4bdc-ef1a-0a34fd61a422",
        "executionInfo": {
          "status": "ok",
          "timestamp": 1523045458777,
          "user_tz": -330,
          "elapsed": 2791,
          "user": {
            "displayName": "Sharique Eliyas",
            "photoUrl": "//lh5.googleusercontent.com/-1NjURNXzbSA/AAAAAAAAAAI/AAAAAAAAABw/RxYorZL6W6c/s50-c-k-no/photo.jpg",
            "userId": "118408623472071970071"
          }
        }
      },
      "cell_type": "code",
      "source": [
        "#output only on first 100 data points\n",
        "ans = parameter_tuning(df_hourly[:100],2,2,1)"
      ],
      "execution_count": 54,
      "outputs": [
        {
          "output_type": "stream",
          "text": [
            "(70, 1)\n",
            "(30, 1)\n",
            "('ARIMA(', (0, 0, 0), ') error = ', 0.09109554514986576)\n",
            "(70, 1)\n",
            "(30, 1)\n"
          ],
          "name": "stdout"
        },
        {
          "output_type": "stream",
          "text": [
            "/usr/local/lib/python2.7/dist-packages/statsmodels/base/model.py:496: ConvergenceWarning: Maximum Likelihood optimization failed to converge. Check mle_retvals\n",
            "  \"Check mle_retvals\", ConvergenceWarning)\n",
            "/usr/local/lib/python2.7/dist-packages/statsmodels/base/model.py:496: ConvergenceWarning: Maximum Likelihood optimization failed to converge. Check mle_retvals\n",
            "  \"Check mle_retvals\", ConvergenceWarning)\n",
            "/usr/local/lib/python2.7/dist-packages/statsmodels/base/model.py:496: ConvergenceWarning: Maximum Likelihood optimization failed to converge. Check mle_retvals\n",
            "  \"Check mle_retvals\", ConvergenceWarning)\n",
            "/usr/local/lib/python2.7/dist-packages/statsmodels/base/model.py:496: ConvergenceWarning: Maximum Likelihood optimization failed to converge. Check mle_retvals\n",
            "  \"Check mle_retvals\", ConvergenceWarning)\n",
            "/usr/local/lib/python2.7/dist-packages/statsmodels/base/model.py:496: ConvergenceWarning: Maximum Likelihood optimization failed to converge. Check mle_retvals\n",
            "  \"Check mle_retvals\", ConvergenceWarning)\n",
            "/usr/local/lib/python2.7/dist-packages/statsmodels/base/model.py:496: ConvergenceWarning: Maximum Likelihood optimization failed to converge. Check mle_retvals\n",
            "  \"Check mle_retvals\", ConvergenceWarning)\n"
          ],
          "name": "stderr"
        },
        {
          "output_type": "stream",
          "text": [
            "('ARIMA(', (0, 1, 0), ') error = ', 0.05843025284963123)\n",
            "(70, 1)\n",
            "(30, 1)\n",
            "('ARIMA(', (1, 0, 0), ') error = ', 0.050160533256089955)\n",
            "(70, 1)\n",
            "(30, 1)\n",
            "('ARIMA(', (1, 1, 0), ') error = ', 0.05933249491292189)\n",
            "('best order = ', (1, 0, 0))\n"
          ],
          "name": "stdout"
        }
      ]
    },
    {
      "metadata": {
        "id": "2Ulr_PPL8nGP",
        "colab_type": "code",
        "colab": {
          "autoexec": {
            "startup": false,
            "wait_interval": 0
          },
          "output_extras": [
            {
              "item_id": 1
            }
          ],
          "base_uri": "https://localhost:8080/",
          "height": 34
        },
        "outputId": "6a191efe-64f5-451c-f0ce-d9358498914a",
        "executionInfo": {
          "status": "ok",
          "timestamp": 1523045460763,
          "user_tz": -330,
          "elapsed": 949,
          "user": {
            "displayName": "Sharique Eliyas",
            "photoUrl": "//lh5.googleusercontent.com/-1NjURNXzbSA/AAAAAAAAAAI/AAAAAAAAABw/RxYorZL6W6c/s50-c-k-no/photo.jpg",
            "userId": "118408623472071970071"
          }
        }
      },
      "cell_type": "code",
      "source": [
        "print(\"Mean Square Error = %f\"%(ans[0]))"
      ],
      "execution_count": 55,
      "outputs": [
        {
          "output_type": "stream",
          "text": [
            "Mean Square Error = 0.050161\n"
          ],
          "name": "stdout"
        }
      ]
    },
    {
      "metadata": {
        "id": "I6bboMoWinVO",
        "colab_type": "code",
        "colab": {
          "autoexec": {
            "startup": false,
            "wait_interval": 0
          },
          "output_extras": [
            {
              "item_id": 1
            }
          ],
          "base_uri": "https://localhost:8080/",
          "height": 265
        },
        "outputId": "fdeef758-c977-44f1-8419-e5cd1b9a8033",
        "executionInfo": {
          "status": "ok",
          "timestamp": 1523045463126,
          "user_tz": -330,
          "elapsed": 1199,
          "user": {
            "displayName": "Sharique Eliyas",
            "photoUrl": "//lh5.googleusercontent.com/-1NjURNXzbSA/AAAAAAAAAAI/AAAAAAAAABw/RxYorZL6W6c/s50-c-k-no/photo.jpg",
            "userId": "118408623472071970071"
          }
        }
      },
      "cell_type": "code",
      "source": [
        "plt.plot(ans[1])\n",
        "plt.plot(ans[2],'r')\n",
        "plt.legend\n",
        "plt.show()"
      ],
      "execution_count": 56,
      "outputs": [
        {
          "output_type": "display_data",
          "data": {
            "image/png": "[encoded data removed]",
            "text/plain": [
              "<matplotlib.figure.Figure at 0x7f06b5317150>"
            ]
          },
          "metadata": {
            "tags": []
          }
        }
      ]
    },
    {
      "metadata": {
        "id": "NXUIsjTDjCRq",
        "colab_type": "code",
        "colab": {
          "autoexec": {
            "startup": false,
            "wait_interval": 0
          }
        }
      },
      "cell_type": "code",
      "source": [
        ""
      ],
      "execution_count": 0,
      "outputs": []
    }
  ]
}