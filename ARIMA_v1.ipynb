{
  "nbformat": 4,
  "nbformat_minor": 0,
  "metadata": {
    "colab": {
      "name": "ARIMA_v1.ipynb",
      "version": "0.3.2",
      "views": {},
      "default_view": {},
      "provenance": []
    }
  },
  "cells": [
    {
      "metadata": {
        "id": "Rz6DLtZo1G2H",
        "colab_type": "code",
        "colab": {
          "autoexec": {
            "startup": false,
            "wait_interval": 0
          }
        }
      },
      "cell_type": "code",
      "source": [
        "!wget -q https://archive.ics.uci.edu/ml/machine-learning-databases/00235/household_power_consumption.zip\n",
        "!unzip -q household_power_consumption.zip"
      ],
      "execution_count": 0,
      "outputs": []
    },
    {
      "metadata": {
        "id": "DKv5nLp-1RJH",
        "colab_type": "code",
        "colab": {
          "autoexec": {
            "startup": false,
            "wait_interval": 0
          }
        }
      },
      "cell_type": "code",
      "source": [
        "import numpy as np\n",
        "import pandas as pd\n",
        "import matplotlib.pyplot as plt\n",
        "import seaborn as sns\n",
        "%matplotlib inline"
      ],
      "execution_count": 0,
      "outputs": []
    },
    {
      "metadata": {
        "id": "7fqueymw1U67",
        "colab_type": "code",
        "colab": {
          "autoexec": {
            "startup": false,
            "wait_interval": 0
          }
        }
      },
      "cell_type": "code",
      "source": [
        "df = pd.read_csv('household_power_consumption.txt',sep=';')"
      ],
      "execution_count": 0,
      "outputs": []
    },
    {
      "metadata": {
        "id": "nilJIPd81YCZ",
        "colab_type": "code",
        "colab": {
          "autoexec": {
            "startup": false,
            "wait_interval": 0
          },
          "output_extras": [
            {
              "item_id": 1
            }
          ],
          "base_uri": "https://localhost:8080/",
          "height": 204
        },
        "outputId": "06d235a6-8be0-41ba-d926-c71b4efb589f",
        "executionInfo": {
          "status": "ok",
          "timestamp": 1522217297407,
          "user_tz": -330,
          "elapsed": 10377,
          "user": {
            "displayName": "Sharique Eliyas",
            "photoUrl": "//lh5.googleusercontent.com/-1NjURNXzbSA/AAAAAAAAAAI/AAAAAAAAABw/RxYorZL6W6c/s50-c-k-no/photo.jpg",
            "userId": "118408623472071970071"
          }
        }
      },
      "cell_type": "code",
      "source": [
        "# Making Time Stamp as Index\n",
        "df['TimeStamp'] = df['Date']+' '+df['Time']\n",
        "df['TimeStamp'] = pd.to_datetime(df['TimeStamp'],format = \"%d/%m/%Y %H:%M:%S\")\n",
        "df.index = df['TimeStamp']\n",
        "df.index.name = None\n",
        "df = df.drop(['Date','Time','TimeStamp'],axis = 1)\n",
        "df.head()"
      ],
      "execution_count": 50,
      "outputs": [
        {
          "output_type": "execute_result",
          "data": {
            "text/html": [
              "<div>\n",
              "<style scoped>\n",
              "    .dataframe tbody tr th:only-of-type {\n",
              "        vertical-align: middle;\n",
              "    }\n",
              "\n",
              "    .dataframe tbody tr th {\n",
              "        vertical-align: top;\n",
              "    }\n",
              "\n",
              "    .dataframe thead th {\n",
              "        text-align: right;\n",
              "    }\n",
              "</style>\n",
              "<table border=\"1\" class=\"dataframe\">\n",
              "  <thead>\n",
              "    <tr style=\"text-align: right;\">\n",
              "      <th></th>\n",
              "      <th>Global_active_power</th>\n",
              "      <th>Global_reactive_power</th>\n",
              "      <th>Voltage</th>\n",
              "      <th>Global_intensity</th>\n",
              "      <th>Sub_metering_1</th>\n",
              "      <th>Sub_metering_2</th>\n",
              "      <th>Sub_metering_3</th>\n",
              "    </tr>\n",
              "  </thead>\n",
              "  <tbody>\n",
              "    <tr>\n",
              "      <th>2006-12-16 17:24:00</th>\n",
              "      <td>4.216</td>\n",
              "      <td>0.418</td>\n",
              "      <td>234.840</td>\n",
              "      <td>18.400</td>\n",
              "      <td>0.000</td>\n",
              "      <td>1.000</td>\n",
              "      <td>17.0</td>\n",
              "    </tr>\n",
              "    <tr>\n",
              "      <th>2006-12-16 17:25:00</th>\n",
              "      <td>5.360</td>\n",
              "      <td>0.436</td>\n",
              "      <td>233.630</td>\n",
              "      <td>23.000</td>\n",
              "      <td>0.000</td>\n",
              "      <td>1.000</td>\n",
              "      <td>16.0</td>\n",
              "    </tr>\n",
              "    <tr>\n",
              "      <th>2006-12-16 17:26:00</th>\n",
              "      <td>5.374</td>\n",
              "      <td>0.498</td>\n",
              "      <td>233.290</td>\n",
              "      <td>23.000</td>\n",
              "      <td>0.000</td>\n",
              "      <td>2.000</td>\n",
              "      <td>17.0</td>\n",
              "    </tr>\n",
              "    <tr>\n",
              "      <th>2006-12-16 17:27:00</th>\n",
              "      <td>5.388</td>\n",
              "      <td>0.502</td>\n",
              "      <td>233.740</td>\n",
              "      <td>23.000</td>\n",
              "      <td>0.000</td>\n",
              "      <td>1.000</td>\n",
              "      <td>17.0</td>\n",
              "    </tr>\n",
              "    <tr>\n",
              "      <th>2006-12-16 17:28:00</th>\n",
              "      <td>3.666</td>\n",
              "      <td>0.528</td>\n",
              "      <td>235.680</td>\n",
              "      <td>15.800</td>\n",
              "      <td>0.000</td>\n",
              "      <td>1.000</td>\n",
              "      <td>17.0</td>\n",
              "    </tr>\n",
              "  </tbody>\n",
              "</table>\n",
              "</div>"
            ],
            "text/plain": [
              "                    Global_active_power Global_reactive_power  Voltage  \\\n",
              "2006-12-16 17:24:00               4.216                 0.418  234.840   \n",
              "2006-12-16 17:25:00               5.360                 0.436  233.630   \n",
              "2006-12-16 17:26:00               5.374                 0.498  233.290   \n",
              "2006-12-16 17:27:00               5.388                 0.502  233.740   \n",
              "2006-12-16 17:28:00               3.666                 0.528  235.680   \n",
              "\n",
              "                    Global_intensity Sub_metering_1 Sub_metering_2  \\\n",
              "2006-12-16 17:24:00           18.400          0.000          1.000   \n",
              "2006-12-16 17:25:00           23.000          0.000          1.000   \n",
              "2006-12-16 17:26:00           23.000          0.000          2.000   \n",
              "2006-12-16 17:27:00           23.000          0.000          1.000   \n",
              "2006-12-16 17:28:00           15.800          0.000          1.000   \n",
              "\n",
              "                     Sub_metering_3  \n",
              "2006-12-16 17:24:00            17.0  \n",
              "2006-12-16 17:25:00            16.0  \n",
              "2006-12-16 17:26:00            17.0  \n",
              "2006-12-16 17:27:00            17.0  \n",
              "2006-12-16 17:28:00            17.0  "
            ]
          },
          "metadata": {
            "tags": []
          },
          "execution_count": 50
        }
      ]
    },
    {
      "metadata": {
        "id": "k65cdIJS2HkS",
        "colab_type": "code",
        "colab": {
          "autoexec": {
            "startup": false,
            "wait_interval": 0
          },
          "output_extras": [
            {
              "item_id": 1
            }
          ],
          "base_uri": "https://localhost:8080/",
          "height": 88
        },
        "outputId": "357fe1e7-8500-4f71-c707-02b14d26b607",
        "executionInfo": {
          "status": "ok",
          "timestamp": 1522217303011,
          "user_tz": -330,
          "elapsed": 4524,
          "user": {
            "displayName": "Sharique Eliyas",
            "photoUrl": "//lh5.googleusercontent.com/-1NjURNXzbSA/AAAAAAAAAAI/AAAAAAAAABw/RxYorZL6W6c/s50-c-k-no/photo.jpg",
            "userId": "118408623472071970071"
          }
        }
      },
      "cell_type": "code",
      "source": [
        "#Convert the values present in string type to float64\n",
        "df = df.convert_objects(convert_numeric=True)"
      ],
      "execution_count": 51,
      "outputs": [
        {
          "output_type": "stream",
          "text": [
            "/usr/local/lib/python2.7/dist-packages/ipykernel_launcher.py:1: FutureWarning: convert_objects is deprecated.  To re-infer data dtypes for object columns, use DataFrame.infer_objects()\n",
            "For all other conversions use the data-type specific converters pd.to_datetime, pd.to_timedelta and pd.to_numeric.\n",
            "  \"\"\"Entry point for launching an IPython kernel.\n"
          ],
          "name": "stderr"
        }
      ]
    },
    {
      "metadata": {
        "id": "22TThbKl2U4w",
        "colab_type": "code",
        "colab": {
          "autoexec": {
            "startup": false,
            "wait_interval": 0
          },
          "output_extras": [
            {
              "item_id": 1
            }
          ],
          "base_uri": "https://localhost:8080/",
          "height": 153
        },
        "outputId": "f2e3fc22-ab63-4802-aa52-c883c63cac35",
        "executionInfo": {
          "status": "ok",
          "timestamp": 1522217305385,
          "user_tz": -330,
          "elapsed": 1164,
          "user": {
            "displayName": "Sharique Eliyas",
            "photoUrl": "//lh5.googleusercontent.com/-1NjURNXzbSA/AAAAAAAAAAI/AAAAAAAAABw/RxYorZL6W6c/s50-c-k-no/photo.jpg",
            "userId": "118408623472071970071"
          }
        }
      },
      "cell_type": "code",
      "source": [
        "df.isnull().sum()"
      ],
      "execution_count": 52,
      "outputs": [
        {
          "output_type": "execute_result",
          "data": {
            "text/plain": [
              "Global_active_power      25979\n",
              "Global_reactive_power    25979\n",
              "Voltage                  25979\n",
              "Global_intensity         25979\n",
              "Sub_metering_1           25979\n",
              "Sub_metering_2           25979\n",
              "Sub_metering_3           25979\n",
              "dtype: int64"
            ]
          },
          "metadata": {
            "tags": []
          },
          "execution_count": 52
        }
      ]
    },
    {
      "metadata": {
        "id": "2zUUW5RV5T27",
        "colab_type": "code",
        "colab": {
          "autoexec": {
            "startup": false,
            "wait_interval": 0
          },
          "output_extras": [
            {
              "item_id": 1
            }
          ],
          "base_uri": "https://localhost:8080/",
          "height": 153
        },
        "outputId": "47f0b6e2-5d23-4b4b-dd90-e68ea85f92a8",
        "executionInfo": {
          "status": "ok",
          "timestamp": 1522217311081,
          "user_tz": -330,
          "elapsed": 1213,
          "user": {
            "displayName": "Sharique Eliyas",
            "photoUrl": "//lh5.googleusercontent.com/-1NjURNXzbSA/AAAAAAAAAAI/AAAAAAAAABw/RxYorZL6W6c/s50-c-k-no/photo.jpg",
            "userId": "118408623472071970071"
          }
        }
      },
      "cell_type": "code",
      "source": [
        "df = df.ffill()\n",
        "df.isnull().sum()"
      ],
      "execution_count": 53,
      "outputs": [
        {
          "output_type": "execute_result",
          "data": {
            "text/plain": [
              "Global_active_power      0\n",
              "Global_reactive_power    0\n",
              "Voltage                  0\n",
              "Global_intensity         0\n",
              "Sub_metering_1           0\n",
              "Sub_metering_2           0\n",
              "Sub_metering_3           0\n",
              "dtype: int64"
            ]
          },
          "metadata": {
            "tags": []
          },
          "execution_count": 53
        }
      ]
    },
    {
      "metadata": {
        "id": "lz6LH15g5Zcb",
        "colab_type": "code",
        "colab": {
          "autoexec": {
            "startup": false,
            "wait_interval": 0
          },
          "output_extras": [
            {
              "item_id": 1
            },
            {
              "item_id": 2
            }
          ],
          "base_uri": "https://localhost:8080/",
          "height": 282
        },
        "outputId": "a307b868-2443-4bc7-a581-77f66893503a",
        "executionInfo": {
          "status": "ok",
          "timestamp": 1522209782437,
          "user_tz": -330,
          "elapsed": 64319,
          "user": {
            "displayName": "Sharique Eliyas",
            "photoUrl": "//lh5.googleusercontent.com/-1NjURNXzbSA/AAAAAAAAAAI/AAAAAAAAABw/RxYorZL6W6c/s50-c-k-no/photo.jpg",
            "userId": "118408623472071970071"
          }
        }
      },
      "cell_type": "code",
      "source": [
        "df.plot()"
      ],
      "execution_count": 15,
      "outputs": [
        {
          "output_type": "execute_result",
          "data": {
            "text/plain": [
              "<matplotlib.axes._subplots.AxesSubplot at 0x7f3cab1a4f10>"
            ]
          },
          "metadata": {
            "tags": []
          },
          "execution_count": 15
        },
        {
          "output_type": "display_data",
          "data": {
            "image/png": "[encoded data removed]",
            "text/plain": [
              "<matplotlib.figure.Figure at 0x7f3caa686e50>"
            ]
          },
          "metadata": {
            "tags": []
          }
        }
      ]
    },
    {
      "metadata": {
        "id": "ZKtSd6EjvyvV",
        "colab_type": "code",
        "colab": {
          "autoexec": {
            "startup": false,
            "wait_interval": 0
          },
          "output_extras": [
            {
              "item_id": 1
            }
          ],
          "base_uri": "https://localhost:8080/",
          "height": 204
        },
        "outputId": "5b464047-fef4-42fc-a76c-ea894f7021bb",
        "executionInfo": {
          "status": "ok",
          "timestamp": 1522217317179,
          "user_tz": -330,
          "elapsed": 1123,
          "user": {
            "displayName": "Sharique Eliyas",
            "photoUrl": "//lh5.googleusercontent.com/-1NjURNXzbSA/AAAAAAAAAAI/AAAAAAAAABw/RxYorZL6W6c/s50-c-k-no/photo.jpg",
            "userId": "118408623472071970071"
          }
        }
      },
      "cell_type": "code",
      "source": [
        "from pandas.tools.plotting import autocorrelation_plot\n",
        "newdf = df\n",
        "newdf = newdf.drop(['Global_reactive_power','Voltage','Global_intensity','Sub_metering_1','Sub_metering_2','Sub_metering_3'],axis=1)\n",
        "newdf.head()"
      ],
      "execution_count": 54,
      "outputs": [
        {
          "output_type": "execute_result",
          "data": {
            "text/html": [
              "<div>\n",
              "<style scoped>\n",
              "    .dataframe tbody tr th:only-of-type {\n",
              "        vertical-align: middle;\n",
              "    }\n",
              "\n",
              "    .dataframe tbody tr th {\n",
              "        vertical-align: top;\n",
              "    }\n",
              "\n",
              "    .dataframe thead th {\n",
              "        text-align: right;\n",
              "    }\n",
              "</style>\n",
              "<table border=\"1\" class=\"dataframe\">\n",
              "  <thead>\n",
              "    <tr style=\"text-align: right;\">\n",
              "      <th></th>\n",
              "      <th>Global_active_power</th>\n",
              "    </tr>\n",
              "  </thead>\n",
              "  <tbody>\n",
              "    <tr>\n",
              "      <th>2006-12-16 17:24:00</th>\n",
              "      <td>4.216</td>\n",
              "    </tr>\n",
              "    <tr>\n",
              "      <th>2006-12-16 17:25:00</th>\n",
              "      <td>5.360</td>\n",
              "    </tr>\n",
              "    <tr>\n",
              "      <th>2006-12-16 17:26:00</th>\n",
              "      <td>5.374</td>\n",
              "    </tr>\n",
              "    <tr>\n",
              "      <th>2006-12-16 17:27:00</th>\n",
              "      <td>5.388</td>\n",
              "    </tr>\n",
              "    <tr>\n",
              "      <th>2006-12-16 17:28:00</th>\n",
              "      <td>3.666</td>\n",
              "    </tr>\n",
              "  </tbody>\n",
              "</table>\n",
              "</div>"
            ],
            "text/plain": [
              "                     Global_active_power\n",
              "2006-12-16 17:24:00                4.216\n",
              "2006-12-16 17:25:00                5.360\n",
              "2006-12-16 17:26:00                5.374\n",
              "2006-12-16 17:27:00                5.388\n",
              "2006-12-16 17:28:00                3.666"
            ]
          },
          "metadata": {
            "tags": []
          },
          "execution_count": 54
        }
      ]
    },
    {
      "metadata": {
        "id": "AkSb1zWFyGZn",
        "colab_type": "code",
        "colab": {
          "autoexec": {
            "startup": false,
            "wait_interval": 0
          },
          "output_extras": [
            {
              "item_id": 1
            },
            {
              "item_id": 2
            },
            {
              "item_id": 3
            }
          ],
          "base_uri": "https://localhost:8080/",
          "height": 354
        },
        "outputId": "03ee8df3-4975-4e2c-9d52-4691207e346a",
        "executionInfo": {
          "status": "ok",
          "timestamp": 1522211351822,
          "user_tz": -330,
          "elapsed": 13953,
          "user": {
            "displayName": "Sharique Eliyas",
            "photoUrl": "//lh5.googleusercontent.com/-1NjURNXzbSA/AAAAAAAAAAI/AAAAAAAAABw/RxYorZL6W6c/s50-c-k-no/photo.jpg",
            "userId": "118408623472071970071"
          }
        }
      },
      "cell_type": "code",
      "source": [
        "autocorrelation_plot(newdf[:100000])"
      ],
      "execution_count": 41,
      "outputs": [
        {
          "output_type": "stream",
          "text": [
            "/usr/local/lib/python2.7/dist-packages/ipykernel_launcher.py:1: FutureWarning: 'pandas.tools.plotting.autocorrelation_plot' is deprecated, import 'pandas.plotting.autocorrelation_plot' instead.\n",
            "  \"\"\"Entry point for launching an IPython kernel.\n"
          ],
          "name": "stderr"
        },
        {
          "output_type": "execute_result",
          "data": {
            "text/plain": [
              "<matplotlib.axes._subplots.AxesSubplot at 0x7f3c60baea10>"
            ]
          },
          "metadata": {
            "tags": []
          },
          "execution_count": 41
        },
        {
          "output_type": "display_data",
          "data": {
            "image/png": "[encoded data removed]",
            "text/plain": [
              "<matplotlib.figure.Figure at 0x7f3c60b7ffd0>"
            ]
          },
          "metadata": {
            "tags": []
          }
        }
      ]
    },
    {
      "metadata": {
        "id": "wyP--6U10sIS",
        "colab_type": "code",
        "colab": {
          "autoexec": {
            "startup": false,
            "wait_interval": 0
          },
          "output_extras": [
            {
              "item_id": 1
            },
            {
              "item_id": 2
            },
            {
              "item_id": 3
            }
          ],
          "base_uri": "https://localhost:8080/",
          "height": 354
        },
        "outputId": "8d5b35e4-8540-4ead-d3ed-8640b51e02b6",
        "executionInfo": {
          "status": "ok",
          "timestamp": 1522217490984,
          "user_tz": -330,
          "elapsed": 1902,
          "user": {
            "displayName": "Sharique Eliyas",
            "photoUrl": "//lh5.googleusercontent.com/-1NjURNXzbSA/AAAAAAAAAAI/AAAAAAAAABw/RxYorZL6W6c/s50-c-k-no/photo.jpg",
            "userId": "118408623472071970071"
          }
        }
      },
      "cell_type": "code",
      "source": [
        "autocorrelation_plot(df[['Global_active_power','Global_intensity']][:20000])"
      ],
      "execution_count": 60,
      "outputs": [
        {
          "output_type": "stream",
          "text": [
            "/usr/local/lib/python2.7/dist-packages/ipykernel_launcher.py:1: FutureWarning: 'pandas.tools.plotting.autocorrelation_plot' is deprecated, import 'pandas.plotting.autocorrelation_plot' instead.\n",
            "  \"\"\"Entry point for launching an IPython kernel.\n"
          ],
          "name": "stderr"
        },
        {
          "output_type": "execute_result",
          "data": {
            "text/plain": [
              "<matplotlib.axes._subplots.AxesSubplot at 0x7f3c6000b690>"
            ]
          },
          "metadata": {
            "tags": []
          },
          "execution_count": 60
        },
        {
          "output_type": "display_data",
          "data": {
            "image/png": "[encoded data removed]",
            "text/plain": [
              "<matplotlib.figure.Figure at 0x7f3c608b23d0>"
            ]
          },
          "metadata": {
            "tags": []
          }
        }
      ]
    },
    {
      "metadata": {
        "id": "RK77FporI-ww",
        "colab_type": "code",
        "colab": {
          "autoexec": {
            "startup": false,
            "wait_interval": 0
          },
          "output_extras": [
            {
              "item_id": 1
            }
          ],
          "base_uri": "https://localhost:8080/",
          "height": 34
        },
        "outputId": "b94c93b8-3ac9-421c-cee8-0663a8148c20",
        "executionInfo": {
          "status": "ok",
          "timestamp": 1522218891513,
          "user_tz": -330,
          "elapsed": 1137,
          "user": {
            "displayName": "Sharique Eliyas",
            "photoUrl": "//lh5.googleusercontent.com/-1NjURNXzbSA/AAAAAAAAAAI/AAAAAAAAABw/RxYorZL6W6c/s50-c-k-no/photo.jpg",
            "userId": "118408623472071970071"
          }
        }
      },
      "cell_type": "code",
      "source": [
        "newdf = newdf[:100000]\n",
        "newdf.shape"
      ],
      "execution_count": 63,
      "outputs": [
        {
          "output_type": "execute_result",
          "data": {
            "text/plain": [
              "(100000, 1)"
            ]
          },
          "metadata": {
            "tags": []
          },
          "execution_count": 63
        }
      ]
    },
    {
      "metadata": {
        "id": "pDNEuPVgUAt9",
        "colab_type": "code",
        "colab": {
          "autoexec": {
            "startup": false,
            "wait_interval": 0
          },
          "output_extras": [
            {
              "item_id": 1
            }
          ],
          "base_uri": "https://localhost:8080/",
          "height": 34
        },
        "outputId": "3f85e77e-50fc-4db2-c1b3-0edc3b406207",
        "executionInfo": {
          "status": "ok",
          "timestamp": 1522218922377,
          "user_tz": -330,
          "elapsed": 1129,
          "user": {
            "displayName": "Sharique Eliyas",
            "photoUrl": "//lh5.googleusercontent.com/-1NjURNXzbSA/AAAAAAAAAAI/AAAAAAAAABw/RxYorZL6W6c/s50-c-k-no/photo.jpg",
            "userId": "118408623472071970071"
          }
        }
      },
      "cell_type": "code",
      "source": [
        "newdf[70000:100000].shape"
      ],
      "execution_count": 65,
      "outputs": [
        {
          "output_type": "execute_result",
          "data": {
            "text/plain": [
              "(30000, 1)"
            ]
          },
          "metadata": {
            "tags": []
          },
          "execution_count": 65
        }
      ]
    },
    {
      "metadata": {
        "id": "aYHe4RyPUTzv",
        "colab_type": "code",
        "colab": {
          "autoexec": {
            "startup": false,
            "wait_interval": 0
          },
          "output_extras": [
            {
              "item_id": 1
            }
          ],
          "base_uri": "https://localhost:8080/",
          "height": 51
        },
        "outputId": "c4e6290d-f55a-4016-c771-cde0c3248b80",
        "executionInfo": {
          "status": "ok",
          "timestamp": 1522221965686,
          "user_tz": -330,
          "elapsed": 1155,
          "user": {
            "displayName": "Sharique Eliyas",
            "photoUrl": "//lh5.googleusercontent.com/-1NjURNXzbSA/AAAAAAAAAAI/AAAAAAAAABw/RxYorZL6W6c/s50-c-k-no/photo.jpg",
            "userId": "118408623472071970071"
          }
        }
      },
      "cell_type": "code",
      "source": [
        "train = newdf[:70000]\n",
        "test = newdf[70000:1000000]\n",
        "print(train.shape)\n",
        "print(test.shape)"
      ],
      "execution_count": 112,
      "outputs": [
        {
          "output_type": "stream",
          "text": [
            "(70000, 1)\n",
            "(30000, 1)\n"
          ],
          "name": "stdout"
        }
      ]
    },
    {
      "metadata": {
        "id": "pwXrRmDqUjwF",
        "colab_type": "code",
        "colab": {
          "autoexec": {
            "startup": false,
            "wait_interval": 0
          },
          "output_extras": [
            {
              "item_id": 1
            }
          ],
          "base_uri": "https://localhost:8080/",
          "height": 71
        },
        "outputId": "084ccee0-3f09-4d46-f6c9-364ba2b92668",
        "executionInfo": {
          "status": "ok",
          "timestamp": 1522219010996,
          "user_tz": -330,
          "elapsed": 1050,
          "user": {
            "displayName": "Sharique Eliyas",
            "photoUrl": "//lh5.googleusercontent.com/-1NjURNXzbSA/AAAAAAAAAAI/AAAAAAAAABw/RxYorZL6W6c/s50-c-k-no/photo.jpg",
            "userId": "118408623472071970071"
          }
        }
      },
      "cell_type": "code",
      "source": [
        "from statsmodels.tsa.arima_model import ARIMA"
      ],
      "execution_count": 67,
      "outputs": [
        {
          "output_type": "stream",
          "text": [
            "/usr/local/lib/python2.7/dist-packages/statsmodels/compat/pandas.py:56: FutureWarning: The pandas.core.datetools module is deprecated and will be removed in a future version. Please use the pandas.tseries module instead.\n",
            "  from pandas.core import datetools\n"
          ],
          "name": "stderr"
        }
      ]
    },
    {
      "metadata": {
        "id": "TywfEdU2Uscg",
        "colab_type": "code",
        "colab": {
          "autoexec": {
            "startup": false,
            "wait_interval": 0
          }
        }
      },
      "cell_type": "code",
      "source": [
        "model = ARIMA(train,order=(5,1,0))"
      ],
      "execution_count": 0,
      "outputs": []
    },
    {
      "metadata": {
        "id": "ABTS3pIqVQBD",
        "colab_type": "code",
        "colab": {
          "autoexec": {
            "startup": false,
            "wait_interval": 0
          },
          "output_extras": [
            {
              "item_id": 2
            }
          ],
          "base_uri": "https://localhost:8080/",
          "height": 105
        },
        "outputId": "200ad30d-2510-44f9-8544-a461ce9d1896",
        "executionInfo": {
          "status": "ok",
          "timestamp": 1522219268435,
          "user_tz": -330,
          "elapsed": 2674,
          "user": {
            "displayName": "Sharique Eliyas",
            "photoUrl": "//lh5.googleusercontent.com/-1NjURNXzbSA/AAAAAAAAAAI/AAAAAAAAABw/RxYorZL6W6c/s50-c-k-no/photo.jpg",
            "userId": "118408623472071970071"
          }
        }
      },
      "cell_type": "code",
      "source": [
        "model_fit = model.fit(disp = 0)"
      ],
      "execution_count": 72,
      "outputs": [
        {
          "output_type": "stream",
          "text": [
            "/usr/local/lib/python2.7/dist-packages/statsmodels/tsa/kalmanf/kalmanfilter.py:646: FutureWarning: Conversion of the second argument of issubdtype from `float` to `np.floating` is deprecated. In future, it will be treated as `np.float64 == np.dtype(float).type`.\n",
            "  if issubdtype(paramsdtype, float):\n",
            "/usr/local/lib/python2.7/dist-packages/statsmodels/tsa/kalmanf/kalmanfilter.py:650: FutureWarning: Conversion of the second argument of issubdtype from `complex` to `np.complexfloating` is deprecated. In future, it will be treated as `np.complex128 == np.dtype(complex).type`.\n",
            "  elif issubdtype(paramsdtype, complex):\n"
          ],
          "name": "stderr"
        }
      ]
    },
    {
      "metadata": {
        "id": "Ecn3O9kjVbNU",
        "colab_type": "code",
        "colab": {
          "autoexec": {
            "startup": false,
            "wait_interval": 0
          },
          "output_extras": [
            {
              "item_id": 1
            }
          ],
          "base_uri": "https://localhost:8080/",
          "height": 493
        },
        "outputId": "d7ae3e4d-56f8-46d1-bb13-3d1c2e277d2e",
        "executionInfo": {
          "status": "ok",
          "timestamp": 1522219275298,
          "user_tz": -330,
          "elapsed": 2365,
          "user": {
            "displayName": "Sharique Eliyas",
            "photoUrl": "//lh5.googleusercontent.com/-1NjURNXzbSA/AAAAAAAAAAI/AAAAAAAAABw/RxYorZL6W6c/s50-c-k-no/photo.jpg",
            "userId": "118408623472071970071"
          }
        }
      },
      "cell_type": "code",
      "source": [
        "print(model_fit.summary())"
      ],
      "execution_count": 73,
      "outputs": [
        {
          "output_type": "stream",
          "text": [
            "                               ARIMA Model Results                               \n",
            "=================================================================================\n",
            "Dep. Variable:     D.Global_active_power   No. Observations:                69999\n",
            "Model:                    ARIMA(5, 1, 0)   Log Likelihood              -34692.744\n",
            "Method:                          css-mle   S.D. of innovations              0.397\n",
            "Date:                   Wed, 28 Mar 2018   AIC                          69399.487\n",
            "Time:                           06:41:27   BIC                          69463.581\n",
            "Sample:                       12-16-2006   HQIC                         69419.255\n",
            "                            - 02-03-2007                                         \n",
            "===============================================================================================\n",
            "                                  coef    std err          z      P>|z|      [0.025      0.975]\n",
            "-----------------------------------------------------------------------------------------------\n",
            "const                       -3.373e-05      0.001     -0.040      0.968      -0.002       0.002\n",
            "ar.L1.D.Global_active_power    -0.0581      0.004    -15.374      0.000      -0.065      -0.051\n",
            "ar.L2.D.Global_active_power    -0.3065      0.004    -82.881      0.000      -0.314      -0.299\n",
            "ar.L3.D.Global_active_power    -0.1514      0.004    -39.506      0.000      -0.159      -0.144\n",
            "ar.L4.D.Global_active_power    -0.2120      0.004    -57.333      0.000      -0.219      -0.205\n",
            "ar.L5.D.Global_active_power    -0.0381      0.004    -10.091      0.000      -0.046      -0.031\n",
            "                                    Roots                                    \n",
            "=============================================================================\n",
            "                 Real           Imaginary           Modulus         Frequency\n",
            "-----------------------------------------------------------------------------\n",
            "AR.1            0.7523           -1.1187j            1.3481           -0.1558\n",
            "AR.2            0.7523           +1.1187j            1.3481            0.1558\n",
            "AR.3           -0.9734           -1.3681j            1.6790           -0.3484\n",
            "AR.4           -0.9734           +1.3681j            1.6790            0.3484\n",
            "AR.5           -5.1198           -0.0000j            5.1198           -0.5000\n",
            "-----------------------------------------------------------------------------\n"
          ],
          "name": "stdout"
        }
      ]
    },
    {
      "metadata": {
        "id": "YgQ6I3XeVsph",
        "colab_type": "code",
        "colab": {
          "autoexec": {
            "startup": false,
            "wait_interval": 0
          },
          "output_extras": [
            {
              "item_id": 1
            }
          ],
          "base_uri": "https://localhost:8080/",
          "height": 71
        },
        "outputId": "04360d33-f293-4bd2-af90-829b3fc629a3",
        "executionInfo": {
          "status": "ok",
          "timestamp": 1522219342113,
          "user_tz": -330,
          "elapsed": 1280,
          "user": {
            "displayName": "Sharique Eliyas",
            "photoUrl": "//lh5.googleusercontent.com/-1NjURNXzbSA/AAAAAAAAAAI/AAAAAAAAABw/RxYorZL6W6c/s50-c-k-no/photo.jpg",
            "userId": "118408623472071970071"
          }
        }
      },
      "cell_type": "code",
      "source": [
        "residuals = pd.DataFrame(model_fit.resid)"
      ],
      "execution_count": 75,
      "outputs": [
        {
          "output_type": "stream",
          "text": [
            "/usr/local/lib/python2.7/dist-packages/statsmodels/tsa/kalmanf/kalmanfilter.py:577: FutureWarning: Conversion of the second argument of issubdtype from `float` to `np.floating` is deprecated. In future, it will be treated as `np.float64 == np.dtype(float).type`.\n",
            "  if issubdtype(paramsdtype, float):\n"
          ],
          "name": "stderr"
        }
      ]
    },
    {
      "metadata": {
        "id": "BgS72UNVV7Vn",
        "colab_type": "code",
        "colab": {
          "autoexec": {
            "startup": false,
            "wait_interval": 0
          },
          "output_extras": [
            {
              "item_id": 1
            },
            {
              "item_id": 2
            }
          ],
          "base_uri": "https://localhost:8080/",
          "height": 317
        },
        "outputId": "04f8bc54-0126-4111-ff58-85045690e580",
        "executionInfo": {
          "status": "ok",
          "timestamp": 1522219361677,
          "user_tz": -330,
          "elapsed": 2114,
          "user": {
            "displayName": "Sharique Eliyas",
            "photoUrl": "//lh5.googleusercontent.com/-1NjURNXzbSA/AAAAAAAAAAI/AAAAAAAAABw/RxYorZL6W6c/s50-c-k-no/photo.jpg",
            "userId": "118408623472071970071"
          }
        }
      },
      "cell_type": "code",
      "source": [
        "residuals.plot()"
      ],
      "execution_count": 76,
      "outputs": [
        {
          "output_type": "execute_result",
          "data": {
            "text/plain": [
              "<matplotlib.axes._subplots.AxesSubplot at 0x7f3c5e788a50>"
            ]
          },
          "metadata": {
            "tags": []
          },
          "execution_count": 76
        },
        {
          "output_type": "display_data",
          "data": {
            "image/png": "[encoded data removed]",
            "text/plain": [
              "<matplotlib.figure.Figure at 0x7f3c5e852e10>"
            ]
          },
          "metadata": {
            "tags": []
          }
        }
      ]
    },
    {
      "metadata": {
        "id": "JcYJyCL3WBzJ",
        "colab_type": "code",
        "colab": {
          "autoexec": {
            "startup": false,
            "wait_interval": 0
          },
          "output_extras": [
            {
              "item_id": 1
            },
            {
              "item_id": 2
            }
          ],
          "base_uri": "https://localhost:8080/",
          "height": 282
        },
        "outputId": "e15cf093-a544-43bb-9c09-b469b90053ce",
        "executionInfo": {
          "status": "ok",
          "timestamp": 1522219394151,
          "user_tz": -330,
          "elapsed": 2994,
          "user": {
            "displayName": "Sharique Eliyas",
            "photoUrl": "//lh5.googleusercontent.com/-1NjURNXzbSA/AAAAAAAAAAI/AAAAAAAAABw/RxYorZL6W6c/s50-c-k-no/photo.jpg",
            "userId": "118408623472071970071"
          }
        }
      },
      "cell_type": "code",
      "source": [
        "residuals.plot(kind='kde')"
      ],
      "execution_count": 77,
      "outputs": [
        {
          "output_type": "execute_result",
          "data": {
            "text/plain": [
              "<matplotlib.axes._subplots.AxesSubplot at 0x7f3c5e197b10>"
            ]
          },
          "metadata": {
            "tags": []
          },
          "execution_count": 77
        },
        {
          "output_type": "display_data",
          "data": {
            "image/png": "[encoded data removed]",
            "text/plain": [
              "<matplotlib.figure.Figure at 0x7f3c5e1a19d0>"
            ]
          },
          "metadata": {
            "tags": []
          }
        }
      ]
    },
    {
      "metadata": {
        "id": "mY2gFylTWJgq",
        "colab_type": "code",
        "colab": {
          "autoexec": {
            "startup": false,
            "wait_interval": 0
          },
          "output_extras": [
            {
              "item_id": 1
            }
          ],
          "base_uri": "https://localhost:8080/",
          "height": 170
        },
        "outputId": "c638e8ea-b286-4d92-d7a0-a349331a9bd7",
        "executionInfo": {
          "status": "ok",
          "timestamp": 1522219427204,
          "user_tz": -330,
          "elapsed": 1086,
          "user": {
            "displayName": "Sharique Eliyas",
            "photoUrl": "//lh5.googleusercontent.com/-1NjURNXzbSA/AAAAAAAAAAI/AAAAAAAAABw/RxYorZL6W6c/s50-c-k-no/photo.jpg",
            "userId": "118408623472071970071"
          }
        }
      },
      "cell_type": "code",
      "source": [
        "print(residuals.describe())"
      ],
      "execution_count": 78,
      "outputs": [
        {
          "output_type": "stream",
          "text": [
            "                  0\n",
            "count  69999.000000\n",
            "mean       0.000004\n",
            "std        0.397205\n",
            "min       -3.845973\n",
            "25%       -0.030093\n",
            "50%       -0.001252\n",
            "75%        0.025593\n",
            "max        4.238326\n"
          ],
          "name": "stdout"
        }
      ]
    },
    {
      "metadata": {
        "id": "pWJaOlpnWSC9",
        "colab_type": "code",
        "colab": {
          "autoexec": {
            "startup": false,
            "wait_interval": 0
          }
        }
      },
      "cell_type": "code",
      "source": [
        "history = train"
      ],
      "execution_count": 0,
      "outputs": []
    },
    {
      "metadata": {
        "id": "JW87UxrwXBLi",
        "colab_type": "code",
        "colab": {
          "autoexec": {
            "startup": false,
            "wait_interval": 0
          }
        }
      },
      "cell_type": "code",
      "source": [
        "predictions = list()"
      ],
      "execution_count": 0,
      "outputs": []
    },
    {
      "metadata": {
        "id": "9LjqploWXDb2",
        "colab_type": "code",
        "colab": {
          "autoexec": {
            "startup": false,
            "wait_interval": 0
          },
          "output_extras": [
            {
              "item_id": 1
            }
          ],
          "base_uri": "https://localhost:8080/",
          "height": 34
        },
        "outputId": "493a1ff2-24cb-4dbc-d92e-de2ec4d926fd",
        "executionInfo": {
          "status": "ok",
          "timestamp": 1522222342191,
          "user_tz": -330,
          "elapsed": 1250,
          "user": {
            "displayName": "Sharique Eliyas",
            "photoUrl": "//lh5.googleusercontent.com/-1NjURNXzbSA/AAAAAAAAAAI/AAAAAAAAABw/RxYorZL6W6c/s50-c-k-no/photo.jpg",
            "userId": "118408623472071970071"
          }
        }
      },
      "cell_type": "code",
      "source": [
        "X = df[['Global_active_power']][:1000].values\n",
        "X.shape"
      ],
      "execution_count": 132,
      "outputs": [
        {
          "output_type": "execute_result",
          "data": {
            "text/plain": [
              "(1000, 1)"
            ]
          },
          "metadata": {
            "tags": []
          },
          "execution_count": 132
        }
      ]
    },
    {
      "metadata": {
        "id": "j0JPT8VJXsu5",
        "colab_type": "code",
        "colab": {
          "autoexec": {
            "startup": false,
            "wait_interval": 0
          }
        }
      },
      "cell_type": "code",
      "source": [
        "size = int(len(X)*0.66)"
      ],
      "execution_count": 0,
      "outputs": []
    },
    {
      "metadata": {
        "id": "zGebq5c4heem",
        "colab_type": "code",
        "colab": {
          "autoexec": {
            "startup": false,
            "wait_interval": 0
          }
        }
      },
      "cell_type": "code",
      "source": [
        "train,test = X[0:size],X[size:len(X)]"
      ],
      "execution_count": 0,
      "outputs": []
    },
    {
      "metadata": {
        "id": "zAWZw_q1hise",
        "colab_type": "code",
        "colab": {
          "autoexec": {
            "startup": false,
            "wait_interval": 0
          },
          "output_extras": [
            {
              "item_id": 1
            }
          ],
          "base_uri": "https://localhost:8080/",
          "height": 34
        },
        "outputId": "6139ff4b-933c-4ef4-8cde-964fc5690988",
        "executionInfo": {
          "status": "ok",
          "timestamp": 1522222426448,
          "user_tz": -330,
          "elapsed": 1139,
          "user": {
            "displayName": "Sharique Eliyas",
            "photoUrl": "//lh5.googleusercontent.com/-1NjURNXzbSA/AAAAAAAAAAI/AAAAAAAAABw/RxYorZL6W6c/s50-c-k-no/photo.jpg",
            "userId": "118408623472071970071"
          }
        }
      },
      "cell_type": "code",
      "source": [
        "history = [x for x in train]\n",
        "len(history)"
      ],
      "execution_count": 138,
      "outputs": [
        {
          "output_type": "execute_result",
          "data": {
            "text/plain": [
              "660"
            ]
          },
          "metadata": {
            "tags": []
          },
          "execution_count": 138
        }
      ]
    },
    {
      "metadata": {
        "id": "EdrPeT6uhpc8",
        "colab_type": "code",
        "colab": {
          "autoexec": {
            "startup": false,
            "wait_interval": 0
          }
        }
      },
      "cell_type": "code",
      "source": [
        "predictions = list()"
      ],
      "execution_count": 0,
      "outputs": []
    },
    {
      "metadata": {
        "id": "2kMw27KyhyOg",
        "colab_type": "code",
        "colab": {
          "autoexec": {
            "startup": false,
            "wait_interval": 0
          },
          "output_extras": [
            {
              "item_id": 37
            },
            {
              "item_id": 100
            }
          ],
          "base_uri": "https://localhost:8080/",
          "height": 2329
        },
        "outputId": "705773bf-c6bf-4af5-a6b1-e7d182203111"
      },
      "cell_type": "code",
      "source": [
        "for t in range(len(test)):\n",
        "  model = ARIMA(history,order=(5,1,0))\n",
        "  model_fit = model.fit(disp = 0)\n",
        "  output = model_fit.forecast()\n",
        "  yhat = output[0]\n",
        "  predictions.append(yhat)\n",
        "  obs = test[t]\n",
        "  history.append(obs)\n",
        "  print('predicted = %f ,expected = %f'%(yhat,obs))"
      ],
      "execution_count": 0,
      "outputs": [
        {
          "output_type": "stream",
          "text": [
            "predicted = 2.414091 ,expected = 0.516000\n",
            "predicted = 0.395558 ,expected = 2.426000\n",
            "predicted = 2.213086 ,expected = 2.430000\n",
            "predicted = 1.922695 ,expected = 2.424000\n",
            "predicted = 2.306499 ,expected = 2.306000\n",
            "predicted = 1.765363 ,expected = 0.288000\n",
            "predicted = 0.764951 ,expected = 0.756000\n",
            "predicted = 1.721624 ,expected = 3.498000\n",
            "predicted = 3.382968 ,expected = 3.522000\n",
            "predicted = 2.606750 ,expected = 3.460000\n",
            "predicted = 2.323502 ,expected = 3.434000\n",
            "predicted = 2.482224 ,expected = 1.646000\n",
            "predicted = 1.988516 ,expected = 1.336000\n",
            "predicted = 2.371270 ,expected = 2.874000\n",
            "predicted = 3.348263 ,expected = 3.410000\n",
            "predicted = 3.218508 ,expected = 3.412000\n",
            "predicted = 2.732309 ,expected = 3.386000\n",
            "predicted = 2.653640 ,expected = 1.844000\n",
            "predicted = 1.969786 ,expected = 1.414000\n",
            "predicted = 2.305229 ,expected = 3.352000\n",
            "predicted = 3.692240 ,expected = 3.500000\n",
            "predicted = 3.156483 ,expected = 3.516000\n",
            "predicted = 2.915123 ,expected = 3.174000\n",
            "predicted = 2.521654 ,expected = 1.428000\n",
            "predicted = 1.881537 ,expected = 1.994000\n",
            "predicted = 2.884019 ,expected = 3.492000\n",
            "predicted = 3.609132 ,expected = 3.460000\n",
            "predicted = 3.101227 ,expected = 3.492000\n",
            "predicted = 2.805995 ,expected = 3.482000\n",
            "predicted = 2.906210 ,expected = 1.492000\n",
            "predicted = 1.913115 ,expected = 1.326000\n",
            "predicted = 2.410291 ,expected = 3.282000\n",
            "predicted = 3.643456 ,expected = 3.422000\n",
            "predicted = 3.131817 ,expected = 3.424000\n",
            "predicted = 2.762314 ,expected = 3.254000\n",
            "predicted = 2.533418 ,expected = 1.320000\n",
            "predicted = 1.730354 ,expected = 2.294000\n",
            "predicted = 3.128139 ,expected = 3.400000\n",
            "predicted = 3.405109 ,expected = 3.402000\n",
            "predicted = 3.152939 ,expected = 3.418000\n",
            "predicted = 2.732926 ,expected = 2.994000\n",
            "predicted = 2.624329 ,expected = 1.326000\n",
            "predicted = 1.900903 ,expected = 2.020000\n",
            "predicted = 2.887961 ,expected = 3.378000\n",
            "predicted = 3.458000 ,expected = 3.372000\n",
            "predicted = 3.017310 ,expected = 3.374000\n",
            "predicted = 2.688702 ,expected = 3.426000\n",
            "predicted = 2.863096 ,expected = 1.462000\n",
            "predicted = 1.849730 ,expected = 1.834000\n",
            "predicted = 2.768499 ,expected = 3.462000\n",
            "predicted = 3.581734 ,expected = 3.486000\n",
            "predicted = 3.186700 ,expected = 2.910000\n",
            "predicted = 2.395287 ,expected = 0.936000\n",
            "predicted = 1.104899 ,expected = 0.338000\n",
            "predicted = 1.662710 ,expected = 1.926000\n",
            "predicted = 2.820215 ,expected = 2.420000\n",
            "predicted = 2.440236 ,expected = 2.438000\n",
            "predicted = 1.888622 ,expected = 2.430000\n",
            "predicted = 1.664276 ,expected = 2.454000\n",
            "predicted = 2.156570 ,expected = 0.424000\n",
            "predicted = 0.889396 ,expected = 0.716000\n",
            "predicted = 1.723215 ,expected = 2.462000\n",
            "predicted = 2.631688 ,expected = 2.460000\n",
            "predicted = 2.157318 ,expected = 2.418000\n",
            "predicted = 1.768565 ,expected = 1.000000\n",
            "predicted = 0.702245 ,expected = 0.298000\n",
            "predicted = 1.142075 ,expected = 1.650000\n",
            "predicted = 2.245543 ,expected = 2.310000\n"
          ],
          "name": "stdout"
        },
        {
          "output_type": "stream",
          "text": [
            "predicted = 2.213468 ,expected = 2.332000\n",
            "predicted = 1.791645 ,expected = 2.242000\n",
            "predicted = 1.522323 ,expected = 0.224000\n",
            "predicted = 0.437167 ,expected = 0.752000\n",
            "predicted = 1.688638 ,expected = 2.330000\n",
            "predicted = 2.449933 ,expected = 2.322000\n",
            "predicted = 2.027848 ,expected = 2.312000\n",
            "predicted = 1.624104 ,expected = 0.760000\n",
            "predicted = 0.524972 ,expected = 0.364000\n",
            "predicted = 1.211060 ,expected = 2.336000\n",
            "predicted = 2.646324 ,expected = 2.312000\n",
            "predicted = 1.986081 ,expected = 2.332000\n",
            "predicted = 1.810225 ,expected = 0.856000\n",
            "predicted = 0.497697 ,expected = 0.864000\n",
            "predicted = 1.539991 ,expected = 2.302000\n",
            "predicted = 2.489565 ,expected = 2.324000\n",
            "predicted = 2.089027 ,expected = 1.852000\n",
            "predicted = 1.476995 ,expected = 0.226000\n",
            "predicted = 0.338050 ,expected = 2.184000\n",
            "predicted = 2.643303 ,expected = 2.380000\n",
            "predicted = 2.074295 ,expected = 1.920000\n",
            "predicted = 1.803602 ,expected = 0.254000\n",
            "predicted = 0.212746 ,expected = 2.164000\n",
            "predicted = 2.540638 ,expected = 2.554000\n",
            "predicted = 2.227275 ,expected = 2.026000\n",
            "predicted = 1.840317 ,expected = 0.414000\n",
            "predicted = 0.361837 ,expected = 2.106000\n",
            "predicted = 2.461155 ,expected = 2.522000\n",
            "predicted = 2.298580 ,expected = 2.076000\n",
            "predicted = 1.914127 ,expected = 0.402000\n",
            "predicted = 0.407334 ,expected = 2.118000\n",
            "predicted = 2.466632 ,expected = 2.486000\n",
            "predicted = 2.255183 ,expected = 1.340000\n",
            "predicted = 1.393992 ,expected = 0.666000\n",
            "predicted = 0.815662 ,expected = 2.440000\n",
            "predicted = 2.522389 ,expected = 2.426000\n",
            "predicted = 2.109614 ,expected = 1.278000\n",
            "predicted = 1.202281 ,expected = 0.430000\n",
            "predicted = 0.701011 ,expected = 2.426000\n",
            "predicted = 2.678849 ,expected = 2.382000\n",
            "predicted = 2.045836 ,expected = 2.406000\n",
            "predicted = 1.993712 ,expected = 0.330000\n",
            "predicted = 0.247223 ,expected = 1.208000\n",
            "predicted = 1.951325 ,expected = 2.406000\n",
            "predicted = 2.438633 ,expected = 2.442000\n",
            "predicted = 2.141703 ,expected = 2.426000\n",
            "predicted = 1.753456 ,expected = 2.432000\n",
            "predicted = 1.914995 ,expected = 2.414000\n",
            "predicted = 2.308030 ,expected = 0.484000\n",
            "predicted = 1.025830 ,expected = 0.312000\n",
            "predicted = 1.430524 ,expected = 2.352000\n",
            "predicted = 2.685409 ,expected = 2.428000\n",
            "predicted = 2.032993 ,expected = 2.582000\n",
            "predicted = 1.863387 ,expected = 2.784000\n",
            "predicted = 1.880830 ,expected = 2.680000\n",
            "predicted = 2.329260 ,expected = 1.420000\n",
            "predicted = 1.675816 ,expected = 0.908000\n",
            "predicted = 1.701904 ,expected = 3.194000\n",
            "predicted = 3.384972 ,expected = 3.328000\n",
            "predicted = 2.685002 ,expected = 2.670000\n",
            "predicted = 2.115319 ,expected = 1.238000\n",
            "predicted = 1.161452 ,expected = 1.120000\n",
            "predicted = 1.975702 ,expected = 0.592000\n",
            "predicted = 1.622394 ,expected = 0.800000\n",
            "predicted = 1.650891 ,expected = 0.820000\n",
            "predicted = 1.076848 ,expected = 0.796000\n",
            "predicted = 0.895347 ,expected = 0.798000\n",
            "predicted = 0.765071 ,expected = 0.694000\n"
          ],
          "name": "stdout"
        }
      ]
    },
    {
      "metadata": {
        "id": "7FtPSCmuiPJ_",
        "colab_type": "code",
        "colab": {
          "autoexec": {
            "startup": false,
            "wait_interval": 0
          },
          "output_extras": [
            {
              "item_id": 1
            }
          ],
          "base_uri": "https://localhost:8080/",
          "height": 34
        },
        "outputId": "7468eeb0-eaa6-4dc2-ea6b-845a216f317d",
        "executionInfo": {
          "status": "ok",
          "timestamp": 1522222851046,
          "user_tz": -330,
          "elapsed": 1117,
          "user": {
            "displayName": "Sharique Eliyas",
            "photoUrl": "//lh5.googleusercontent.com/-1NjURNXzbSA/AAAAAAAAAAI/AAAAAAAAABw/RxYorZL6W6c/s50-c-k-no/photo.jpg",
            "userId": "118408623472071970071"
          }
        }
      },
      "cell_type": "code",
      "source": [
        "from sklearn.metrics import mean_squared_error\n",
        "error = mean_squared_error(test,predictions)\n",
        "print(error)"
      ],
      "execution_count": 142,
      "outputs": [
        {
          "output_type": "stream",
          "text": [
            "0.6806499943395359\n"
          ],
          "name": "stdout"
        }
      ]
    },
    {
      "metadata": {
        "id": "4fouROO2jOAd",
        "colab_type": "code",
        "colab": {
          "autoexec": {
            "startup": false,
            "wait_interval": 0
          },
          "output_extras": [
            {
              "item_id": 1
            }
          ],
          "base_uri": "https://localhost:8080/",
          "height": 265
        },
        "outputId": "eda1d4ca-e7a5-4afd-9655-0ee814997d4f",
        "executionInfo": {
          "status": "ok",
          "timestamp": 1522222900655,
          "user_tz": -330,
          "elapsed": 1443,
          "user": {
            "displayName": "Sharique Eliyas",
            "photoUrl": "//lh5.googleusercontent.com/-1NjURNXzbSA/AAAAAAAAAAI/AAAAAAAAABw/RxYorZL6W6c/s50-c-k-no/photo.jpg",
            "userId": "118408623472071970071"
          }
        }
      },
      "cell_type": "code",
      "source": [
        "plt.plot(test)\n",
        "plt.plot(predictions,color = 'red')\n",
        "plt.show()"
      ],
      "execution_count": 143,
      "outputs": [
        {
          "output_type": "display_data",
          "data": {
            "image/png": "[encoded data removed]",
            "text/plain": [
              "<matplotlib.figure.Figure at 0x7f3c5cf5af50>"
            ]
          },
          "metadata": {
            "tags": []
          }
        }
      ]
    },
    {
      "metadata": {
        "id": "9W7ytFD2jh-D",
        "colab_type": "code",
        "colab": {
          "autoexec": {
            "startup": false,
            "wait_interval": 0
          }
        }
      },
      "cell_type": "code",
      "source": [
        ""
      ],
      "execution_count": 0,
      "outputs": []
    }
  ]
}